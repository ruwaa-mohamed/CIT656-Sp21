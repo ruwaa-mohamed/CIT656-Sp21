{
 "cells": [
  {
   "cell_type": "markdown",
   "id": "a6421edd-203b-4c10-8c44-469b4a4121c9",
   "metadata": {},
   "source": [
    "# CIT656 - Spring 2021\n",
    "## Lab 8 - June 13, 2021"
   ]
  },
  {
   "cell_type": "markdown",
   "id": "89023552-3583-4f92-ada7-5fe1f0fd29d7",
   "metadata": {},
   "source": [
    "### Exercise 1\n",
    "A common sequence of a collection of sequences is a subsequence of every member of the collection. We say that a common subsequence is a longest common subsequence if there does not exist a longer common subsequence. For example, \"CG\" is a common substring of \"ACGTACGT\" and \"AACCGTATA\", but it is not as long as possible; in this case, \"CGTA\" is a longest common substring of \"ACGTACGT\" and \"AACCGTATA\". Note that the longest common substring is not necessarily unique.\n",
    "\n",
    "Write a program where the input is two sequences and the output is the longest common\n",
    "subsequence."
   ]
  },
  {
   "cell_type": "code",
   "execution_count": null,
   "id": "73a75e6d-6fe1-4379-9e2b-b6f9ad4c721b",
   "metadata": {},
   "outputs": [],
   "source": []
  },
  {
   "cell_type": "code",
   "execution_count": null,
   "id": "a2e43dfb-09c6-450e-bf0b-d729a61ce561",
   "metadata": {},
   "outputs": [],
   "source": []
  },
  {
   "cell_type": "code",
   "execution_count": null,
   "id": "5b85f824-7487-408a-87f4-9f5e66d82e3d",
   "metadata": {},
   "outputs": [],
   "source": []
  },
  {
   "cell_type": "code",
   "execution_count": null,
   "id": "9f79b1bd-d09d-4e21-a554-d65ebee61884",
   "metadata": {},
   "outputs": [],
   "source": []
  },
  {
   "cell_type": "markdown",
   "id": "48d028a4-0d8f-469b-99e2-04708f5e2880",
   "metadata": {},
   "source": [
    "### Exercise 2\n",
    "Given two Sequences S and T of equal length, the Hamming distance between S and T, denoted by H(S,T), is the number of corresponding symbols that differ in S and T. Write a program that takes two sequences and calculate the hamming distance between them."
   ]
  },
  {
   "cell_type": "code",
   "execution_count": null,
   "id": "f9103e4d-3c48-44e8-b196-72412e5a11dd",
   "metadata": {},
   "outputs": [],
   "source": []
  },
  {
   "cell_type": "code",
   "execution_count": null,
   "id": "dffdd5cd-c2cf-4c70-8f1e-3065744b6f1f",
   "metadata": {},
   "outputs": [],
   "source": []
  },
  {
   "cell_type": "markdown",
   "id": "5b575917-fc86-45e5-a6a8-73397babf623",
   "metadata": {},
   "source": [
    "### Exercise 3\n",
    "Use dictionaries to count the bases in a sequence\n",
    "\n",
    "\n",
    "Sample output\n",
    "```python\n",
    ">>> Enter a sequence: TKKAMRCRAATARKWC\n",
    ">>> Counts={}\n",
    ">>> print(Counts)\n",
    "{'A': 4, 'C': 2, 'B': 0, 'D': 0, 'G': 0, 'H': 0, 'K': 3, 'M': 1, 'N': 0, 'S': 0, 'R': 3, 'T': 2, 'W': 1, 'V': 0, 'Y': 0}\n",
    "```"
   ]
  },
  {
   "cell_type": "code",
   "execution_count": null,
   "id": "20e0517b-39cd-4738-8053-f2c19c45263b",
   "metadata": {},
   "outputs": [],
   "source": []
  },
  {
   "cell_type": "code",
   "execution_count": null,
   "id": "0b8faa11-cd6f-43da-8ffc-a07c26279ce3",
   "metadata": {},
   "outputs": [],
   "source": []
  },
  {
   "cell_type": "code",
   "execution_count": null,
   "id": "dd4d3660-9592-421a-a568-1cfc9798e53c",
   "metadata": {},
   "outputs": [],
   "source": []
  },
  {
   "cell_type": "markdown",
   "id": "6a4f4540-f268-48b8-9f9b-cb466f81846a",
   "metadata": {},
   "source": [
    "### Exercise 4\n",
    "Write a program to ask for a DNA sequence. Translate the DNA into protein. When the codon doesn’t code for anything (eg, stop codon), use “*”. Ignore the extra bases if the sequence length is not a multiple of 3.\n",
    "\n",
    "You can test your script with this sequence:\n",
    "\"CCGGAACCGACCATTGATGAG\""
   ]
  },
  {
   "cell_type": "code",
   "execution_count": null,
   "id": "d8fb6964-3b4f-403b-acfe-2d735069fdf2",
   "metadata": {},
   "outputs": [],
   "source": []
  },
  {
   "cell_type": "code",
   "execution_count": null,
   "id": "9870bfbf-2f47-4734-9840-295ab782e90b",
   "metadata": {},
   "outputs": [],
   "source": []
  },
  {
   "cell_type": "code",
   "execution_count": null,
   "id": "fee5912e-daa9-44cd-82ac-812ece3cb4a2",
   "metadata": {},
   "outputs": [],
   "source": []
  },
  {
   "cell_type": "code",
   "execution_count": null,
   "id": "b7d10819-7d6f-4be2-af87-bbb342ccdbfa",
   "metadata": {},
   "outputs": [],
   "source": []
  },
  {
   "cell_type": "code",
   "execution_count": null,
   "id": "eb18f941-1058-4b11-abae-c9fb93a6ec50",
   "metadata": {},
   "outputs": [],
   "source": []
  }
 ],
 "metadata": {
  "kernelspec": {
   "display_name": "Python 3",
   "language": "python",
   "name": "python3"
  },
  "language_info": {
   "codemirror_mode": {
    "name": "ipython",
    "version": 3
   },
   "file_extension": ".py",
   "mimetype": "text/x-python",
   "name": "python",
   "nbconvert_exporter": "python",
   "pygments_lexer": "ipython3",
   "version": "3.9.4"
  }
 },
 "nbformat": 4,
 "nbformat_minor": 5
}
