{
 "cells": [
  {
   "cell_type": "markdown",
   "id": "16043f30",
   "metadata": {},
   "source": [
    "# CIT656 - Spring 2021\n",
    "## Lab 3 - April 25, 2021\n",
    "\n",
    "**Contents**\n",
    "1. Python `input()` function.\n",
    "2. Flow control in Python: sequential vs. conditional programing\n",
    "3. `if` statement and `in` operator\n",
    "4. introduction to loops\n",
    "5. loop control statements (continue, break, and pass)\n",
    "\n",
    "\n",
    "**Tasks**\n",
    "1. write a python script that takes from the user a DNA sequence then confirms/denys the presence of EcoRI restriction site. \n",
    "2. Modify your code in part 1 to include two other restriction enzymes of your choice.\n",
    "3. Modify your code in part 2 to allow the user to specify the start and the end sites (the range) in the DNA sequence where we're looking for the restriction enzymes (i.e. the bp at the beginning of the codon of iterest and the bp at the end of)\n",
    "\n",
    "# CIT656 - Spring 2021\n",
    "## Lab 4 - May 02, 2021\n",
    "1. lists and list operations.\n",
    "2. comparison between strings and lists.\n",
    "3. Loops in detail.\n",
    "4. `range()` function.\n",
    "5. tuples \n",
    "6. sets\n",
    "\n",
    "**Tasks**\n",
    "1. write a Python script that takes a DNA sequence and print (iteratively) the codons in that sequence. How to handle the sequence if its length is not a multiple of 3?\n",
    "2. modify your code in part 1 to print, at the end, the extra bases that are not in codon if the length of the DNA sequence is not a multiple of 3.\n",
    "3. write a python script that takes a protein sequence and prints the unique amino acids in that sequence and percentage of each in the protein sequence.\n",
    "4. modify your code in part 3 to calculate the isoelectric point of that protein (searcg for the PI on Google).\n",
    "\n",
    "# CIT656 - Spring 2021\n",
    "## Lab 5 - May 09, 2021\n",
    "1. Dictionaries\n",
    "2. loops with dictionaries\n",
    "3. Functions in Python\n",
    "\n",
    "**Taks**\n",
    "1. Central Dogma part II: translation\n",
    "2. Finding ORFs in DNA sequence\n",
    "3. Primer design tool"
   ]
  },
  {
   "cell_type": "markdown",
   "id": "098341d8",
   "metadata": {},
   "source": [
    "#### Reading input from user\n",
    "The `input()` function is used to read input data from the user. \n",
    "Try the following example"
   ]
  },
  {
   "cell_type": "code",
   "execution_count": null,
   "id": "382754aa",
   "metadata": {},
   "outputs": [],
   "source": [
    "name = input(\"Hi, what's your name?\")\n",
    "print(\"my name is\", name)"
   ]
  },
  {
   "cell_type": "markdown",
   "id": "0fb52ad4",
   "metadata": {},
   "source": [
    "What is the type of the variable `name`? use the `type()` function to find out. \n",
    "\n",
    "Try the following examples, each time, print the type of the data returned from the `input()` function."
   ]
  },
  {
   "cell_type": "code",
   "execution_count": null,
   "id": "49f756a3",
   "metadata": {},
   "outputs": [],
   "source": [
    "num_1 = input(\"Enter an integer:\")\n",
    "num_2 = input(\"Enter a decimal number:\")\n",
    "\n",
    "print(\"sum of them =\", (num_1 + num_2))"
   ]
  },
  {
   "cell_type": "code",
   "execution_count": null,
   "id": "d784aaa8",
   "metadata": {},
   "outputs": [],
   "source": [
    "print(\"type of 'num_1':\", type(num_1))\n",
    "print(\"type of 'num_2':\", type(num_2))"
   ]
  },
  {
   "cell_type": "code",
   "execution_count": null,
   "id": "1385af77",
   "metadata": {},
   "outputs": [],
   "source": [
    "print(int(num_1))"
   ]
  },
  {
   "cell_type": "code",
   "execution_count": null,
   "id": "c7f337d9",
   "metadata": {},
   "outputs": [],
   "source": [
    "print(float(num_2))"
   ]
  },
  {
   "cell_type": "code",
   "execution_count": null,
   "id": "3621b8d0",
   "metadata": {},
   "outputs": [],
   "source": [
    "print(int(num_2))"
   ]
  },
  {
   "cell_type": "code",
   "execution_count": null,
   "id": "0208e46c",
   "metadata": {},
   "outputs": [],
   "source": [
    "num_2_float = float(num_2)\n",
    "print(num_2_float)\n",
    "print(type(num_2_float))"
   ]
  },
  {
   "cell_type": "code",
   "execution_count": null,
   "id": "034ace19",
   "metadata": {},
   "outputs": [],
   "source": [
    "int(num_2_float)"
   ]
  }
 ],
 "metadata": {
  "kernelspec": {
   "display_name": "Python 3",
   "language": "python",
   "name": "python3"
  },
  "language_info": {
   "codemirror_mode": {
    "name": "ipython",
    "version": 3
   },
   "file_extension": ".py",
   "mimetype": "text/x-python",
   "name": "python",
   "nbconvert_exporter": "python",
   "pygments_lexer": "ipython3",
   "version": "3.9.4"
  }
 },
 "nbformat": 4,
 "nbformat_minor": 5
}
