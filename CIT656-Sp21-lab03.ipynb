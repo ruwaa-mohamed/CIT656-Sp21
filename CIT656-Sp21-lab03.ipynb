{
 "cells": [
  {
   "cell_type": "markdown",
   "id": "16043f30",
   "metadata": {},
   "source": [
    "# CIT656 - Spring 2021\n",
    "## Lab 3 - April 25, 2021\n",
    "\n",
    "**Contents**\n",
    "1. Python `input()` function.\n",
    "2. Flow control in Python: sequential vs. conditional programing\n",
    "3. `if` statement and `in` operator\n",
    "4. introduction to loops\n",
    "5. loop control statements (continue, break, and pass)\n",
    "\n",
    "\n",
    "**Tasks**\n",
    "1. write a python script that takes from the user a DNA sequence then confirms/denys the presence of EcoRI restriction site. \n",
    "2. Modify your code in part 1 to include two other restriction enzymes of your choice.\n",
    "3. Modify your code in part 2 to allow the user to specify the start and the end sites (the range) in the DNA sequence where we're looking for the restriction enzymes (i.e. the bp at the beginning of the exon of iterest and the bp at the end of the exon)."
   ]
  },
  {
   "cell_type": "markdown",
   "id": "d5cc0c23",
   "metadata": {},
   "source": [
    "#### Reading input from user\n",
    "The `input()` function is used to read input data from the user. \n",
    "Try the following example"
   ]
  },
  {
   "cell_type": "code",
   "execution_count": 6,
   "id": "8e2f86d1",
   "metadata": {},
   "outputs": [
    {
     "name": "stdout",
     "output_type": "stream",
     "text": [
      "Hi, what's your name? Ruwaa\n",
      "Your name is Ruwaa\n"
     ]
    }
   ],
   "source": [
    "name = input(\"Hi, what's your name? \")\n",
    "print(\"Your name is\", name)"
   ]
  },
  {
   "cell_type": "code",
   "execution_count": 7,
   "id": "de033ac9",
   "metadata": {},
   "outputs": [
    {
     "data": {
      "text/plain": [
       "str"
      ]
     },
     "execution_count": 7,
     "metadata": {},
     "output_type": "execute_result"
    }
   ],
   "source": [
    "type(name)"
   ]
  },
  {
   "cell_type": "markdown",
   "id": "d09343ff",
   "metadata": {},
   "source": [
    "What is the type of the variable `name`? use the `type()` function to find out. \n",
    "\n",
    "Try the following examples, each time, print the type of the data returned from the `input()` function."
   ]
  },
  {
   "cell_type": "code",
   "execution_count": 8,
   "id": "acb2e12c",
   "metadata": {
    "scrolled": true
   },
   "outputs": [
    {
     "name": "stdout",
     "output_type": "stream",
     "text": [
      "Enter an integer: 5\n",
      "Enter a decimal number: 3.14\n",
      "sum of them = 53.14\n"
     ]
    }
   ],
   "source": [
    "num_1 = input(\"Enter an integer: \")\n",
    "num_2 = input(\"Enter a decimal number: \")\n",
    "\n",
    "print(\"sum of them =\", (num_1 + num_2))"
   ]
  },
  {
   "cell_type": "code",
   "execution_count": 9,
   "id": "fa4bdea7",
   "metadata": {},
   "outputs": [
    {
     "name": "stdout",
     "output_type": "stream",
     "text": [
      "type of 'num_1': <class 'str'>\n",
      "type of 'num_2': <class 'str'>\n"
     ]
    }
   ],
   "source": [
    "print(\"type of 'num_1':\", type(num_1))\n",
    "print(\"type of 'num_2':\", type(num_2))"
   ]
  },
  {
   "cell_type": "code",
   "execution_count": 10,
   "id": "746786b7",
   "metadata": {},
   "outputs": [
    {
     "name": "stdout",
     "output_type": "stream",
     "text": [
      "5\n"
     ]
    }
   ],
   "source": [
    "print(int(num_1))"
   ]
  },
  {
   "cell_type": "code",
   "execution_count": 11,
   "id": "8892bc98",
   "metadata": {},
   "outputs": [
    {
     "data": {
      "text/plain": [
       "str"
      ]
     },
     "execution_count": 11,
     "metadata": {},
     "output_type": "execute_result"
    }
   ],
   "source": [
    "type(num_1)"
   ]
  },
  {
   "cell_type": "code",
   "execution_count": 12,
   "id": "23b4a52a",
   "metadata": {},
   "outputs": [
    {
     "name": "stdout",
     "output_type": "stream",
     "text": [
      "<class 'int'>\n"
     ]
    }
   ],
   "source": [
    "num_1_int = int(num_1)\n",
    "print(type(num_1_int))"
   ]
  },
  {
   "cell_type": "code",
   "execution_count": 13,
   "id": "aff108a3",
   "metadata": {},
   "outputs": [
    {
     "name": "stdout",
     "output_type": "stream",
     "text": [
      "3.14\n"
     ]
    }
   ],
   "source": [
    "print(float(num_2))"
   ]
  },
  {
   "cell_type": "code",
   "execution_count": 14,
   "id": "41cdce02",
   "metadata": {},
   "outputs": [
    {
     "name": "stdout",
     "output_type": "stream",
     "text": [
      "<class 'float'>\n"
     ]
    }
   ],
   "source": [
    "num_2_float = float(num_2)\n",
    "print(type(num_2_float))"
   ]
  },
  {
   "cell_type": "code",
   "execution_count": 15,
   "id": "bc41429a",
   "metadata": {},
   "outputs": [
    {
     "ename": "ValueError",
     "evalue": "invalid literal for int() with base 10: '3.14'",
     "output_type": "error",
     "traceback": [
      "\u001b[0;31m---------------------------------------------------------------------------\u001b[0m",
      "\u001b[0;31mValueError\u001b[0m                                Traceback (most recent call last)",
      "\u001b[0;32m<ipython-input-15-1f6602f81df1>\u001b[0m in \u001b[0;36m<module>\u001b[0;34m\u001b[0m\n\u001b[0;32m----> 1\u001b[0;31m \u001b[0mprint\u001b[0m\u001b[0;34m(\u001b[0m\u001b[0mint\u001b[0m\u001b[0;34m(\u001b[0m\u001b[0mnum_2\u001b[0m\u001b[0;34m)\u001b[0m\u001b[0;34m)\u001b[0m\u001b[0;34m\u001b[0m\u001b[0;34m\u001b[0m\u001b[0m\n\u001b[0m",
      "\u001b[0;31mValueError\u001b[0m: invalid literal for int() with base 10: '3.14'"
     ]
    }
   ],
   "source": [
    "print(int(num_2))"
   ]
  },
  {
   "cell_type": "code",
   "execution_count": 16,
   "id": "3f1aa5da",
   "metadata": {},
   "outputs": [
    {
     "data": {
      "text/plain": [
       "3"
      ]
     },
     "execution_count": 16,
     "metadata": {},
     "output_type": "execute_result"
    }
   ],
   "source": [
    "int(float(num_2))"
   ]
  },
  {
   "cell_type": "code",
   "execution_count": 17,
   "id": "5071c168",
   "metadata": {},
   "outputs": [
    {
     "data": {
      "text/plain": [
       "3"
      ]
     },
     "execution_count": 17,
     "metadata": {},
     "output_type": "execute_result"
    }
   ],
   "source": [
    "int(3.14)"
   ]
  },
  {
   "cell_type": "code",
   "execution_count": 20,
   "id": "40be2a18",
   "metadata": {},
   "outputs": [
    {
     "name": "stdout",
     "output_type": "stream",
     "text": [
      "7.0\n",
      "<class 'float'>\n"
     ]
    }
   ],
   "source": [
    "num_2_float = float(num_2)\n",
    "print(num_2_float)\n",
    "print(type(num_2_float))"
   ]
  },
  {
   "cell_type": "code",
   "execution_count": 21,
   "id": "1acdc37c",
   "metadata": {},
   "outputs": [
    {
     "data": {
      "text/plain": [
       "7"
      ]
     },
     "execution_count": 21,
     "metadata": {},
     "output_type": "execute_result"
    }
   ],
   "source": [
    "int(num_2_float)"
   ]
  },
  {
   "cell_type": "code",
   "execution_count": 19,
   "id": "de35c8b9",
   "metadata": {},
   "outputs": [
    {
     "name": "stdout",
     "output_type": "stream",
     "text": [
      "Enter first number: 5\n",
      "Enter second number: 7\n",
      "12\n"
     ]
    }
   ],
   "source": [
    "num_1 = input(\"Enter first number: \")\n",
    "num_2 = input(\"Enter second number: \")\n",
    "print(int(num_1) + int(num_2))"
   ]
  },
  {
   "cell_type": "markdown",
   "id": "34305089",
   "metadata": {},
   "source": [
    "#### Flow control (sequential vs. conditional programming)\n",
    "So far, we've been using python for interprettng all commands sequentially, one-by-one. In some cases, we need to do some action(s) only when some condition(s) is met or to do some command(s) itteratively for a number of times or untill some condition is met. This is called **control flow**. \n",
    "\n",
    "There are two possible ways to control the flow of the program:\n",
    "1. Conditional/decision control\n",
    "2. Iterative/repetitive control\n",
    "\n",
    "##### Conditional Control (`if statement`)\n",
    "the format of simple `if` conditions in Python is as follows:\n",
    "```python\n",
    "if condition:\n",
    "    statement\n",
    "```\n",
    "Notice that the stement (or block of statements) are indeted (4-spaces). All statements should be aligned.\n",
    "\n",
    "\n",
    "![simple if statement](https://www.educative.io/api/edpresso/shot/5593231642329088/image/6209099250270208)\n",
    "\n",
    "Try the following examples"
   ]
  },
  {
   "cell_type": "code",
   "execution_count": 25,
   "id": "3d0f1a16",
   "metadata": {},
   "outputs": [
    {
     "name": "stdout",
     "output_type": "stream",
     "text": [
      "yes it's a positive number\n",
      "this is line #2\n"
     ]
    }
   ],
   "source": [
    "if 3 > 0:\n",
    "    print(\"yes it's a positive number\")\n",
    "    print(\"this is line #2\")"
   ]
  },
  {
   "cell_type": "code",
   "execution_count": 32,
   "id": "6e529933",
   "metadata": {},
   "outputs": [
    {
     "name": "stdout",
     "output_type": "stream",
     "text": [
      "5 is a positive number\n",
      "5\n",
      "6\n",
      "5 + 1 = 6\n"
     ]
    }
   ],
   "source": [
    "n = 5\n",
    "if n > 0:\n",
    "    print(n, \"is a positive number\")\n",
    "    print(n)\n",
    "    n = n+1 \n",
    "    print(n)\n",
    "    print(n-1,\"+ 1 =\", n)"
   ]
  },
  {
   "cell_type": "code",
   "execution_count": 23,
   "id": "81420d9e",
   "metadata": {},
   "outputs": [
    {
     "name": "stdout",
     "output_type": "stream",
     "text": [
      "Hi\n"
     ]
    }
   ],
   "source": [
    "if True:\n",
    "    print(\"Hi\")"
   ]
  },
  {
   "cell_type": "code",
   "execution_count": 24,
   "id": "3072a538",
   "metadata": {},
   "outputs": [],
   "source": [
    "if False:\n",
    "    print(\"Hi\")"
   ]
  },
  {
   "cell_type": "code",
   "execution_count": 34,
   "id": "5faceff9",
   "metadata": {},
   "outputs": [
    {
     "ename": "IndentationError",
     "evalue": "unindent does not match any outer indentation level (<tokenize>, line 4)",
     "output_type": "error",
     "traceback": [
      "\u001b[0;36m  File \u001b[0;32m\"<tokenize>\"\u001b[0;36m, line \u001b[0;32m4\u001b[0m\n\u001b[0;31m    print(n)\u001b[0m\n\u001b[0m    ^\u001b[0m\n\u001b[0;31mIndentationError\u001b[0m\u001b[0;31m:\u001b[0m unindent does not match any outer indentation level\n"
     ]
    }
   ],
   "source": [
    "n = 5\n",
    "if n > 0:\n",
    "    print(n, \"is a positive number\")\n",
    "   print(n)\n",
    "    n = n+1 \n",
    "    print(n-1,\"+ 1 =\", n)"
   ]
  },
  {
   "cell_type": "markdown",
   "id": "1d9bc89b",
   "metadata": {},
   "source": [
    "A more complex form of the `if` statement includes an `else` statement, where the code inside is excuted only when the condition fails. Itd format is as follows: \n",
    "\n",
    "```python\n",
    "if condition:\n",
    "    block 1, statement 1\n",
    "    block 1, statement 2\n",
    "else:\n",
    "    block 2, statement 1\n",
    "    block 2, statement 2\n",
    "```\n",
    "\n",
    "It's important to have the colon at the end of the `if` line and the `else` line.\n",
    "![if-else statement](https://www.educative.io/api/edpresso/shot/5593231642329088/image/5398912826343424)"
   ]
  },
  {
   "cell_type": "code",
   "execution_count": 38,
   "id": "b67bf8ea",
   "metadata": {},
   "outputs": [
    {
     "name": "stdout",
     "output_type": "stream",
     "text": [
      "yes, it's a positive number\n"
     ]
    }
   ],
   "source": [
    "if 5 > 0:\n",
    "    print(\"yes, it's a positive number\")\n",
    "else:\n",
    "    print(\"no, it's a negative number\")"
   ]
  },
  {
   "cell_type": "code",
   "execution_count": 39,
   "id": "39aded78",
   "metadata": {},
   "outputs": [],
   "source": [
    "DNA = \"ATTCGA\""
   ]
  },
  {
   "cell_type": "code",
   "execution_count": 40,
   "id": "ca1a72df",
   "metadata": {},
   "outputs": [
    {
     "data": {
      "text/plain": [
       "True"
      ]
     },
     "execution_count": 40,
     "metadata": {},
     "output_type": "execute_result"
    }
   ],
   "source": [
    "'AT' in DNA"
   ]
  },
  {
   "cell_type": "code",
   "execution_count": 41,
   "id": "09e77121",
   "metadata": {},
   "outputs": [
    {
     "name": "stdout",
     "output_type": "stream",
     "text": [
      "yes\n"
     ]
    }
   ],
   "source": [
    "if 'AT' in DNA:\n",
    "    print('yes')\n",
    "else:\n",
    "    print('no')"
   ]
  },
  {
   "cell_type": "markdown",
   "id": "421a35a3",
   "metadata": {},
   "source": [
    "A more advanced form of the `if` statement contains a second condition that is evalated only if the first condition is evaluated to false. It's included after the `elif` word as follows:\n",
    "\n",
    "```python\n",
    "if condition_1:\n",
    "    block 1\n",
    "elif condition_2:\n",
    "    block 2\n",
    "else:\n",
    "    block 3\n",
    "```\n",
    "\n",
    "In this example, condition 1 is evaluated. If it's true, block 1 is excuted and the rest of the if condition statements is ignored. If condition 1 is false, block 1 is ignored and condition 2 is evaluated. If condition 2 is true, block 2 is excuted and block 3 is ignored. If condition 2 is flase, block 2 is ignored and block 3 is excuted."
   ]
  },
  {
   "cell_type": "markdown",
   "id": "164ed214",
   "metadata": {},
   "source": [
    "#### Tasks Time!"
   ]
  },
  {
   "cell_type": "code",
   "execution_count": 43,
   "id": "a9aea87f",
   "metadata": {},
   "outputs": [
    {
     "name": "stdout",
     "output_type": "stream",
     "text": [
      "Enter DNA sequence: GGGCTATGAATTCCCGA\n",
      "EcoRI is present\n"
     ]
    }
   ],
   "source": [
    "## write a python script that takes from the user a DNA sequence then confirms/denys the presence of \n",
    "## EcoRI restriction site.\n",
    "DNA_seq = input(\"Enter DNA sequence: \")\n",
    "EcoRI = \"GAATTC\"\n",
    "if EcoRI in DNA_seq:\n",
    "    print(\"EcoRI is present\")\n",
    "else:\n",
    "    print(\"EcoRI is not present\")"
   ]
  },
  {
   "cell_type": "code",
   "execution_count": 44,
   "id": "e8729f41",
   "metadata": {},
   "outputs": [
    {
     "name": "stdout",
     "output_type": "stream",
     "text": [
      "Enter DNA sequence: GGGCTATATATGCC\n",
      "EcoRI is not present\n"
     ]
    }
   ],
   "source": [
    "DNA_seq = input(\"Enter DNA sequence: \")\n",
    "EcoRI = \"GAATTC\"\n",
    "if EcoRI in DNA_seq:\n",
    "    print(\"EcoRI is present\")\n",
    "else:\n",
    "    print(\"EcoRI is not present\")"
   ]
  },
  {
   "cell_type": "code",
   "execution_count": 45,
   "id": "904be6a7",
   "metadata": {},
   "outputs": [
    {
     "name": "stdout",
     "output_type": "stream",
     "text": [
      "Enter DNA sequence: GGGCTATGAATTCCCGA\n",
      "Not 3 are present (maybe 1 or 2 or none)\n"
     ]
    }
   ],
   "source": [
    "## Modify your code in part 1 to include two other restriction enzymes of your choice.\n",
    "DNA_seq = input(\"Enter DNA sequence: \")\n",
    "\n",
    "EcoRI = \"GAATTC\"\n",
    "HindIII = \"AAGCTT\"\n",
    "BamHI = \"GGATCC\"\n",
    "\n",
    "if EcoRI in DNA_seq and HindIII in DNA_seq and BamHI in DNA_seq:\n",
    "    print(\"EcoRI, HindIII, and BamHI are present\")\n",
    "else:\n",
    "    print(\"Not 3 are present (maybe 1 or 2 or none)\")"
   ]
  },
  {
   "cell_type": "code",
   "execution_count": 46,
   "id": "92add396",
   "metadata": {},
   "outputs": [
    {
     "name": "stdout",
     "output_type": "stream",
     "text": [
      "Enter DNA sequence: GGGCTATGAATTCCCGA\n",
      "EcoRI is present\n",
      "HindIII is not present\n",
      "BamHI is not present\n"
     ]
    }
   ],
   "source": [
    "DNA_seq = input(\"Enter DNA sequence: \")\n",
    "\n",
    "EcoRI = \"GAATTC\"\n",
    "HindIII = \"AAGCTT\"\n",
    "BamHI = \"GGATCC\"\n",
    "\n",
    "if EcoRI in DNA_seq:\n",
    "    print(\"EcoRI is present\")\n",
    "else:\n",
    "    print(\"EcoRI is not present\")\n",
    "    \n",
    "if HindIII in DNA_seq:\n",
    "    print(\"HindIII is present\")\n",
    "else:\n",
    "    print(\"HindIII is not present\")\n",
    "    \n",
    "if BamHI in DNA_seq:\n",
    "    print(\"BamHI is present\")\n",
    "else:\n",
    "    print(\"BamHI is not present\")"
   ]
  },
  {
   "cell_type": "code",
   "execution_count": 47,
   "id": "6173262e",
   "metadata": {},
   "outputs": [
    {
     "name": "stdout",
     "output_type": "stream",
     "text": [
      "Enter DNA sequence: GGGCTATGAATTCCCGA\n",
      "EcoRI is present, HindIII is not present\n"
     ]
    }
   ],
   "source": [
    "DNA_seq = input(\"Enter DNA sequence: \")\n",
    "\n",
    "EcoRI = \"GAATTC\"\n",
    "HindIII = \"AAGCTT\"\n",
    "# BamHI = \"GGATCC\"\n",
    "\n",
    "if EcoRI in DNA_seq or HindIII in DNA_seq:\n",
    "    if EcoRI in DNA_seq and HindIII in DNA_seq:\n",
    "        print(\"EcoRI and HindIII are both present\")\n",
    "    elif EcoRI in DNA_seq:\n",
    "        print(\"EcoRI is present, HindIII is not present\")\n",
    "    else: \n",
    "        print(\"HindIII is present, EcoRI is not present\")\n",
    "else:\n",
    "    print(\"Neither is present\")"
   ]
  },
  {
   "cell_type": "code",
   "execution_count": 50,
   "id": "c06928b1",
   "metadata": {},
   "outputs": [
    {
     "name": "stdout",
     "output_type": "stream",
     "text": [
      "Enter DNA sequence: ATTCGCATAATTCGAAGCTTTTCAT\n",
      "HindIII is present, EcoRI is not present\n"
     ]
    }
   ],
   "source": [
    "DNA_seq = input(\"Enter DNA sequence: \")\n",
    "\n",
    "EcoRI = \"GAATTC\"\n",
    "HindIII = \"AAGCTT\"\n",
    "# BamHI = \"GGATCC\"\n",
    "\n",
    "if EcoRI in DNA_seq or HindIII in DNA_seq:\n",
    "    if EcoRI in DNA_seq and HindIII in DNA_seq:\n",
    "        print(\"EcoRI and HindIII are both present\")\n",
    "    elif EcoRI in DNA_seq:\n",
    "        print(\"EcoRI is present, HindIII is not present\")\n",
    "    else: \n",
    "        print(\"HindIII is present, EcoRI is not present\")\n",
    "else:\n",
    "    print(\"Neither is present\")"
   ]
  },
  {
   "cell_type": "code",
   "execution_count": 49,
   "id": "8109e7d3",
   "metadata": {},
   "outputs": [
    {
     "data": {
      "text/plain": [
       "-1"
      ]
     },
     "execution_count": 49,
     "metadata": {},
     "output_type": "execute_result"
    }
   ],
   "source": [
    "\"ATTCGCATAATTCGAAGCTTTTCAT\".find(EcoRI)"
   ]
  },
  {
   "cell_type": "code",
   "execution_count": null,
   "id": "97052536",
   "metadata": {},
   "outputs": [],
   "source": [
    "## Modify your code in part 2 to allow the user to specify the start and the end sites (the range) \n",
    "## in the DNA sequence where we're looking for the restriction enzymes (i.e. the bp at the beginning \n",
    "## of the exon of iterest and the bp at the end of the exon)."
   ]
  },
  {
   "cell_type": "code",
   "execution_count": 51,
   "id": "9564f11d",
   "metadata": {},
   "outputs": [
    {
     "name": "stdout",
     "output_type": "stream",
     "text": [
      "Enter DNA sequence: ATTCGCATAATTCGAAGCTTTTCAT\n",
      "Enter start site: 0\n",
      "Enter end site: 15\n",
      "Neither is present\n"
     ]
    }
   ],
   "source": [
    "DNA_seq = input(\"Enter DNA sequence: \")\n",
    "\n",
    "start_site = int(input(\"Enter start site: \"))\n",
    "end_site = int(input(\"Enter end site: \"))\n",
    "\n",
    "DNA_slice = DNA_seq[start_site:end_site+1]\n",
    "\n",
    "EcoRI = \"GAATTC\"\n",
    "HindIII = \"AAGCTT\"\n",
    "# BamHI = \"GGATCC\"\n",
    "\n",
    "if EcoRI in DNA_slice or HindIII in DNA_slice:\n",
    "    if EcoRI in DNA_slice and HindIII in DNA_slice:\n",
    "        print(\"EcoRI and HindIII are both present\")\n",
    "    elif EcoRI in DNA_slice:\n",
    "        print(\"EcoRI is present, HindIII is not present\")\n",
    "    else: \n",
    "        print(\"HindIII is present, EcoRI is not present\")\n",
    "else:\n",
    "    print(\"Neither is present\")"
   ]
  }
 ],
 "metadata": {
  "kernelspec": {
   "display_name": "Python 3",
   "language": "python",
   "name": "python3"
  },
  "language_info": {
   "codemirror_mode": {
    "name": "ipython",
    "version": 3
   },
   "file_extension": ".py",
   "mimetype": "text/x-python",
   "name": "python",
   "nbconvert_exporter": "python",
   "pygments_lexer": "ipython3",
   "version": "3.9.4"
  }
 },
 "nbformat": 4,
 "nbformat_minor": 5
}
