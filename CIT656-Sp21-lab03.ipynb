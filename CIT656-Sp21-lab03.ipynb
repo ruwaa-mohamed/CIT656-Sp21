{
 "cells": [
  {
   "cell_type": "markdown",
   "id": "16043f30",
   "metadata": {},
   "source": [
    "# CIT656 - Spring 2021\n",
    "## Lab 3 - April 25, 2021\n",
    "\n",
    "**Contents**\n",
    "1. Python `input()` function.\n",
    "2. Flow control in Python: sequential vs. conditional programing\n",
    "3. `if` statement and `in` operator\n",
    "4. introduction to loops\n",
    "5. loop control statements (continue, break, and pass)\n",
    "\n",
    "\n",
    "**Tasks**\n",
    "1. write a python script that takes from the user a DNA sequence then confirms/denys the presence of EcoRI restriction site. \n",
    "2. Modify your code in part 1 to include two other restriction enzymes of your choice.\n",
    "3. Modify your code in part 2 to allow the user to specify the start and the end sites (the range) in the DNA sequence where we're looking for the restriction enzymes (i.e. the bp at the beginning of the exon of iterest and the bp at the end of the exon).\n",
    "\n",
    "# CIT656 - Spring 2021\n",
    "## Lab 4 - May 02, 2021\n",
    "1. lists and list operations.\n",
    "2. comparison between strings and lists.\n",
    "3. Loops in detail.\n",
    "4. `range()` function.\n",
    "5. tuples \n",
    "6. sets\n",
    "\n",
    "**Tasks**\n",
    "1. write a Python script that takes a DNA sequence and print (iteratively) the codons in that sequence. How to handle the sequence if its length is not a multiple of 3?\n",
    "2. modify your code in part 1 to print, at the end, the extra bases that are not in codon if the length of the DNA sequence is not a multiple of 3.\n",
    "3. write a python script that takes a protein sequence and prints the unique amino acids in that sequence and percentage of each in the protein sequence.\n",
    "4. modify your code in part 3 to calculate the isoelectric point of that protein (searcg for the PI on Google).\n",
    "\n",
    "# CIT656 - Spring 2021\n",
    "## Lab 5 - May 09, 2021\n",
    "1. Dictionaries\n",
    "2. loops with dictionaries\n",
    "3. Functions in Python\n",
    "\n",
    "**Taks**\n",
    "1. Central Dogma part II: translation\n",
    "2. Finding ORFs in DNA sequence\n",
    "3. Primer design tool"
   ]
  },
  {
   "cell_type": "markdown",
   "id": "e54b74e5",
   "metadata": {},
   "source": [
    "#### Reading input from user\n",
    "The `input()` function is used to read input data from the user. \n",
    "Try the following example"
   ]
  },
  {
   "cell_type": "code",
   "execution_count": null,
   "id": "6af92476",
   "metadata": {},
   "outputs": [],
   "source": [
    "name = input(\"Hi, what's your name?\")\n",
    "print(\"my name is\", name)"
   ]
  },
  {
   "cell_type": "markdown",
   "id": "4bda888a",
   "metadata": {},
   "source": [
    "What is the type of the variable `name`? use the `type()` function to find out. \n",
    "\n",
    "Try the following examples, each time, print the type of the data returned from the `input()` function."
   ]
  },
  {
   "cell_type": "code",
   "execution_count": null,
   "id": "d585cfaf",
   "metadata": {},
   "outputs": [],
   "source": [
    "num_1 = input(\"Enter an integer:\")\n",
    "num_2 = input(\"Enter a decimal number:\")\n",
    "\n",
    "print(\"sum of them =\", (num_1 + num_2))"
   ]
  },
  {
   "cell_type": "code",
   "execution_count": null,
   "id": "d7f448a5",
   "metadata": {},
   "outputs": [],
   "source": [
    "print(\"type of 'num_1':\", type(num_1))\n",
    "print(\"type of 'num_2':\", type(num_2))"
   ]
  },
  {
   "cell_type": "code",
   "execution_count": null,
   "id": "91119b9d",
   "metadata": {},
   "outputs": [],
   "source": [
    "print(int(num_1))"
   ]
  },
  {
   "cell_type": "code",
   "execution_count": null,
   "id": "1a93b7ba",
   "metadata": {},
   "outputs": [],
   "source": [
    "print(float(num_2))"
   ]
  },
  {
   "cell_type": "code",
   "execution_count": null,
   "id": "a01aa043",
   "metadata": {},
   "outputs": [],
   "source": [
    "print(int(num_2))"
   ]
  },
  {
   "cell_type": "code",
   "execution_count": null,
   "id": "47788faa",
   "metadata": {},
   "outputs": [],
   "source": [
    "num_2_float = float(num_2)\n",
    "print(num_2_float)\n",
    "print(type(num_2_float))"
   ]
  },
  {
   "cell_type": "code",
   "execution_count": null,
   "id": "cbcdada1",
   "metadata": {},
   "outputs": [],
   "source": [
    "int(num_2_float)"
   ]
  },
  {
   "cell_type": "code",
   "execution_count": 1,
   "id": "793a6145",
   "metadata": {},
   "outputs": [],
   "source": [
    "from IPython.display import Image"
   ]
  },
  {
   "cell_type": "markdown",
   "id": "ca2f5ab8",
   "metadata": {},
   "source": [
    "#### Flow control (sequential vs. conditional programming)\n",
    "So far, we've been using python for interprettng all commands sequentially, one-by-one. In some cases, we need to do some action(s) only when some condition(s) is met or to do some command(s) itteratively for a number of times or untill some condition is met. This is called **control flow**. \n",
    "\n",
    "There are two possible ways to control the flow of the program:\n",
    "1. Conditional/decision control\n",
    "2. Iterative/repetitive control\n",
    "\n",
    "##### Conditional Control (`if statement`)\n",
    "the format of simple `if` conditions in Python is as follows:\n",
    "```python\n",
    "if condition:\n",
    "    statement\n",
    "```\n",
    "Notice that the stement (or block of statements) are indeted (4-spaces). All statements should be aligned.\n",
    "\n",
    "\n",
    "![simple if statement](https://www.educative.io/api/edpresso/shot/5593231642329088/image/6209099250270208)\n",
    "\n",
    "Try the following examples"
   ]
  },
  {
   "cell_type": "code",
   "execution_count": null,
   "id": "5d457621",
   "metadata": {},
   "outputs": [],
   "source": [
    "if 3 > 0:\n",
    "    print(\"yes it's a positive number\")"
   ]
  },
  {
   "cell_type": "markdown",
   "id": "c01e243a",
   "metadata": {},
   "source": [
    "A more complex form of the `if` statement includes an `else` statement, where the code inside is excuted only when the condition fails. Itd format is as follows: \n",
    "\n",
    "```python\n",
    "if condition:\n",
    "    block 1, statement 1\n",
    "    block 1, statement 2\n",
    "else:\n",
    "    block 2, statement 1\n",
    "    block 2, statement 2\n",
    "```\n",
    "\n",
    "It's important to have the colon at the end of the `if` line and the `else` line.\n",
    "![if-else statement](https://www.educative.io/api/edpresso/shot/5593231642329088/image/5398912826343424)"
   ]
  },
  {
   "cell_type": "code",
   "execution_count": null,
   "id": "0f2439ef",
   "metadata": {},
   "outputs": [],
   "source": [
    "if 3 > 0:\n",
    "    print(\"yes, it's a positive number\")\n",
    "else:\n",
    "    print(\"no, it's a negative number\")"
   ]
  },
  {
   "cell_type": "markdown",
   "id": "ff12e760",
   "metadata": {},
   "source": [
    "#### Tasks Time!"
   ]
  },
  {
   "cell_type": "code",
   "execution_count": null,
   "id": "728d5991",
   "metadata": {},
   "outputs": [],
   "source": [
    "## write a python script that takes from the user a DNA sequence then confirms/denys the presence of \n",
    "## EcoRI restriction site."
   ]
  },
  {
   "cell_type": "code",
   "execution_count": null,
   "id": "d078a9e5",
   "metadata": {},
   "outputs": [],
   "source": [
    "## Modify your code in part 1 to include two other restriction enzymes of your choice."
   ]
  },
  {
   "cell_type": "code",
   "execution_count": null,
   "id": "0d919235",
   "metadata": {},
   "outputs": [],
   "source": [
    "## Modify your code in part 2 to allow the user to specify the start and the end sites (the range) \n",
    "## in the DNA sequence where we're looking for the restriction enzymes (i.e. the bp at the beginning \n",
    "## of the exon of iterest and the bp at the end of the exon)."
   ]
  },
  {
   "cell_type": "code",
   "execution_count": null,
   "id": "8f6a86e9",
   "metadata": {},
   "outputs": [],
   "source": []
  }
 ],
 "metadata": {
  "kernelspec": {
   "display_name": "Python 3",
   "language": "python",
   "name": "python3"
  },
  "language_info": {
   "codemirror_mode": {
    "name": "ipython",
    "version": 3
   },
   "file_extension": ".py",
   "mimetype": "text/x-python",
   "name": "python",
   "nbconvert_exporter": "python",
   "pygments_lexer": "ipython3",
   "version": "3.9.4"
  }
 },
 "nbformat": 4,
 "nbformat_minor": 5
}
