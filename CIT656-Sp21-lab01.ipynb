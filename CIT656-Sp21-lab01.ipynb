{
 "cells": [
  {
   "cell_type": "markdown",
   "metadata": {},
   "source": [
    "# <center>CIT656 - Spring 2021</center>\n",
    "## <center>Lab 1 - March 28, 2021</center>"
   ]
  },
  {
   "cell_type": "markdown",
   "metadata": {},
   "source": [
    "### Contents \n",
    "1. Where to write/run Python? (Python installation)\n",
    "2. \"Hello,world!\" Python program.\n",
    "3. Python as simple calculator.\n",
    "4. Variables, values and data types.\n",
    "5. Numerical data types: integers and floats.\n",
    "6. type() function.\n",
    "7. Advanced Mathematics with Math module.\n",
    "8. Logical operators, comparisons, and boolean data types.\n",
    "9. Python Tutor for Code Visulaization http://pythontutor.com/ "
   ]
  },
  {
   "cell_type": "markdown",
   "metadata": {},
   "source": [
    "### Installing Python\n",
    "Python is a programming Language that we use to communicate with computers. What does it mean to install Python? It's more of installing the \"dictionary\" that the computer uses to understand Python; the Python interpreter. Think of it as a human being learning German before travelling to Germany. </br>\n",
    "Python installation depends on the platform of the computer. Latest available Python version is 3.9.2. You can find it here >> https://www.python.org/downloads/\n",
    "\n",
    "#### Windows Users\n",
    "1. Visit the above link and download Python 3.9.2 for Windows, or download one of the following two files:\n",
    "    1. for 32-bit Windows: https://www.python.org/ftp/python/3.9.2/python-3.9.2.exe\n",
    "    2. for 64-bit Windows (Recommended): https://www.python.org/ftp/python/3.9.2/python-3.9.2-amd64.exe\n",
    "2. Once the download is complete, double click on the installer file and follow the normal installation procedure. **Don't forget to check the checkbox of add to envirnoment PATH before clicking the Finish button!**\n",
    "3. To make sure that Python has been installed, open the `cmd` program or `PowerShell` program and type `python`. You should see `>>>` after the installed Python version details. Red lines means that either Python was not successfully installed, or it hasn't been added to the environment PATH variable.\n",
    "\n",
    "#### Linux Users\n",
    "1. Open the terminal from the applications menu or by clinking on `CTRL+ALT+T` and run the following commands:\n",
    "```bash\n",
    "sudo apt update\n",
    "sudo apt upgrade\n",
    "sudo apt install python3 python3-pip\n",
    "```\n",
    "2. To make sure that Pyhon has been installed, open the terminal and type `python3`. You should see `>>>` after the installed Python version details.\n",
    "\n",
    "Another way to install Python:\n",
    "1. Visit the above link and download Python 3.9.2 for Windows, or download this file >> https://www.python.org/ftp/python/3.9.2/Python-3.9.2.tar.xz\n",
    "2. Open the terminal from the applications menu or by clinking on `CTRL+ALT+T` and run the following commands:\n",
    "```bash\n",
    "cd Downloads/\n",
    "tar -xvf Python-3.9.2.tar.xz\n",
    "cd Python-3.9.2/\n",
    "./configure\n",
    "make\n",
    "make test\n",
    "sudo make install\n",
    "```\n",
    "\n",
    "#### MacOS Users\n",
    "Using GUI:\n",
    "1. Visit the above link and download Python 3.9.2 for MacOS, or download this file >> https://www.python.org/ftp/python/3.9.2/python-3.9.2-macosx10.9.pkg\n",
    "2. Double click on the downloaded file and follow the normal installation process. Don't forget to add it the environment PATH.\n",
    "\n",
    "Using the terminal:</br>\n",
    "Follow this tutorial >> https://installpython3.com/mac/"
   ]
  }
 ],
 "metadata": {
  "kernelspec": {
   "display_name": "Python 3",
   "language": "python",
   "name": "python3"
  },
  "language_info": {
   "codemirror_mode": {
    "name": "ipython",
    "version": 3
   },
   "file_extension": ".py",
   "mimetype": "text/x-python",
   "name": "python",
   "nbconvert_exporter": "python",
   "pygments_lexer": "ipython3",
   "version": "3.8.5"
  }
 },
 "nbformat": 4,
 "nbformat_minor": 4
}
