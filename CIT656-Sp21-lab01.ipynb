{
 "cells": [
  {
   "cell_type": "markdown",
   "metadata": {},
   "source": [
    "# <center>CIT656 - Spring 2021</center>\n",
    "## <center>Lab 1 - March 28, 2021</center>"
   ]
  },
  {
   "cell_type": "markdown",
   "metadata": {},
   "source": [
    "### Contents \n",
    "1. Where to write/run Python? (Python installation)\n",
    "2. \"Hello,world!\" Python program.\n",
    "3. Python as simple calculator.\n",
    "4. Variables, values and data types.\n",
    "5. Numerical data types: integers and floats.\n",
    "6. type() function.\n",
    "7. Advanced Mathematics with Math module.\n",
    "8. Logical operators, comparisons, and boolean data types."
   ]
  },
  {
   "cell_type": "code",
   "execution_count": null,
   "metadata": {},
   "outputs": [],
   "source": []
  }
 ],
 "metadata": {
  "kernelspec": {
   "display_name": "Python 3",
   "language": "python",
   "name": "python3"
  },
  "language_info": {
   "codemirror_mode": {
    "name": "ipython",
    "version": 3
   },
   "file_extension": ".py",
   "mimetype": "text/x-python",
   "name": "python",
   "nbconvert_exporter": "python",
   "pygments_lexer": "ipython3",
   "version": "3.8.5"
  }
 },
 "nbformat": 4,
 "nbformat_minor": 4
}
