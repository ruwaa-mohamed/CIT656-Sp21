{
 "cells": [
  {
   "cell_type": "markdown",
   "id": "9c966676-00a6-4395-9fe8-7888fd5411ea",
   "metadata": {},
   "source": [
    "# CIT656 - Spring 2021\n",
    "## Lab 7 - June 06, 2021\n",
    "\n",
    "#### Topics\n",
    "* More about functions\n",
    "* `os` modules\n",
    "\n",
    "#### Tasks\n",
    "* Translating DNA sequence\n",
    "* "
   ]
  },
  {
   "cell_type": "markdown",
   "id": "01a1a4a3-4fb5-4737-a45d-9f3ac6af3308",
   "metadata": {},
   "source": [
    "### Assignment 3 "
   ]
  },
  {
   "cell_type": "code",
   "execution_count": 8,
   "id": "9061fd05-af69-453d-af64-2f587e7a8cce",
   "metadata": {},
   "outputs": [],
   "source": [
    "## Open input file\n",
    "file_in = open(\"./PathLinker_PPI.txt\")\n",
    "\n",
    "## Create and open 2 output files in write mode\n",
    "affinity_file = open(\"./PathLinker_PPI_affinity.txt\", 'w')\n",
    "others_file = open(\"./PathLinker_PPI_others.txt\", 'w')\n",
    "\n",
    "## create new header \n",
    "# new_header = \"#tail|head\\tedge_weight\\tedge_type\\n\"\n",
    "header = file_in.readline()\n",
    "header = header.split(\"\\t\")\n",
    "new_header = header[0] + \"|\" + \"\\t\".join(header[1:])\n",
    "\n",
    "## writing new header in the output files\n",
    "affinity_file.write(new_header)\n",
    "others_file.write(new_header)\n",
    "\n",
    "## iterate over records, calculate new weight, merge tail|head, and write in one of the output files\n",
    "for rec in file_in:\n",
    "    rec_items = rec.split('\\t')\n",
    "    edge_weight = 1 - float(rec_items[2])\n",
    "    tail_head = '|'.join(rec_items[0:2])\n",
    "    \n",
    "    new_rec = '\\t'.join([tail_head, str(edge_weight), rec_items[3]])\n",
    "    # new_rec = tail_head + '\\t' + str(edge_weight) + '\\t' + rec_items[3]\n",
    "    \n",
    "    if \"MI:0004 (affinity chromatography technology)\" in new_rec:\n",
    "        affinity_file.write(new_rec)\n",
    "    else:\n",
    "        others_file.write(new_rec)\n",
    "    \n",
    "\n",
    "## colse all 3 files\n",
    "file_in.close()\n",
    "affinity_file.close()\n",
    "others_file.close()"
   ]
  },
  {
   "cell_type": "code",
   "execution_count": 5,
   "id": "4007350b-fc45-4fdc-89ec-7a0e44d63de8",
   "metadata": {},
   "outputs": [
    {
     "ename": "TypeError",
     "evalue": "can only concatenate str (not \"int\") to str",
     "output_type": "error",
     "traceback": [
      "\u001b[0;31m---------------------------------------------------------------------------\u001b[0m",
      "\u001b[0;31mTypeError\u001b[0m                                 Traceback (most recent call last)",
      "\u001b[0;32m<ipython-input-5-801ea13c8371>\u001b[0m in \u001b[0;36m<module>\u001b[0;34m\u001b[0m\n\u001b[0;32m----> 1\u001b[0;31m \u001b[0;34m\"Hello\"\u001b[0m \u001b[0;34m+\u001b[0m \u001b[0;36m3\u001b[0m\u001b[0;34m\u001b[0m\u001b[0;34m\u001b[0m\u001b[0m\n\u001b[0m",
      "\u001b[0;31mTypeError\u001b[0m: can only concatenate str (not \"int\") to str"
     ]
    }
   ],
   "source": [
    "\"Hello\" + 3"
   ]
  },
  {
   "cell_type": "code",
   "execution_count": 6,
   "id": "8c717b5c-dc01-403c-ad50-c019e1be9143",
   "metadata": {},
   "outputs": [
    {
     "data": {
      "text/plain": [
       "'Hello3'"
      ]
     },
     "execution_count": 6,
     "metadata": {},
     "output_type": "execute_result"
    }
   ],
   "source": [
    "\"Hello\" + \"3\""
   ]
  },
  {
   "cell_type": "code",
   "execution_count": 7,
   "id": "d29f43bd-5607-4204-a962-40518374e1b4",
   "metadata": {},
   "outputs": [
    {
     "data": {
      "text/plain": [
       "'Hello3'"
      ]
     },
     "execution_count": 7,
     "metadata": {},
     "output_type": "execute_result"
    }
   ],
   "source": [
    "\"Hello\" + str(3)"
   ]
  },
  {
   "cell_type": "code",
   "execution_count": 4,
   "id": "e6618897-b0ee-4331-8054-f16d62e9b515",
   "metadata": {},
   "outputs": [
    {
     "name": "stdout",
     "output_type": "stream",
     "text": [
      "#tail\thead\tedge_weight\tedge_type\n",
      "\n",
      "['#tail', 'head', 'edge_weight', 'edge_type\\n']\n",
      "#tail|head\tedge_weight\tedge_type\n",
      "\n"
     ]
    },
    {
     "data": {
      "text/plain": [
       "'Q8TBF5\\tQ9UKB1\\t3.11133e-01\\tMI:0004 (affinity chromatography technology)\\n'"
      ]
     },
     "execution_count": 4,
     "metadata": {},
     "output_type": "execute_result"
    }
   ],
   "source": [
    "file_in = open(\"./PathLinker_PPI.txt\")\n",
    "\n",
    "header = file_in.readline()\n",
    "print(header)\n",
    "\n",
    "header = header.split(\"\\t\")\n",
    "print(header)\n",
    "\n",
    "new_header = header[0] + \"|\" + \"\\t\".join(header[1:])\n",
    "print(new_header)\n",
    "\n",
    "file_in.readline()"
   ]
  },
  {
   "cell_type": "markdown",
   "id": "9bb87ce5-3ecf-45d6-99f3-35ad82514e7d",
   "metadata": {},
   "source": [
    "### `os` Module\n",
    "It's a module that provides a lot of functions to handle files and dirctories using Python. \n",
    "You can use it with a simple `import` statement.\n",
    "```python\n",
    "import os\n",
    "```\n",
    "\n",
    "Here's a list of the most common functions in `os` module:\n",
    "\n",
    "| Function | Description |\n",
    "| :------------ | :---------- |\n",
    "| `os.system() ` | to execute a bash command |\n",
    "| `os.getcwd()` | returns the path of the current working directory | \n",
    "| `os.chdir()` | change the path of the current working directory to the path given to the function |\n",
    "| `os.mkdir()` | create a new directory (input is a string of the file name) |\n",
    "| `os.makedirs()` | Recursive directory creation from a path (parent and children directories)|\n",
    "| `os.path.join()` | similar to the `+` with strings; usually used wit parent directory and child directory |\n",
    "| `os.listdir()` | returns a list of all the files and directories in a given directory | \n",
    "| `os.remove()` | remove a file |\n",
    "| `os.rmdir()` | remove a directory (folder) |\n",
    "| `os.removedirs()` | remove a directory (folder) recursively (parent and children directories) |\n",
    "| `os.rename()` | rename a file or a directory |\n",
    "| `os.path.exists()` | returns a boolean value if the fil exists |\n"
   ]
  },
  {
   "cell_type": "code",
   "execution_count": 9,
   "id": "aa5738d6-12f8-4434-8091-a2bbe925076e",
   "metadata": {},
   "outputs": [
    {
     "data": {
      "text/plain": [
       "'/home/ruwaa/Documents/NU2/04.Spring2021/CIT656-Sp2021/CIT656-Sp21'"
      ]
     },
     "execution_count": 9,
     "metadata": {},
     "output_type": "execute_result"
    }
   ],
   "source": [
    "import os \n",
    "os.getcwd()"
   ]
  },
  {
   "cell_type": "code",
   "execution_count": 10,
   "id": "2757394f-a4f9-49ae-bd4d-9bd8eba08d6b",
   "metadata": {},
   "outputs": [
    {
     "data": {
      "text/plain": [
       "'/home/ruwaa/Documents/NU2/04.Spring2021/CIT656-Sp2021'"
      ]
     },
     "execution_count": 10,
     "metadata": {},
     "output_type": "execute_result"
    }
   ],
   "source": [
    "os.chdir(\"../\")\n",
    "os.getcwd()"
   ]
  },
  {
   "cell_type": "code",
   "execution_count": 11,
   "id": "0932dabe-2121-4016-97c2-2492e84735d7",
   "metadata": {},
   "outputs": [
    {
     "data": {
      "text/plain": [
       "['Lecture_08_Biopython.pdf',\n",
       " 'Assignment',\n",
       " 'CIT656-Sp21',\n",
       " 'Lecture_02_Data Types.pdf',\n",
       " 'Lecture_03_Data_Types II.pdf',\n",
       " 'Lecture_05_Structured Programming.pdf',\n",
       " 'Lecture_09_Biopython II.pdf',\n",
       " 'Lecture_01_Course Information and First Program.pdf',\n",
       " 'Lecture_04_Data_Types III.pdf',\n",
       " 'Lecture_06_Structured Programming II.pdf',\n",
       " 'Lecture_07_File Handling.pdf']"
      ]
     },
     "execution_count": 11,
     "metadata": {},
     "output_type": "execute_result"
    }
   ],
   "source": [
    "os.listdir()"
   ]
  },
  {
   "cell_type": "code",
   "execution_count": 12,
   "id": "3b1da6c9-2b0c-489e-af0b-e1fc27e555c6",
   "metadata": {},
   "outputs": [
    {
     "data": {
      "text/plain": [
       "['CIT656-Sp21-lab07.ipynb',\n",
       " '.gitignore',\n",
       " 'YNL088W_genomic_dna.fsa',\n",
       " 'Gene_data.txt',\n",
       " 'CIT656-Sp21-lab05.ipynb',\n",
       " 'README.md',\n",
       " 'CIT656-Sp21-lab04.ipynb',\n",
       " '.ipynb_checkpoints',\n",
       " '.git',\n",
       " 'PathLinker_PPI.txt',\n",
       " 'PathLinker_PPI_affinity.txt',\n",
       " 'CIT656-Sp21-lab03.ipynb',\n",
       " 'CIT656-Sp21-lab01.ipynb',\n",
       " 'CIT656-Sp21-lab06.ipynb',\n",
       " 'CIT656-Sp21-lab02.ipynb',\n",
       " 'PathLinker_PPI_others.txt']"
      ]
     },
     "execution_count": 12,
     "metadata": {},
     "output_type": "execute_result"
    }
   ],
   "source": [
    "os.listdir(\"CIT656-Sp21\")"
   ]
  },
  {
   "cell_type": "code",
   "execution_count": 13,
   "id": "27c4489a-b2ec-49f1-b863-ca96648b4bec",
   "metadata": {},
   "outputs": [],
   "source": [
    "os.mkdir(\"test\")"
   ]
  },
  {
   "cell_type": "code",
   "execution_count": 14,
   "id": "7adfc9a8-e797-4f7b-b8cc-00e448d6a6a5",
   "metadata": {},
   "outputs": [
    {
     "ename": "FileNotFoundError",
     "evalue": "[Errno 2] No such file or directory: 'A/B/'",
     "output_type": "error",
     "traceback": [
      "\u001b[0;31m---------------------------------------------------------------------------\u001b[0m",
      "\u001b[0;31mFileNotFoundError\u001b[0m                         Traceback (most recent call last)",
      "\u001b[0;32m<ipython-input-14-b947526c0721>\u001b[0m in \u001b[0;36m<module>\u001b[0;34m\u001b[0m\n\u001b[0;32m----> 1\u001b[0;31m \u001b[0mos\u001b[0m\u001b[0;34m.\u001b[0m\u001b[0mmkdir\u001b[0m\u001b[0;34m(\u001b[0m\u001b[0;34m\"A/B/\"\u001b[0m\u001b[0;34m)\u001b[0m\u001b[0;34m\u001b[0m\u001b[0;34m\u001b[0m\u001b[0m\n\u001b[0m",
      "\u001b[0;31mFileNotFoundError\u001b[0m: [Errno 2] No such file or directory: 'A/B/'"
     ]
    }
   ],
   "source": [
    "os.mkdir(\"A/B/\")"
   ]
  },
  {
   "cell_type": "code",
   "execution_count": 15,
   "id": "65ee75e6-21cd-47e5-9fa9-2bb698253c8e",
   "metadata": {},
   "outputs": [],
   "source": [
    "os.makedirs(\"A/B/\")"
   ]
  },
  {
   "cell_type": "code",
   "execution_count": 16,
   "id": "08f018d6-60ea-45b1-ab59-191a8c6dae57",
   "metadata": {},
   "outputs": [
    {
     "ename": "IsADirectoryError",
     "evalue": "[Errno 21] Is a directory: 'test'",
     "output_type": "error",
     "traceback": [
      "\u001b[0;31m---------------------------------------------------------------------------\u001b[0m",
      "\u001b[0;31mIsADirectoryError\u001b[0m                         Traceback (most recent call last)",
      "\u001b[0;32m<ipython-input-16-469fb87577d3>\u001b[0m in \u001b[0;36m<module>\u001b[0;34m\u001b[0m\n\u001b[0;32m----> 1\u001b[0;31m \u001b[0mos\u001b[0m\u001b[0;34m.\u001b[0m\u001b[0mremove\u001b[0m\u001b[0;34m(\u001b[0m\u001b[0;34m\"test\"\u001b[0m\u001b[0;34m)\u001b[0m\u001b[0;34m\u001b[0m\u001b[0;34m\u001b[0m\u001b[0m\n\u001b[0m",
      "\u001b[0;31mIsADirectoryError\u001b[0m: [Errno 21] Is a directory: 'test'"
     ]
    }
   ],
   "source": [
    "os.remove(\"test\")"
   ]
  },
  {
   "cell_type": "code",
   "execution_count": 17,
   "id": "0c8d9b18-b697-47af-8b60-271fce1e17c0",
   "metadata": {},
   "outputs": [],
   "source": [
    "os.rmdir(\"test\")"
   ]
  },
  {
   "cell_type": "code",
   "execution_count": 18,
   "id": "bf69ab97-2623-4dc8-a3cc-cfb930aaaa8e",
   "metadata": {},
   "outputs": [
    {
     "ename": "OSError",
     "evalue": "[Errno 39] Directory not empty: 'A'",
     "output_type": "error",
     "traceback": [
      "\u001b[0;31m---------------------------------------------------------------------------\u001b[0m",
      "\u001b[0;31mOSError\u001b[0m                                   Traceback (most recent call last)",
      "\u001b[0;32m<ipython-input-18-2e602b78220f>\u001b[0m in \u001b[0;36m<module>\u001b[0;34m\u001b[0m\n\u001b[0;32m----> 1\u001b[0;31m \u001b[0mos\u001b[0m\u001b[0;34m.\u001b[0m\u001b[0mrmdir\u001b[0m\u001b[0;34m(\u001b[0m\u001b[0;34m\"A\"\u001b[0m\u001b[0;34m)\u001b[0m\u001b[0;34m\u001b[0m\u001b[0;34m\u001b[0m\u001b[0m\n\u001b[0m",
      "\u001b[0;31mOSError\u001b[0m: [Errno 39] Directory not empty: 'A'"
     ]
    }
   ],
   "source": [
    "os.rmdir(\"A\")"
   ]
  },
  {
   "cell_type": "code",
   "execution_count": 19,
   "id": "fae6bfaa-1890-4d10-8979-35ae24645829",
   "metadata": {},
   "outputs": [
    {
     "ename": "OSError",
     "evalue": "[Errno 39] Directory not empty: 'A'",
     "output_type": "error",
     "traceback": [
      "\u001b[0;31m---------------------------------------------------------------------------\u001b[0m",
      "\u001b[0;31mOSError\u001b[0m                                   Traceback (most recent call last)",
      "\u001b[0;32m<ipython-input-19-a4858f53d011>\u001b[0m in \u001b[0;36m<module>\u001b[0;34m\u001b[0m\n\u001b[0;32m----> 1\u001b[0;31m \u001b[0mos\u001b[0m\u001b[0;34m.\u001b[0m\u001b[0mremovedirs\u001b[0m\u001b[0;34m(\u001b[0m\u001b[0;34m\"A\"\u001b[0m\u001b[0;34m)\u001b[0m\u001b[0;34m\u001b[0m\u001b[0;34m\u001b[0m\u001b[0m\n\u001b[0m",
      "\u001b[0;32m/usr/local/lib/python3.9/os.py\u001b[0m in \u001b[0;36mremovedirs\u001b[0;34m(name)\u001b[0m\n\u001b[1;32m    241\u001b[0m \u001b[0;34m\u001b[0m\u001b[0m\n\u001b[1;32m    242\u001b[0m     \"\"\"\n\u001b[0;32m--> 243\u001b[0;31m     \u001b[0mrmdir\u001b[0m\u001b[0;34m(\u001b[0m\u001b[0mname\u001b[0m\u001b[0;34m)\u001b[0m\u001b[0;34m\u001b[0m\u001b[0;34m\u001b[0m\u001b[0m\n\u001b[0m\u001b[1;32m    244\u001b[0m     \u001b[0mhead\u001b[0m\u001b[0;34m,\u001b[0m \u001b[0mtail\u001b[0m \u001b[0;34m=\u001b[0m \u001b[0mpath\u001b[0m\u001b[0;34m.\u001b[0m\u001b[0msplit\u001b[0m\u001b[0;34m(\u001b[0m\u001b[0mname\u001b[0m\u001b[0;34m)\u001b[0m\u001b[0;34m\u001b[0m\u001b[0;34m\u001b[0m\u001b[0m\n\u001b[1;32m    245\u001b[0m     \u001b[0;32mif\u001b[0m \u001b[0;32mnot\u001b[0m \u001b[0mtail\u001b[0m\u001b[0;34m:\u001b[0m\u001b[0;34m\u001b[0m\u001b[0;34m\u001b[0m\u001b[0m\n",
      "\u001b[0;31mOSError\u001b[0m: [Errno 39] Directory not empty: 'A'"
     ]
    }
   ],
   "source": [
    "os.removedirs(\"A\")"
   ]
  },
  {
   "cell_type": "code",
   "execution_count": 20,
   "id": "d22e9098-8b0f-4d27-b69a-49e62c1c1ae9",
   "metadata": {},
   "outputs": [],
   "source": [
    "os.removedirs(\"A/B\")\n",
    "# both A and B are removed"
   ]
  },
  {
   "cell_type": "code",
   "execution_count": 22,
   "id": "81c56aa0-18fc-4c1f-a2c0-df9ba0f00091",
   "metadata": {},
   "outputs": [],
   "source": [
    "os.mkdir(\"test\")"
   ]
  },
  {
   "cell_type": "code",
   "execution_count": 23,
   "id": "20132389-565b-4ec7-b33b-1827e05f8d5a",
   "metadata": {},
   "outputs": [],
   "source": [
    "os.rename(\"test\", \"Test\")"
   ]
  },
  {
   "cell_type": "code",
   "execution_count": 24,
   "id": "049395e7-af67-4b11-a23b-5c864fb14597",
   "metadata": {},
   "outputs": [
    {
     "data": {
      "text/plain": [
       "True"
      ]
     },
     "execution_count": 24,
     "metadata": {},
     "output_type": "execute_result"
    }
   ],
   "source": [
    "os.path.exists(\"Test\")"
   ]
  },
  {
   "cell_type": "code",
   "execution_count": 25,
   "id": "605b00d2-73b7-4ce1-b4ce-d226f19b014a",
   "metadata": {},
   "outputs": [
    {
     "data": {
      "text/plain": [
       "False"
      ]
     },
     "execution_count": 25,
     "metadata": {},
     "output_type": "execute_result"
    }
   ],
   "source": [
    "os.path.exists(\"test\")"
   ]
  },
  {
   "cell_type": "markdown",
   "id": "f596ceef-eb24-4bf6-b38b-11c2d9b9ed29",
   "metadata": {},
   "source": [
    "### Function Scope"
   ]
  },
  {
   "cell_type": "code",
   "execution_count": 27,
   "id": "94c6ff4c-7196-42e4-a75a-0576327deb7f",
   "metadata": {},
   "outputs": [
    {
     "ename": "NameError",
     "evalue": "name 'local_var' is not defined",
     "output_type": "error",
     "traceback": [
      "\u001b[0;31m---------------------------------------------------------------------------\u001b[0m",
      "\u001b[0;31mNameError\u001b[0m                                 Traceback (most recent call last)",
      "\u001b[0;32m<ipython-input-27-4ed296d2e639>\u001b[0m in \u001b[0;36m<module>\u001b[0;34m\u001b[0m\n\u001b[1;32m      1\u001b[0m \u001b[0;32mdef\u001b[0m \u001b[0mfunction_with_local_variable\u001b[0m\u001b[0;34m(\u001b[0m\u001b[0;34m)\u001b[0m\u001b[0;34m:\u001b[0m\u001b[0;34m\u001b[0m\u001b[0;34m\u001b[0m\u001b[0m\n\u001b[1;32m      2\u001b[0m     \u001b[0mlocal_var\u001b[0m \u001b[0;34m=\u001b[0m \u001b[0;34m\"ABCD\"\u001b[0m\u001b[0;34m\u001b[0m\u001b[0;34m\u001b[0m\u001b[0m\n\u001b[0;32m----> 3\u001b[0;31m \u001b[0mprint\u001b[0m\u001b[0;34m(\u001b[0m\u001b[0mlocal_var\u001b[0m\u001b[0;34m)\u001b[0m\u001b[0;34m\u001b[0m\u001b[0;34m\u001b[0m\u001b[0m\n\u001b[0m",
      "\u001b[0;31mNameError\u001b[0m: name 'local_var' is not defined"
     ]
    }
   ],
   "source": [
    "def function_with_local_variable():\n",
    "    local_var = \"ABCD\"\n",
    "print(local_var)"
   ]
  },
  {
   "cell_type": "markdown",
   "id": "b9ac552f-9638-4145-9251-6f22eb6f7933",
   "metadata": {},
   "source": [
    "### Function Scope"
   ]
  },
  {
   "cell_type": "code",
   "execution_count": 28,
   "id": "9878e8d7-5e49-4160-a6b7-35b0ad73446c",
   "metadata": {},
   "outputs": [
    {
     "name": "stdout",
     "output_type": "stream",
     "text": [
      "Inside: I am in the function (local) scope, result = 0\n",
      "0 0\n",
      "Inside: I am in the function (local) scope, result = 1\n",
      "1 1\n",
      "Inside: I am in the function (local) scope, result = 4\n",
      "2 4\n",
      "Inside: I am in the function (local) scope, result = 9\n",
      "3 9\n",
      "Outside: result = I am in the global scope\n"
     ]
    }
   ],
   "source": [
    "result = \"I am in the global scope\" # global variable result\n",
    "\n",
    "def square_it(value):\n",
    "    result = value**2 # local variable result\n",
    "    print(\"Inside: I am in the function (local) scope, result =\", result)\n",
    "    return result\n",
    "\n",
    "for i in range(4):\n",
    "    print(i, square_it(i))\n",
    "\n",
    "print(\"Outside: result =\", result)"
   ]
  },
  {
   "cell_type": "markdown",
   "id": "5d8b9721-4c5f-4ff9-a643-ec52e3dc0d34",
   "metadata": {},
   "source": [
    "### Mutable and immutable data types"
   ]
  },
  {
   "cell_type": "code",
   "execution_count": 29,
   "id": "28ce3f16-53d3-4634-8280-139cc759c288",
   "metadata": {},
   "outputs": [
    {
     "name": "stdout",
     "output_type": "stream",
     "text": [
      "None\n",
      "[1, 2, 3, 4]\n"
     ]
    }
   ],
   "source": [
    "def poplist(mylist):\n",
    "    mylist.pop()\n",
    "\n",
    "A = [1,2,3,4,5]\n",
    "myresult = poplist(A)\n",
    "print(myresult)\n",
    "print(A)"
   ]
  },
  {
   "cell_type": "code",
   "execution_count": 31,
   "id": "6529da81-7613-4682-bdc8-8e3a78d4ac32",
   "metadata": {},
   "outputs": [
    {
     "name": "stdout",
     "output_type": "stream",
     "text": [
      "3\n",
      "3\n",
      "4\n"
     ]
    }
   ],
   "source": [
    "def change_num(a):\n",
    "    a = a + 1\n",
    "    return a\n",
    "\n",
    "a = 3\n",
    "print(a)\n",
    "b = change_num(a)\n",
    "print(a)\n",
    "print(b)"
   ]
  },
  {
   "cell_type": "markdown",
   "id": "8dbd5104-a3a9-40a9-b1e8-634a921654a8",
   "metadata": {},
   "source": [
    "### Function Definition vs. Function Call"
   ]
  },
  {
   "cell_type": "code",
   "execution_count": null,
   "id": "a6614d58-d50a-4394-9863-f0e774f83c3d",
   "metadata": {},
   "outputs": [],
   "source": []
  },
  {
   "cell_type": "code",
   "execution_count": null,
   "id": "69e715c1-1c90-4d94-97da-806f3a55ac69",
   "metadata": {},
   "outputs": [],
   "source": []
  },
  {
   "cell_type": "markdown",
   "id": "9b974480-ef2f-44bf-8bff-f0a3faf7446c",
   "metadata": {},
   "source": [
    "### Attributes and functions from modules"
   ]
  },
  {
   "cell_type": "code",
   "execution_count": 32,
   "id": "6f180a54-a0e2-4997-acc1-4bafdf055d9e",
   "metadata": {},
   "outputs": [
    {
     "data": {
      "text/plain": [
       "3.141592653589793"
      ]
     },
     "execution_count": 32,
     "metadata": {},
     "output_type": "execute_result"
    }
   ],
   "source": [
    "import math\n",
    "math.pi"
   ]
  },
  {
   "cell_type": "code",
   "execution_count": 33,
   "id": "d4b44f65-ad39-401b-8158-53739f932152",
   "metadata": {},
   "outputs": [
    {
     "data": {
      "text/plain": [
       "10.0"
      ]
     },
     "execution_count": 33,
     "metadata": {},
     "output_type": "execute_result"
    }
   ],
   "source": [
    "math.sqrt(100)"
   ]
  },
  {
   "cell_type": "code",
   "execution_count": 34,
   "id": "791e4c6b-c9d6-4df0-9bc2-002a82cb3137",
   "metadata": {},
   "outputs": [
    {
     "data": {
      "text/plain": [
       "'/home/ruwaa/Documents/NU2/04.Spring2021/CIT656-Sp2021'"
      ]
     },
     "execution_count": 34,
     "metadata": {},
     "output_type": "execute_result"
    }
   ],
   "source": [
    "os.getcwd()"
   ]
  },
  {
   "cell_type": "code",
   "execution_count": 45,
   "id": "05753c6d-7808-43d4-924c-08bf59df5967",
   "metadata": {},
   "outputs": [
    {
     "data": {
      "text/plain": [
       "<function posix.getcwd()>"
      ]
     },
     "execution_count": 45,
     "metadata": {},
     "output_type": "execute_result"
    }
   ],
   "source": [
    "os.getcwd"
   ]
  },
  {
   "cell_type": "code",
   "execution_count": 42,
   "id": "66bc3ea3-541d-40c1-aa1c-350b7c1356dc",
   "metadata": {},
   "outputs": [],
   "source": [
    "import my_module"
   ]
  },
  {
   "cell_type": "code",
   "execution_count": 36,
   "id": "3dcb0e17-7e27-4a4f-87a8-051bcd9695f5",
   "metadata": {},
   "outputs": [
    {
     "data": {
      "text/plain": [
       "25"
      ]
     },
     "execution_count": 36,
     "metadata": {},
     "output_type": "execute_result"
    }
   ],
   "source": [
    "my_module.square_it(5)"
   ]
  },
  {
   "cell_type": "code",
   "execution_count": 37,
   "id": "9517e3b5-f7dd-4fc0-90ab-b0767dc46911",
   "metadata": {},
   "outputs": [
    {
     "ename": "TypeError",
     "evalue": "'int' object is not callable",
     "output_type": "error",
     "traceback": [
      "\u001b[0;31m---------------------------------------------------------------------------\u001b[0m",
      "\u001b[0;31mTypeError\u001b[0m                                 Traceback (most recent call last)",
      "\u001b[0;32m<ipython-input-37-ea72022aa28b>\u001b[0m in \u001b[0;36m<module>\u001b[0;34m\u001b[0m\n\u001b[0;32m----> 1\u001b[0;31m \u001b[0mmy_module\u001b[0m\u001b[0;34m.\u001b[0m\u001b[0mcarrot\u001b[0m\u001b[0;34m(\u001b[0m\u001b[0;34m)\u001b[0m\u001b[0;34m\u001b[0m\u001b[0;34m\u001b[0m\u001b[0m\n\u001b[0m",
      "\u001b[0;31mTypeError\u001b[0m: 'int' object is not callable"
     ]
    }
   ],
   "source": [
    "my_module.carrot()"
   ]
  },
  {
   "cell_type": "code",
   "execution_count": 38,
   "id": "5892b6f8-165a-4096-8c66-ab720969356c",
   "metadata": {},
   "outputs": [
    {
     "data": {
      "text/plain": [
       "5"
      ]
     },
     "execution_count": 38,
     "metadata": {},
     "output_type": "execute_result"
    }
   ],
   "source": [
    "my_module.carrot"
   ]
  },
  {
   "cell_type": "code",
   "execution_count": 44,
   "id": "e196226b-4bd1-48e2-9dc6-cf8563b18717",
   "metadata": {},
   "outputs": [
    {
     "ename": "TypeError",
     "evalue": "square_it() missing 1 required positional argument: 'i'",
     "output_type": "error",
     "traceback": [
      "\u001b[0;31m---------------------------------------------------------------------------\u001b[0m",
      "\u001b[0;31mTypeError\u001b[0m                                 Traceback (most recent call last)",
      "\u001b[0;32m<ipython-input-44-ddb4c6f46860>\u001b[0m in \u001b[0;36m<module>\u001b[0;34m\u001b[0m\n\u001b[1;32m      1\u001b[0m \u001b[0;32mimport\u001b[0m \u001b[0mmy_module\u001b[0m\u001b[0;34m\u001b[0m\u001b[0;34m\u001b[0m\u001b[0m\n\u001b[0;32m----> 2\u001b[0;31m \u001b[0mmy_module\u001b[0m\u001b[0;34m.\u001b[0m\u001b[0msquare_it\u001b[0m\u001b[0;34m(\u001b[0m\u001b[0;34m)\u001b[0m\u001b[0;34m\u001b[0m\u001b[0;34m\u001b[0m\u001b[0m\n\u001b[0m",
      "\u001b[0;31mTypeError\u001b[0m: square_it() missing 1 required positional argument: 'i'"
     ]
    }
   ],
   "source": [
    "import my_module\n",
    "my_module.square_it()"
   ]
  },
  {
   "cell_type": "code",
   "execution_count": null,
   "id": "b3b36059-71f4-48d1-a9c8-23e822eeb2dd",
   "metadata": {},
   "outputs": [],
   "source": []
  },
  {
   "cell_type": "code",
   "execution_count": null,
   "id": "3514ca74-af22-4ec0-b780-5cbc40977029",
   "metadata": {},
   "outputs": [],
   "source": []
  }
 ],
 "metadata": {
  "kernelspec": {
   "display_name": "Python 3",
   "language": "python",
   "name": "python3"
  },
  "language_info": {
   "codemirror_mode": {
    "name": "ipython",
    "version": 3
   },
   "file_extension": ".py",
   "mimetype": "text/x-python",
   "name": "python",
   "nbconvert_exporter": "python",
   "pygments_lexer": "ipython3",
   "version": "3.9.4"
  }
 },
 "nbformat": 4,
 "nbformat_minor": 5
}
