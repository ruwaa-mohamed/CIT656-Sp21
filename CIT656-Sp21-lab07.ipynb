{
 "cells": [
  {
   "cell_type": "markdown",
   "id": "9c966676-00a6-4395-9fe8-7888fd5411ea",
   "metadata": {},
   "source": [
    "# CIT656 - Spring 2021\n",
    "## Lab 6 - June 06, 2021\n",
    "\n",
    "#### Topics\n",
    "* More about functions\n",
    "* `os` modules\n",
    "\n",
    "#### Tasks\n",
    "* Translating DNA sequence\n",
    "* "
   ]
  },
  {
   "cell_type": "markdown",
   "id": "9bb87ce5-3ecf-45d6-99f3-35ad82514e7d",
   "metadata": {},
   "source": [
    "### `os` Module\n",
    "It's a module that provides a lot of functions to handle files and dirctories using Python. \n",
    "You can use it with a simple `import` statement.\n",
    "```python\n",
    "import os\n",
    "```\n",
    "\n",
    "Here's a list of the most common functions in `os` module:\n",
    "\n",
    "| Function | Description |\n",
    "| :------------ | :---------- |\n",
    "| `os.system() ` | to execute a bash command |\n",
    "| `os.getcwd()` | returns the path of the current working directory | \n",
    "| `os.chdir()` | change the path of the current working directory to the path given to the function |\n",
    "| `os.mkdir()` | create a new directory (input is a string of the file name) |\n",
    "| `os.makedirs()` | Recursive directory creation from a path (parent and children directories)|\n",
    "| `os.path.join()` | similar to the `+` with strings; usually used wit parent directory and child directory |\n",
    "| `os.listdir()` | returns a list of all the files and directories in a given directory | \n",
    "| `os.remove()` | remove a file |\n",
    "| `os.rmdir()` | remove a directory (folder) |\n",
    "| `os.removedirs()` | remove a directory (folder) recursively (parent and children directories) |\n",
    "| `os.rename()` | rename a file or a directory |\n",
    "| `os.path.exists()` | returns a boolean value if the fil exists |\n"
   ]
  },
  {
   "cell_type": "code",
   "execution_count": null,
   "id": "aa5738d6-12f8-4434-8091-a2bbe925076e",
   "metadata": {},
   "outputs": [],
   "source": []
  },
  {
   "cell_type": "code",
   "execution_count": null,
   "id": "2757394f-a4f9-49ae-bd4d-9bd8eba08d6b",
   "metadata": {},
   "outputs": [],
   "source": []
  },
  {
   "cell_type": "markdown",
   "id": "f596ceef-eb24-4bf6-b38b-11c2d9b9ed29",
   "metadata": {},
   "source": [
    "### None-return functions"
   ]
  },
  {
   "cell_type": "code",
   "execution_count": null,
   "id": "94c6ff4c-7196-42e4-a75a-0576327deb7f",
   "metadata": {},
   "outputs": [],
   "source": [
    "def function_with_local_variable():\n",
    "    local_var = \"ABCD\"\n",
    "print local_var\n",
    "# Returns a NameError"
   ]
  },
  {
   "cell_type": "markdown",
   "id": "b9ac552f-9638-4145-9251-6f22eb6f7933",
   "metadata": {},
   "source": [
    "### Function Scope"
   ]
  },
  {
   "cell_type": "code",
   "execution_count": null,
   "id": "9878e8d7-5e49-4160-a6b7-35b0ad73446c",
   "metadata": {},
   "outputs": [],
   "source": [
    "result = \"I am in the global scope\" # global variable result\n",
    "def square_it(value):\n",
    "    result = value**2 # local variable result\n",
    "    print \"Inside: I am in the function (local) scope, result =\", result\n",
    "    return result\n",
    "for i in range(4):\n",
    "    print i, square_it(i)\n",
    "print \"Outside: result =\", result"
   ]
  },
  {
   "cell_type": "markdown",
   "id": "5d8b9721-4c5f-4ff9-a643-ec52e3dc0d34",
   "metadata": {},
   "source": [
    "### Mutable and immutable data types"
   ]
  },
  {
   "cell_type": "code",
   "execution_count": null,
   "id": "28ce3f16-53d3-4634-8280-139cc759c288",
   "metadata": {},
   "outputs": [],
   "source": [
    "def poplist(mylist):\n",
    "    mylist.pop()\n",
    "A = [1,2,3,4,5]\n",
    "myresult = poplist( A )\n",
    "print myresult\n",
    "print A"
   ]
  },
  {
   "cell_type": "markdown",
   "id": "8dbd5104-a3a9-40a9-b1e8-634a921654a8",
   "metadata": {},
   "source": [
    "### Function Definition vs. Function Call"
   ]
  },
  {
   "cell_type": "code",
   "execution_count": null,
   "id": "a6614d58-d50a-4394-9863-f0e774f83c3d",
   "metadata": {},
   "outputs": [],
   "source": []
  },
  {
   "cell_type": "code",
   "execution_count": null,
   "id": "69e715c1-1c90-4d94-97da-806f3a55ac69",
   "metadata": {},
   "outputs": [],
   "source": []
  },
  {
   "cell_type": "markdown",
   "id": "9b974480-ef2f-44bf-8bff-f0a3faf7446c",
   "metadata": {},
   "source": [
    "### Attributes and functions from modules"
   ]
  },
  {
   "cell_type": "code",
   "execution_count": null,
   "id": "6f180a54-a0e2-4997-acc1-4bafdf055d9e",
   "metadata": {},
   "outputs": [],
   "source": []
  }
 ],
 "metadata": {
  "kernelspec": {
   "display_name": "Python 3",
   "language": "python",
   "name": "python3"
  },
  "language_info": {
   "codemirror_mode": {
    "name": "ipython",
    "version": 3
   },
   "file_extension": ".py",
   "mimetype": "text/x-python",
   "name": "python",
   "nbconvert_exporter": "python",
   "pygments_lexer": "ipython3",
   "version": "3.9.4"
  }
 },
 "nbformat": 4,
 "nbformat_minor": 5
}
