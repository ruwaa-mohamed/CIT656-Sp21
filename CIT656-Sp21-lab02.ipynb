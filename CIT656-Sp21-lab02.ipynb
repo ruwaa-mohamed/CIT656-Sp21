{
 "cells": [
  {
   "cell_type": "markdown",
   "metadata": {},
   "source": [
    "# CIT656 - Spring 2021\n",
    "**Contents**\n",
    "1. Logical operators, comparisons, and boolean data types.\n",
    "2. String operations\n",
    "\n",
    "**lab tasks**\n",
    "1. Central dogma, part I: Transcription\n",
    "2. Reverse complement\n",
    "3. AT and GC content"
   ]
  },
  {
   "cell_type": "markdown",
   "metadata": {},
   "source": [
    "### Logical operators, comparisons, and boolean data-type\n",
    "One of the easiest yet powerful operations that can be done using Python is logical operations (comparing two values together). The logical operators are:\n",
    "* `>` greater than \n",
    "* `<` less than\n",
    "* `>=` greater than or equal\n",
    "* `<=` less than or equal\n",
    "* `==` is equal\n",
    "* `!=` not equal\n",
    "An example could be as follows:\n",
    "```python\n",
    "5 >= 3\n",
    "```\n",
    "You can think of this statement as a question: Is 5 greater than or equal to 3? \n",
    "The answer should be either \"yes\" or \"no\". In Python words, the answer is either `True` or `False`. These are the only two values of the `Boolean` data type (usually abbreviated as `bool`). Note that `True` and `False` are case sensetive too.\n",
    "\n",
    "Try the following examples:"
   ]
  },
  {
   "cell_type": "code",
   "execution_count": null,
   "metadata": {},
   "outputs": [],
   "source": [
    "5 >= 3"
   ]
  },
  {
   "cell_type": "code",
   "execution_count": null,
   "metadata": {},
   "outputs": [],
   "source": [
    "6 < 3"
   ]
  },
  {
   "cell_type": "code",
   "execution_count": null,
   "metadata": {},
   "outputs": [],
   "source": [
    "3 == 3"
   ]
  },
  {
   "cell_type": "code",
   "execution_count": null,
   "metadata": {},
   "outputs": [],
   "source": [
    "5 != 5"
   ]
  },
  {
   "cell_type": "code",
   "execution_count": null,
   "metadata": {},
   "outputs": [],
   "source": [
    "type(True)"
   ]
  },
  {
   "cell_type": "code",
   "execution_count": null,
   "metadata": {},
   "outputs": [],
   "source": [
    "type(False)"
   ]
  },
  {
   "cell_type": "markdown",
   "metadata": {},
   "source": [
    "To make complex comparisons (comparisons made of multiple conditions/operators), the following logical operators are used:\n",
    "* `and` or `&&` --> means that the net statement is true only if all conditions are true.\n",
    "* `or` or `||` --> means that the net stetement is true when any of the conditions is true.\n",
    "* `not` or `!` --> for negating the statement. \n",
    "\n",
    "Try the following examples:"
   ]
  },
  {
   "cell_type": "code",
   "execution_count": null,
   "metadata": {},
   "outputs": [],
   "source": [
    "5 > 3 && 2 <= 1"
   ]
  },
  {
   "cell_type": "code",
   "execution_count": null,
   "metadata": {},
   "outputs": [],
   "source": [
    "!True"
   ]
  },
  {
   "cell_type": "markdown",
   "metadata": {},
   "source": [
    "All possible results are summarized in the following truth table\n",
    "![Truth table](https://upload.wikimedia.org/wikipedia/commons/4/4a/Truth_table_for_AND%2C_OR%2C_and_NOT.png \"Truth table\")\n",
    "Another way to represent boolean values is by integers: `True` is represented as 1 and `False` is represented as 0."
   ]
  },
  {
   "cell_type": "markdown",
   "metadata": {},
   "source": [
    "### Strings in Python\n",
    "String in Python are defined by either single quotes `'` or double quotes `\"`, the important thing is to start and end the string with the same symbol. Try the following examples:"
   ]
  },
  {
   "cell_type": "code",
   "execution_count": null,
   "metadata": {},
   "outputs": [],
   "source": [
    "\"Hello, worled\""
   ]
  },
  {
   "cell_type": "code",
   "execution_count": null,
   "metadata": {},
   "outputs": [],
   "source": [
    "'Hello, Ruwaa!'"
   ]
  },
  {
   "cell_type": "code",
   "execution_count": null,
   "metadata": {},
   "outputs": [],
   "source": [
    "\"She said 'yes'\""
   ]
  },
  {
   "cell_type": "code",
   "execution_count": null,
   "metadata": {},
   "outputs": [],
   "source": [
    "'He said \"No\"'"
   ]
  },
  {
   "cell_type": "code",
   "execution_count": null,
   "metadata": {},
   "outputs": [],
   "source": [
    "\"this is double quote \\\"\""
   ]
  },
  {
   "cell_type": "code",
   "execution_count": null,
   "metadata": {},
   "outputs": [],
   "source": [
    "'this is single quote \\''"
   ]
  },
  {
   "cell_type": "markdown",
   "metadata": {},
   "source": [
    "There are some special characters in Python strings\n",
    "\n",
    "| Character | Meaning |\n",
    "|:----|:----|\n",
    "| `\\t` | tab |\n",
    "| `\\n` | new line |\n",
    "| `\\'` | single quote |\n",
    "| `\\\"` | double quote |\n",
    "| `\\\\` | back slash |\n",
    "\n",
    "\n",
    "Strings in Python are case sensetive. This means that `a` is not the same as `A`. Try the following example."
   ]
  },
  {
   "cell_type": "code",
   "execution_count": null,
   "metadata": {},
   "outputs": [],
   "source": [
    "'a' == 'A'"
   ]
  },
  {
   "cell_type": "markdown",
   "metadata": {},
   "source": [
    "### Strings indexing and  subscription\n",
    "The characters of a string in Python are numbered from 0 up to stringlength -1.\n",
    "\n",
    "![strings indexing](https://3.bp.blogspot.com/-sLHL8zUQ8DM/XSGGcncqaoI/AAAAAAAABfw/EK5G6TqMowUZ66W3RUNXnqRyhnb-UvCBgCLcBGAs/s1600/Python%2BString%2Bindex.png)\n",
    "\n",
    "To slice part of the string we use square brackets `[]`. \n",
    "Try the following examples:"
   ]
  },
  {
   "cell_type": "code",
   "execution_count": null,
   "metadata": {},
   "outputs": [],
   "source": [
    "s = \"ATCGAA\""
   ]
  },
  {
   "cell_type": "code",
   "execution_count": null,
   "metadata": {},
   "outputs": [],
   "source": [
    "s[0]"
   ]
  },
  {
   "cell_type": "code",
   "execution_count": null,
   "metadata": {},
   "outputs": [],
   "source": [
    "s[1:3]"
   ]
  },
  {
   "cell_type": "code",
   "execution_count": null,
   "metadata": {},
   "outputs": [],
   "source": [
    "s[1:5:2]"
   ]
  },
  {
   "cell_type": "markdown",
   "metadata": {},
   "source": [
    "The notations is as follows\n",
    "\n",
    "`string[start:stop:step]`\n",
    "\n",
    "For example, `s[1:4]` can be read as **starting from `1`, up to but not including `4`**. This returns the characters at indices 1, 2, and 3 only. the character at index 4 is not returned. \n",
    "\n",
    "The step indicates the increament of the index between the returned indices. For instance, `s[1:6:2]` will return the characters at indices 1, 3, and 5. \n",
    "\n",
    "Note that the defaults of the start is `0`, end is `-1` or the last index, and step is `1`. This values is used when no value is given at its place. \n",
    "For instance, `s[::]` means from the beginning, to the end, with step 1. \n",
    "\n",
    "What happens when the step is negative? How should we provide the indices of the start and the end? \n",
    "Try the following examples."
   ]
  },
  {
   "cell_type": "code",
   "execution_count": null,
   "metadata": {},
   "outputs": [],
   "source": [
    "s[::-1]"
   ]
  },
  {
   "cell_type": "code",
   "execution_count": null,
   "metadata": {},
   "outputs": [],
   "source": [
    "s[3:1:-1]"
   ]
  },
  {
   "cell_type": "code",
   "execution_count": null,
   "metadata": {},
   "outputs": [],
   "source": [
    "s[1:3:-1]"
   ]
  },
  {
   "cell_type": "markdown",
   "metadata": {},
   "source": [
    "What is the difference between the last two examples? What is the error raised? and Why?"
   ]
  }
 ],
 "metadata": {
  "kernelspec": {
   "display_name": "Python 3",
   "language": "python",
   "name": "python3"
  },
  "language_info": {
   "codemirror_mode": {
    "name": "ipython",
    "version": 3
   },
   "file_extension": ".py",
   "mimetype": "text/x-python",
   "name": "python",
   "nbconvert_exporter": "python",
   "pygments_lexer": "ipython3",
   "version": "3.8.5"
  }
 },
 "nbformat": 4,
 "nbformat_minor": 4
}
