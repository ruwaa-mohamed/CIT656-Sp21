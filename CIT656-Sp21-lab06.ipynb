{
 "cells": [
  {
   "cell_type": "markdown",
   "id": "f3d6ef7f",
   "metadata": {},
   "source": [
    "# CIT656 - Spring 2021\n",
    "## Lab 6 - May 23, 2021\n",
    "\n",
    "**Previously**\n",
    "* Python as calculator\n",
    "* Variable assignment\n",
    "* Numeric data types (`int` and `float`)\n",
    "* `math` module \n",
    "* Boolean data type and logical operators\n",
    "* Type-casting\n",
    "* `print()`, `input()`, and `type()` functions.\n",
    "* Strings and string methods\n",
    "* Lists and list methods\n",
    "* Comparison between lists and strings\n",
    "* Sets and set methods \n",
    "* Tuples and tuple methods\n",
    "* `range()` function\n",
    "* Understanding different types of errors in Python.\n",
    "* Syntax vs. semantics\n",
    "* Comments in Python\n",
    "   * single-line comment with hashtag symbol`#`.\n",
    "   * multi-line comment with triple double-quotes `\"\"\"`\n",
    "* Control flow with conditionals: \n",
    "   * `if`\n",
    "   * `if-else`\n",
    "   * `if-elif-else` statements.\n",
    "   * nested conditions\n",
    "* Control flow with loops:\n",
    "   * `for` loop\n",
    "   * `while` loop\n",
    "   * nested loops\n",
    "   * loop control statements: `else`, `break`, `continue`, and `pass`\n",
    "   * list-comprehension format\n",
    "   * nested loops and conditions \n",
    "\n",
    "**Previous Tasks**\n",
    "* Central dogma, part I: Transcription of DNA sequence to RNA sequence\n",
    "* Reverse complement for DNA sequence\n",
    "* AT and GC content of a DNA sequence\n",
    "* Finding restriction sites within DNA sequence\n",
    "* Introducing point mutation in DNA sequence\n",
    "* Dividing a DNA sequence into codons \n",
    "* Calculating the isoelectric point of a protein sequence. (not finished)\n",
    "\n",
    "**Today's Content**\n",
    "1. Dictionaries\n",
    "2. Loops with dictionaries\n",
    "3. Functions in Python\n",
    "4. Handeling files in python\n",
    "5. `os` module\n",
    "\n",
    "**Today's Taks**\n",
    "1. Central Dogma part II: translation\n",
    "2. Finding ORFs in DNA sequence\n",
    "3. Primer design tool\n",
    "4. Putting all previous tasks in functions\n",
    "5. FASTA file parsing\n",
    "6. Parsing all FASTA files in a directory.\n",
    "7. selection tool for restriction enzymes (that cuts at the end of a gene but not inside it)"
   ]
  },
  {
   "cell_type": "code",
   "execution_count": null,
   "id": "c4eff23a-7774-4259-8406-106ef76f0246",
   "metadata": {},
   "outputs": [],
   "source": []
  }
 ],
 "metadata": {
  "kernelspec": {
   "display_name": "Python 3",
   "language": "python",
   "name": "python3"
  },
  "language_info": {
   "codemirror_mode": {
    "name": "ipython",
    "version": 3
   },
   "file_extension": ".py",
   "mimetype": "text/x-python",
   "name": "python",
   "nbconvert_exporter": "python",
   "pygments_lexer": "ipython3",
   "version": "3.9.4"
  }
 },
 "nbformat": 4,
 "nbformat_minor": 5
}
