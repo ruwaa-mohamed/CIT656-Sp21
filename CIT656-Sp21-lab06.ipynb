{
 "cells": [
  {
   "cell_type": "markdown",
   "id": "f3d6ef7f",
   "metadata": {},
   "source": [
    "# CIT656 - Spring 2021\n",
    "## Lab 6 - May 23, 2021\n",
    "\n",
    "**Previously**\n",
    "* Python as calculator\n",
    "* Variable assignment\n",
    "* Numeric data types (`int` and `float`)\n",
    "* `math` module \n",
    "* Boolean data type and logical operators\n",
    "* Type-casting\n",
    "* `print()`, `input()`, and `type()` functions.\n",
    "* Strings and string methods\n",
    "* Lists and list methods\n",
    "* Comparison between lists and strings\n",
    "* Sets and set methods \n",
    "* Tuples and tuple methods\n",
    "* `range()` function\n",
    "* Understanding different types of errors in Python.\n",
    "* Syntax vs. semantics\n",
    "* Comments in Python\n",
    "   * single-line comment with hashtag symbol`#`.\n",
    "   * multi-line comment with triple double-quotes `\"\"\"`\n",
    "* Control flow with conditionals: \n",
    "   * `if`\n",
    "   * `if-else`\n",
    "   * `if-elif-else` statements.\n",
    "   * nested conditions\n",
    "* Control flow with loops:\n",
    "   * `for` loop\n",
    "   * `while` loop\n",
    "   * nested loops\n",
    "   * loop control statements: `else`, `break`, `continue`, and `pass`\n",
    "   * list-comprehension format\n",
    "   * nested loops and conditions \n",
    "\n",
    "**Previous Tasks**\n",
    "* Central dogma, part I: Transcription of DNA sequence to RNA sequence\n",
    "* Reverse complement for DNA sequence\n",
    "* AT and GC content of a DNA sequence\n",
    "* Finding restriction sites within DNA sequence\n",
    "* Introducing point mutation in DNA sequence\n",
    "* Dividing a DNA sequence into codons \n",
    "* Calculating the isoelectric point of a protein sequence. (not finished)\n",
    "\n",
    "**Today's Content**\n",
    "1. Dictionaries\n",
    "2. Loops with dictionaries and dictionary comprehension method\n",
    "3. Functions in Python\n",
    "4. Handeling files in python\n",
    "5. `os` module\n",
    "\n",
    "**Today's Taks**\n",
    "1. Central Dogma part II: translation\n",
    "2. Finding ORFs in DNA sequence\n",
    "3. Primer design tool\n",
    "4. Putting all previous tasks in functions\n",
    "5. FASTA file parsing\n",
    "6. Parsing all FASTA files in a directory.\n",
    "7. selection tool for restriction enzymes (that cuts at the end of a gene but not inside it)"
   ]
  },
  {
   "cell_type": "markdown",
   "id": "9056127a-4ab4-4f7b-a92f-40ded4efb2a0",
   "metadata": {},
   "source": [
    "#### Unfinished tasks\n",
    "1. write a python script that takes a protein sequence and prints the unique amino acids in that sequence and count of each in the protein sequence.\n",
    "2. modify your code in part 3 to calculate the isoelectric point of that protein (search for the PI of each AA on Google)."
   ]
  },
  {
   "cell_type": "code",
   "execution_count": 6,
   "id": "add2c8d6-fd55-4827-a683-4eda1541aa0a",
   "metadata": {},
   "outputs": [
    {
     "name": "stdout",
     "output_type": "stream",
     "text": [
      "MGGSEAMYSIHNNVRARETVCNYVCNSSLL\n",
      "{'E', 'R', 'A', 'T', 'H', 'M', 'V', 'C', 'L', 'Y', 'G', 'N', 'S', 'I'}\n",
      "ERATHMVCLYGNSI\n"
     ]
    }
   ],
   "source": [
    "prot = \"MGGSEAMYSIHNNVRARETVCNYVCNSSLL\"\n",
    "print(prot)\n",
    "prot_set = set(prot)\n",
    "print(prot_set)\n",
    "prot_uniq = \"\".join(prot_set)\n",
    "print(prot_uniq)"
   ]
  },
  {
   "cell_type": "code",
   "execution_count": 11,
   "id": "b4ed1fde-b197-4e5c-84b3-5641ed598e2b",
   "metadata": {},
   "outputs": [
    {
     "name": "stdout",
     "output_type": "stream",
     "text": [
      "E : 2\n",
      "R : 2\n",
      "A : 2\n",
      "T : 1\n",
      "H : 1\n",
      "M : 2\n",
      "V : 3\n",
      "C : 2\n",
      "L : 2\n",
      "Y : 2\n",
      "G : 2\n",
      "N : 4\n",
      "S : 4\n",
      "I : 1\n"
     ]
    }
   ],
   "source": [
    "prot = \"MGGSEAMYSIHNNVRARETVCNYVCNSSLL\"\n",
    "for A in set(prot):\n",
    "    print(A, \":\", prot.count(A))"
   ]
  },
  {
   "cell_type": "code",
   "execution_count": 12,
   "id": "9a6af1fe-bdc4-4b98-a61a-c028c5b81c7f",
   "metadata": {},
   "outputs": [
    {
     "name": "stdout",
     "output_type": "stream",
     "text": [
      "M : 2\n",
      "G : 2\n",
      "G : 2\n",
      "S : 4\n",
      "E : 2\n",
      "A : 2\n",
      "M : 2\n",
      "Y : 2\n",
      "S : 4\n",
      "I : 1\n",
      "H : 1\n",
      "N : 4\n",
      "N : 4\n",
      "V : 3\n",
      "R : 2\n",
      "A : 2\n",
      "R : 2\n",
      "E : 2\n",
      "T : 1\n",
      "V : 3\n",
      "C : 2\n",
      "N : 4\n",
      "Y : 2\n",
      "V : 3\n",
      "C : 2\n",
      "N : 4\n",
      "S : 4\n",
      "S : 4\n",
      "L : 2\n",
      "L : 2\n"
     ]
    }
   ],
   "source": [
    "prot = \"MGGSEAMYSIHNNVRARETVCNYVCNSSLL\"\n",
    "for A in prot:\n",
    "    print(A, \":\", prot.count(A))\n",
    "    ## too many repetiotions!"
   ]
  },
  {
   "cell_type": "code",
   "execution_count": null,
   "id": "a5b75a3e-f853-47e3-81a0-bea753335a3b",
   "metadata": {},
   "outputs": [],
   "source": []
  },
  {
   "cell_type": "markdown",
   "id": "a94e949d-3029-45d5-8f1d-2a71e119b4f6",
   "metadata": {},
   "source": [
    "### Dictionaries in Python\n",
    "Dictionaries are sequence data type in Python. They are defined by curely brackets `{}`. Each item of the dictionary is composed of a key and a value separated by colon `:`. Items of the dictionary are separated by a comma `,`. Another way to create an empty dictionary is to use the `dict()` function.\n",
    "\n",
    "Dictionaries are unordered (not indixed).\n",
    "\n",
    "The key should be immutable data type (string, int, float, bool), but it can't be mutable data type (list, dict). The value could be anything."
   ]
  },
  {
   "cell_type": "code",
   "execution_count": 13,
   "id": "69f2af4e-817e-40e9-a886-925f7cd063f8",
   "metadata": {},
   "outputs": [
    {
     "name": "stdout",
     "output_type": "stream",
     "text": [
      "{}\n",
      "<class 'dict'>\n",
      "{}\n",
      "<class 'dict'>\n"
     ]
    }
   ],
   "source": [
    "## Creating an empty dictionary\n",
    "empty_dict = {}\n",
    "print(empty_dict)\n",
    "print(type(empty_dict))\n",
    "\n",
    "empty_dict = dict()\n",
    "print(empty_dict)\n",
    "print(type(empty_dict))"
   ]
  },
  {
   "cell_type": "code",
   "execution_count": 14,
   "id": "d9b4bced-db45-465a-93ec-bb60d0f08120",
   "metadata": {},
   "outputs": [
    {
     "data": {
      "text/plain": [
       "0"
      ]
     },
     "execution_count": 14,
     "metadata": {},
     "output_type": "execute_result"
    }
   ],
   "source": [
    "len(empty_dict)"
   ]
  },
  {
   "cell_type": "code",
   "execution_count": 16,
   "id": "d747e5f8-43b9-4c2b-9ed6-36f7cde968d7",
   "metadata": {},
   "outputs": [
    {
     "name": "stdout",
     "output_type": "stream",
     "text": [
      "{'A': 1, 'B': 2, 'C': 3}\n",
      "<class 'dict'>\n"
     ]
    },
    {
     "data": {
      "text/plain": [
       "3"
      ]
     },
     "execution_count": 16,
     "metadata": {},
     "output_type": "execute_result"
    }
   ],
   "source": [
    "## Creating a dictionary withelements\n",
    "my_dict = {'A': 1,\n",
    "          'B' : 2,\n",
    "          'C': 3}\n",
    "print(my_dict)\n",
    "print(type(my_dict))\n",
    "len(my_dict)"
   ]
  },
  {
   "cell_type": "code",
   "execution_count": 18,
   "id": "dc672aa4-5f17-4b1a-b28e-ff0e61aa3f52",
   "metadata": {},
   "outputs": [
    {
     "name": "stdout",
     "output_type": "stream",
     "text": [
      "{'name': 'Ruwaa', 'age': 23, 'job': ['TA', 'RA', None]}\n"
     ]
    }
   ],
   "source": [
    "student = {'name': \"Ruwaa\",\n",
    "          'age' : 23,\n",
    "          'job' : ['TA', 'RA', None]}\n",
    "print(student)"
   ]
  },
  {
   "cell_type": "markdown",
   "id": "2e8fdd51-afc1-4aa6-b8a0-31d2f7e8ce07",
   "metadata": {},
   "source": [
    "To add elements to a dictionary, you can use the following format:\n",
    "```python\n",
    "my_dict[new_key] = new_value\n",
    "```"
   ]
  },
  {
   "cell_type": "code",
   "execution_count": 19,
   "id": "7b27cb59-2b4d-4958-a932-c6ad636b8669",
   "metadata": {},
   "outputs": [
    {
     "name": "stdout",
     "output_type": "stream",
     "text": [
      "{'A': 1, 'B': 2, 'C': 3, 'D': 5}\n"
     ]
    }
   ],
   "source": [
    "## Adding elements to the dictionary\n",
    "my_dict['D'] = 5\n",
    "print(my_dict)"
   ]
  },
  {
   "cell_type": "code",
   "execution_count": 20,
   "id": "00d97470-74f6-4ee6-9eb2-d75fcf8c92f6",
   "metadata": {},
   "outputs": [
    {
     "name": "stdout",
     "output_type": "stream",
     "text": [
      "{'A': 1, 'B': 2, 'C': 3, 'D': 4}\n"
     ]
    }
   ],
   "source": [
    "## Overwriting the value of a key (keys should be unique, no dublicates)\n",
    "my_dict['D'] = 4\n",
    "print(my_dict)"
   ]
  },
  {
   "cell_type": "code",
   "execution_count": 21,
   "id": "a30c23c2-96ce-4d92-93ee-e0a3efb096bc",
   "metadata": {},
   "outputs": [
    {
     "data": {
      "text/plain": [
       "23"
      ]
     },
     "execution_count": 21,
     "metadata": {},
     "output_type": "execute_result"
    }
   ],
   "source": [
    "## get the value of some key\n",
    "student[\"age\"]"
   ]
  },
  {
   "cell_type": "code",
   "execution_count": 22,
   "id": "b7188726-455b-4747-9b27-73f46846de86",
   "metadata": {},
   "outputs": [
    {
     "ename": "KeyError",
     "evalue": "'E'",
     "output_type": "error",
     "traceback": [
      "\u001b[0;31m---------------------------------------------------------------------------\u001b[0m",
      "\u001b[0;31mKeyError\u001b[0m                                  Traceback (most recent call last)",
      "\u001b[0;32m<ipython-input-22-e1d518f95d2a>\u001b[0m in \u001b[0;36m<module>\u001b[0;34m\u001b[0m\n\u001b[0;32m----> 1\u001b[0;31m \u001b[0mmy_dict\u001b[0m\u001b[0;34m[\u001b[0m\u001b[0;34m'E'\u001b[0m\u001b[0;34m]\u001b[0m\u001b[0;34m\u001b[0m\u001b[0;34m\u001b[0m\u001b[0m\n\u001b[0m",
      "\u001b[0;31mKeyError\u001b[0m: 'E'"
     ]
    }
   ],
   "source": [
    "my_dict['E']"
   ]
  },
  {
   "cell_type": "code",
   "execution_count": 25,
   "id": "0beef69f-85c3-4bc5-b2a1-305b17001cfb",
   "metadata": {},
   "outputs": [
    {
     "name": "stdout",
     "output_type": "stream",
     "text": [
      "None\n"
     ]
    }
   ],
   "source": [
    "var1 = my_dict.get('E')\n",
    "print(var1)"
   ]
  },
  {
   "cell_type": "code",
   "execution_count": 27,
   "id": "d76327ac-8f9b-4c06-b390-144556058280",
   "metadata": {},
   "outputs": [
    {
     "name": "stdout",
     "output_type": "stream",
     "text": [
      "not found!\n"
     ]
    }
   ],
   "source": [
    "var2 = my_dict.get('E', \"not found!\")\n",
    "print(var2)"
   ]
  },
  {
   "cell_type": "code",
   "execution_count": 28,
   "id": "3f36e033-1949-406b-a715-801f44e03071",
   "metadata": {},
   "outputs": [
    {
     "ename": "KeyError",
     "evalue": "0",
     "output_type": "error",
     "traceback": [
      "\u001b[0;31m---------------------------------------------------------------------------\u001b[0m",
      "\u001b[0;31mKeyError\u001b[0m                                  Traceback (most recent call last)",
      "\u001b[0;32m<ipython-input-28-fb253cc1de23>\u001b[0m in \u001b[0;36m<module>\u001b[0;34m\u001b[0m\n\u001b[1;32m      1\u001b[0m \u001b[0;31m## Dictionary are not ordered (not indexed)\u001b[0m\u001b[0;34m\u001b[0m\u001b[0;34m\u001b[0m\u001b[0;34m\u001b[0m\u001b[0m\n\u001b[0;32m----> 2\u001b[0;31m \u001b[0mmy_dict\u001b[0m\u001b[0;34m[\u001b[0m\u001b[0;36m0\u001b[0m\u001b[0;34m]\u001b[0m\u001b[0;34m\u001b[0m\u001b[0;34m\u001b[0m\u001b[0m\n\u001b[0m",
      "\u001b[0;31mKeyError\u001b[0m: 0"
     ]
    }
   ],
   "source": [
    "## Dictionary are not ordered (not indexed)\n",
    "my_dict[0]"
   ]
  },
  {
   "cell_type": "markdown",
   "id": "69e0a585-948c-44d1-9960-21b5b2cc0d9d",
   "metadata": {},
   "source": [
    "### Dictionary methods \n",
    "\n",
    "| method | description |\n",
    "| :----- | :---------- |\n",
    "| `.get(key, error_msg)` | get the value of a key without raising error if not found | \n",
    "| `.pop(key)` | returns the value the key and removes the whole item (key and value) from the dictionary | \n",
    "| `.popitem()` | removes a random item from the dictionary and returns them |\n",
    "| `.clear()` | removes all items inside the dictionary |\n",
    "| `.items()` | returns a new object of key-value pairs (commonly used in loops) | \n",
    "| `.keys()` | returns a new object of the dictionary keys (used in loops) |\n",
    "| `.values()` | returns a new object of the dictionary values (used in loops) |"
   ]
  },
  {
   "cell_type": "markdown",
   "id": "05d10f30-b001-422a-87cf-bc38f024fe1b",
   "metadata": {},
   "source": [
    "### Loops with dictionaries\n",
    "We commonly iterate over dictionaries using the `dict.items()` method. "
   ]
  },
  {
   "cell_type": "code",
   "execution_count": 29,
   "id": "1aaa5758-4dff-4749-a331-30c1e01ee756",
   "metadata": {},
   "outputs": [],
   "source": [
    "gencode = {\n",
    "    'ATA':'I', 'ATC':'I', 'ATT':'I', 'ATG':'M',\n",
    "    'ACA':'T', 'ACC':'T', 'ACG':'T', 'ACT':'T',\n",
    "    'AAC':'N', 'AAT':'N', 'AAA':'K', 'AAG':'K',\n",
    "    'AGC':'S', 'AGT':'S', 'AGA':'R', 'AGG':'R',\n",
    "    'CTA':'L', 'CTC':'L', 'CTG':'L', 'CTT':'L',\n",
    "    'CCA':'P', 'CCC':'P', 'CCG':'P', 'CCT':'P',\n",
    "    'CAC':'H', 'CAT':'H', 'CAA':'Q', 'CAG':'Q',\n",
    "    'CGA':'R', 'CGC':'R', 'CGG':'R', 'CGT':'R',\n",
    "    'GTA':'V', 'GTC':'V', 'GTG':'V', 'GTT':'V',\n",
    "    'GCA':'A', 'GCC':'A', 'GCG':'A', 'GCT':'A',\n",
    "    'GAC':'D', 'GAT':'D', 'GAA':'E', 'GAG':'E',\n",
    "    'GGA':'G', 'GGC':'G', 'GGG':'G', 'GGT':'G',\n",
    "    'TCA':'S', 'TCC':'S', 'TCG':'S', 'TCT':'S',\n",
    "    'TTC':'F', 'TTT':'F', 'TTA':'L', 'TTG':'L',\n",
    "    'TAC':'Y', 'TAT':'Y', 'TAA':'_', 'TAG':'_',\n",
    "    'TGC':'C', 'TGT':'C', 'TGA':'_', 'TGG':'W'}"
   ]
  },
  {
   "cell_type": "code",
   "execution_count": 30,
   "id": "91aa050d-0f92-4588-ae8d-efc4f8e8fb87",
   "metadata": {},
   "outputs": [
    {
     "name": "stdout",
     "output_type": "stream",
     "text": [
      "{'ATA': 'I', 'ATC': 'I', 'ATT': 'I', 'ATG': 'M', 'ACA': 'T', 'ACC': 'T', 'ACG': 'T', 'ACT': 'T', 'AAC': 'N', 'AAT': 'N', 'AAA': 'K', 'AAG': 'K', 'AGC': 'S', 'AGT': 'S', 'AGA': 'R', 'AGG': 'R', 'CTA': 'L', 'CTC': 'L', 'CTG': 'L', 'CTT': 'L', 'CCA': 'P', 'CCC': 'P', 'CCG': 'P', 'CCT': 'P', 'CAC': 'H', 'CAT': 'H', 'CAA': 'Q', 'CAG': 'Q', 'CGA': 'R', 'CGC': 'R', 'CGG': 'R', 'CGT': 'R', 'GTA': 'V', 'GTC': 'V', 'GTG': 'V', 'GTT': 'V', 'GCA': 'A', 'GCC': 'A', 'GCG': 'A', 'GCT': 'A', 'GAC': 'D', 'GAT': 'D', 'GAA': 'E', 'GAG': 'E', 'GGA': 'G', 'GGC': 'G', 'GGG': 'G', 'GGT': 'G', 'TCA': 'S', 'TCC': 'S', 'TCG': 'S', 'TCT': 'S', 'TTC': 'F', 'TTT': 'F', 'TTA': 'L', 'TTG': 'L', 'TAC': 'Y', 'TAT': 'Y', 'TAA': '_', 'TAG': '_', 'TGC': 'C', 'TGT': 'C', 'TGA': '_', 'TGG': 'W'}\n",
      "64\n"
     ]
    }
   ],
   "source": [
    "print(gencode)\n",
    "print(len(gencode))"
   ]
  },
  {
   "cell_type": "code",
   "execution_count": 31,
   "id": "8ac7080e-9caf-4123-86d2-ec8d3369d4e7",
   "metadata": {},
   "outputs": [
    {
     "name": "stdout",
     "output_type": "stream",
     "text": [
      "('ATA', 'I')\n",
      "ATA\n",
      "I\n"
     ]
    }
   ],
   "source": [
    "for i in gencode.items():\n",
    "    print(i)\n",
    "    print(i[0])\n",
    "    print(i[1])\n",
    "    break;"
   ]
  },
  {
   "cell_type": "code",
   "execution_count": 32,
   "id": "0100d239-9fe8-4e8a-beda-e995beb0b362",
   "metadata": {},
   "outputs": [
    {
     "name": "stdout",
     "output_type": "stream",
     "text": [
      "ATA\n",
      "I\n"
     ]
    }
   ],
   "source": [
    "for key,val in gencode.items():\n",
    "    print(key)\n",
    "    print(val)\n",
    "    break"
   ]
  },
  {
   "cell_type": "code",
   "execution_count": 36,
   "id": "463318c2-e35c-4751-a13e-7ee6f03281ca",
   "metadata": {},
   "outputs": [
    {
     "name": "stdout",
     "output_type": "stream",
     "text": [
      "ATA\n",
      "I\n"
     ]
    }
   ],
   "source": [
    "for i in gencode:\n",
    "    print(i)\n",
    "    print(gencode[i])\n",
    "    break"
   ]
  },
  {
   "cell_type": "code",
   "execution_count": 37,
   "id": "cda3bc9b-49af-4f4c-b914-921996050490",
   "metadata": {},
   "outputs": [
    {
     "name": "stdout",
     "output_type": "stream",
     "text": [
      "ATA\n",
      "I\n"
     ]
    }
   ],
   "source": [
    "for i in gencode.keys():\n",
    "    print(i)\n",
    "    print(gencode[i])\n",
    "    break"
   ]
  },
  {
   "cell_type": "code",
   "execution_count": 40,
   "id": "869bd28e-6915-4969-ac1c-a529f5c6ff1e",
   "metadata": {},
   "outputs": [
    {
     "name": "stdout",
     "output_type": "stream",
     "text": [
      "I\n"
     ]
    }
   ],
   "source": [
    "for i in gencode.values():\n",
    "    print(i)\n",
    "    break\n",
    "    ## how to get the keys of these vlaues?"
   ]
  },
  {
   "cell_type": "markdown",
   "id": "ce98a4dd-b900-4690-949f-c8c596ee8f42",
   "metadata": {},
   "source": [
    "### Dictionary Comprehension\n",
    "Dictionary comprehension method, similar to the list compreension method, can be used to collect the output of a loop in a dictionary output format. Compare the following two examples."
   ]
  },
  {
   "cell_type": "code",
   "execution_count": 41,
   "id": "e6668140-e2de-4911-8b3a-54b204d00fdd",
   "metadata": {},
   "outputs": [
    {
     "name": "stdout",
     "output_type": "stream",
     "text": [
      "{0: 0, 1: 1, 2: 4, 3: 9, 4: 16, 5: 25}\n"
     ]
    }
   ],
   "source": [
    "## Extended loop format\n",
    "squares_1 = {}\n",
    "for x in range(6):\n",
    "    squares_1[x] = x*x\n",
    "print(squares_1)"
   ]
  },
  {
   "cell_type": "code",
   "execution_count": 42,
   "id": "0aecaadf-10e3-4b38-9fd1-da9e263f7938",
   "metadata": {},
   "outputs": [
    {
     "name": "stdout",
     "output_type": "stream",
     "text": [
      "{0: 0, 1: 1, 2: 4, 3: 9, 4: 16, 5: 25}\n"
     ]
    }
   ],
   "source": [
    "# Dictionary Comprehension\n",
    "squares_2 = {x: x*x for x in range(6)}\n",
    "print(squares_2)"
   ]
  },
  {
   "cell_type": "code",
   "execution_count": 44,
   "id": "86a5fb9a-57fe-4181-a601-925e8d040ecc",
   "metadata": {},
   "outputs": [
    {
     "name": "stdout",
     "output_type": "stream",
     "text": [
      "012345\n"
     ]
    }
   ],
   "source": [
    "seq = \"\"\n",
    "for i in range(6):\n",
    "    seq = seq + str(i)\n",
    "print(seq)"
   ]
  },
  {
   "cell_type": "code",
   "execution_count": 46,
   "id": "ca2c8622-0c80-4eea-bace-719641317b78",
   "metadata": {},
   "outputs": [
    {
     "name": "stdout",
     "output_type": "stream",
     "text": [
      "{'E': 2, 'R': 2, 'A': 2, 'T': 1, 'H': 1, 'M': 2, 'V': 3, 'C': 2, 'L': 2, 'Y': 2, 'G': 2, 'N': 4, 'S': 4, 'I': 1}\n"
     ]
    }
   ],
   "source": [
    "uniq_prot = {}\n",
    "for x in set(prot):\n",
    "    uniq_prot[x] = prot.count(x)\n",
    "print(uniq_prot)"
   ]
  },
  {
   "cell_type": "code",
   "execution_count": 47,
   "id": "5a196820-dadc-4801-b67e-dd16707e8bbc",
   "metadata": {},
   "outputs": [
    {
     "name": "stdout",
     "output_type": "stream",
     "text": [
      "{'E': 2, 'R': 2, 'A': 2, 'T': 1, 'H': 1, 'M': 2, 'V': 3, 'C': 2, 'L': 2, 'Y': 2, 'G': 2, 'N': 4, 'S': 4, 'I': 1}\n"
     ]
    }
   ],
   "source": [
    "print({x: prot.count(x) for x in set(prot)})"
   ]
  },
  {
   "cell_type": "markdown",
   "id": "137ede5a-9f62-4e41-a94d-770c15fb418d",
   "metadata": {},
   "source": [
    "### Functions in Python\n",
    "A function is considered just a grouping a block of code and giving a name for it to allow easier multiplr uages. Think of it as a black box that is used to do some sepcific task. It could have an input and an output; however, both are optional. It's written in the following format \n",
    "```python\n",
    "def function_name(arg1, arg2):\n",
    "    code block\n",
    "    return output_var\n",
    "```\n",
    "Note that variables created inside the function cannot be used outside the function. "
   ]
  },
  {
   "cell_type": "code",
   "execution_count": null,
   "id": "d67b47b1-9ed1-4b0e-b47c-246bdefa2aaf",
   "metadata": {},
   "outputs": [],
   "source": []
  }
 ],
 "metadata": {
  "kernelspec": {
   "display_name": "Python 3",
   "language": "python",
   "name": "python3"
  },
  "language_info": {
   "codemirror_mode": {
    "name": "ipython",
    "version": 3
   },
   "file_extension": ".py",
   "mimetype": "text/x-python",
   "name": "python",
   "nbconvert_exporter": "python",
   "pygments_lexer": "ipython3",
   "version": "3.9.4"
  }
 },
 "nbformat": 4,
 "nbformat_minor": 5
}
