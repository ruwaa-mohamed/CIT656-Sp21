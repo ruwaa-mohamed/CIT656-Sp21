{
 "cells": [
  {
   "cell_type": "markdown",
   "id": "f3d6ef7f",
   "metadata": {},
   "source": [
    "# CIT656 - Spring 2021\n",
    "## Lab 6 - May 23, 2021 and May 29, 2021\n",
    "\n",
    "**Previously**\n",
    "* Python as calculator\n",
    "* Variable assignment\n",
    "* Numeric data types (`int` and `float`)\n",
    "* `math` module \n",
    "* Boolean data type and logical operators\n",
    "* Type-casting\n",
    "* `print()`, `input()`, and `type()` functions.\n",
    "* Strings and string methods\n",
    "* Lists and list methods\n",
    "* Comparison between lists and strings\n",
    "* Sets and set methods \n",
    "* Tuples and tuple methods\n",
    "* `range()` function\n",
    "* Understanding different types of errors in Python.\n",
    "* Syntax vs. semantics\n",
    "* Comments in Python\n",
    "   * single-line comment with hashtag symbol`#`.\n",
    "   * multi-line comment with triple double-quotes `\"\"\"`\n",
    "* Control flow with conditionals: \n",
    "   * `if`\n",
    "   * `if-else`\n",
    "   * `if-elif-else` statements.\n",
    "   * nested conditions\n",
    "* Control flow with loops:\n",
    "   * `for` loop\n",
    "   * `while` loop\n",
    "   * nested loops\n",
    "   * loop control statements: `else`, `break`, `continue`, and `pass`\n",
    "   * list-comprehension format\n",
    "   * nested loops and conditions \n",
    "\n",
    "**Previous Tasks**\n",
    "* Central dogma, part I: Transcription of DNA sequence to RNA sequence\n",
    "* Reverse complement for DNA sequence\n",
    "* AT and GC content of a DNA sequence\n",
    "* Finding restriction sites within DNA sequence\n",
    "* Introducing point mutation in DNA sequence\n",
    "* Dividing a DNA sequence into codons \n",
    "* Calculating the isoelectric point of a protein sequence. (not finished)\n",
    "\n",
    "**Today's Content**\n",
    "1. Dictionaries\n",
    "2. Loops with dictionaries and dictionary comprehension method\n",
    "3. Functions in Python\n",
    "4. Handeling files in python\n",
    "5. `os` module\n",
    "\n",
    "**Today's Taks**\n",
    "1. Central Dogma part II: translation\n",
    "2. Finding ORFs in DNA sequence\n",
    "3. Primer design tool\n",
    "4. Putting all previous tasks in functions\n",
    "5. FASTA file parsing\n",
    "6. Parsing all FASTA files in a directory.\n",
    "7. selection tool for restriction enzymes (that cuts at the end of a gene but not inside it)"
   ]
  },
  {
   "cell_type": "markdown",
   "id": "9056127a-4ab4-4f7b-a92f-40ded4efb2a0",
   "metadata": {},
   "source": [
    "#### Unfinished tasks\n",
    "1. write a python script that takes a protein sequence and prints the unique amino acids in that sequence and count of each in the protein sequence.\n",
    "2. modify your code in part 3 to calculate the isoelectric point of that protein (search for the PI of each AA on Google).\n",
    "\n",
    "*The isoelectric point (pI) is the pH at which the net charge of a protein is zero.*\n",
    "Use this reference: https://biologydirect.biomedcentral.com/articles/10.1186/s13062-016-0159-9 "
   ]
  },
  {
   "cell_type": "code",
   "execution_count": 6,
   "id": "add2c8d6-fd55-4827-a683-4eda1541aa0a",
   "metadata": {},
   "outputs": [
    {
     "name": "stdout",
     "output_type": "stream",
     "text": [
      "MGGSEAMYSIHNNVRARETVCNYVCNSSLL\n",
      "{'E', 'R', 'A', 'T', 'H', 'M', 'V', 'C', 'L', 'Y', 'G', 'N', 'S', 'I'}\n",
      "ERATHMVCLYGNSI\n"
     ]
    }
   ],
   "source": [
    "prot = \"MGGSEAMYSIHNNVRARETVCNYVCNSSLL\"\n",
    "print(prot)\n",
    "prot_set = set(prot)\n",
    "print(prot_set)\n",
    "prot_uniq = \"\".join(prot_set)\n",
    "print(prot_uniq)"
   ]
  },
  {
   "cell_type": "code",
   "execution_count": 11,
   "id": "b4ed1fde-b197-4e5c-84b3-5641ed598e2b",
   "metadata": {},
   "outputs": [
    {
     "name": "stdout",
     "output_type": "stream",
     "text": [
      "E : 2\n",
      "R : 2\n",
      "A : 2\n",
      "T : 1\n",
      "H : 1\n",
      "M : 2\n",
      "V : 3\n",
      "C : 2\n",
      "L : 2\n",
      "Y : 2\n",
      "G : 2\n",
      "N : 4\n",
      "S : 4\n",
      "I : 1\n"
     ]
    }
   ],
   "source": [
    "prot = \"MGGSEAMYSIHNNVRARETVCNYVCNSSLL\"\n",
    "for A in set(prot):\n",
    "    print(A, \":\", prot.count(A))"
   ]
  },
  {
   "cell_type": "code",
   "execution_count": 12,
   "id": "9a6af1fe-bdc4-4b98-a61a-c028c5b81c7f",
   "metadata": {},
   "outputs": [
    {
     "name": "stdout",
     "output_type": "stream",
     "text": [
      "M : 2\n",
      "G : 2\n",
      "G : 2\n",
      "S : 4\n",
      "E : 2\n",
      "A : 2\n",
      "M : 2\n",
      "Y : 2\n",
      "S : 4\n",
      "I : 1\n",
      "H : 1\n",
      "N : 4\n",
      "N : 4\n",
      "V : 3\n",
      "R : 2\n",
      "A : 2\n",
      "R : 2\n",
      "E : 2\n",
      "T : 1\n",
      "V : 3\n",
      "C : 2\n",
      "N : 4\n",
      "Y : 2\n",
      "V : 3\n",
      "C : 2\n",
      "N : 4\n",
      "S : 4\n",
      "S : 4\n",
      "L : 2\n",
      "L : 2\n"
     ]
    }
   ],
   "source": [
    "prot = \"MGGSEAMYSIHNNVRARETVCNYVCNSSLL\"\n",
    "for A in prot:\n",
    "    print(A, \":\", prot.count(A))\n",
    "    ## too many repetiotions!"
   ]
  },
  {
   "cell_type": "code",
   "execution_count": null,
   "id": "a5b75a3e-f853-47e3-81a0-bea753335a3b",
   "metadata": {},
   "outputs": [],
   "source": [
    "## Calculating the PI of a protein sequence"
   ]
  },
  {
   "cell_type": "markdown",
   "id": "a94e949d-3029-45d5-8f1d-2a71e119b4f6",
   "metadata": {},
   "source": [
    "### Dictionaries in Python\n",
    "Dictionaries are sequence data type in Python. They are defined by curely brackets `{}`. Each item of the dictionary is composed of a key and a value separated by colon `:`. Items of the dictionary are separated by a comma `,`. Another way to create an empty dictionary is to use the `dict()` function.\n",
    "\n",
    "Dictionaries are unordered (not indixed).\n",
    "\n",
    "The key should be immutable data type (string, int, float, bool), but it can't be mutable data type (list, dict). The value could be anything."
   ]
  },
  {
   "cell_type": "code",
   "execution_count": 13,
   "id": "69f2af4e-817e-40e9-a886-925f7cd063f8",
   "metadata": {},
   "outputs": [
    {
     "name": "stdout",
     "output_type": "stream",
     "text": [
      "{}\n",
      "<class 'dict'>\n",
      "{}\n",
      "<class 'dict'>\n"
     ]
    }
   ],
   "source": [
    "## Creating an empty dictionary\n",
    "empty_dict = {}\n",
    "print(empty_dict)\n",
    "print(type(empty_dict))\n",
    "\n",
    "empty_dict = dict()\n",
    "print(empty_dict)\n",
    "print(type(empty_dict))"
   ]
  },
  {
   "cell_type": "code",
   "execution_count": 14,
   "id": "d9b4bced-db45-465a-93ec-bb60d0f08120",
   "metadata": {},
   "outputs": [
    {
     "data": {
      "text/plain": [
       "0"
      ]
     },
     "execution_count": 14,
     "metadata": {},
     "output_type": "execute_result"
    }
   ],
   "source": [
    "len(empty_dict)"
   ]
  },
  {
   "cell_type": "code",
   "execution_count": 16,
   "id": "d747e5f8-43b9-4c2b-9ed6-36f7cde968d7",
   "metadata": {},
   "outputs": [
    {
     "name": "stdout",
     "output_type": "stream",
     "text": [
      "{'A': 1, 'B': 2, 'C': 3}\n",
      "<class 'dict'>\n"
     ]
    },
    {
     "data": {
      "text/plain": [
       "3"
      ]
     },
     "execution_count": 16,
     "metadata": {},
     "output_type": "execute_result"
    }
   ],
   "source": [
    "## Creating a dictionary withelements\n",
    "my_dict = {'A': 1,\n",
    "          'B' : 2,\n",
    "          'C': 3}\n",
    "print(my_dict)\n",
    "print(type(my_dict))\n",
    "len(my_dict)"
   ]
  },
  {
   "cell_type": "code",
   "execution_count": 18,
   "id": "dc672aa4-5f17-4b1a-b28e-ff0e61aa3f52",
   "metadata": {},
   "outputs": [
    {
     "name": "stdout",
     "output_type": "stream",
     "text": [
      "{'name': 'Ruwaa', 'age': 23, 'job': ['TA', 'RA', None]}\n"
     ]
    }
   ],
   "source": [
    "student = {'name': \"Ruwaa\",\n",
    "          'age' : 23,\n",
    "          'job' : ['TA', 'RA', None]}\n",
    "print(student)"
   ]
  },
  {
   "cell_type": "markdown",
   "id": "2e8fdd51-afc1-4aa6-b8a0-31d2f7e8ce07",
   "metadata": {},
   "source": [
    "To add elements to a dictionary, you can use the following format:\n",
    "```python\n",
    "my_dict[new_key] = new_value\n",
    "```"
   ]
  },
  {
   "cell_type": "code",
   "execution_count": 19,
   "id": "7b27cb59-2b4d-4958-a932-c6ad636b8669",
   "metadata": {},
   "outputs": [
    {
     "name": "stdout",
     "output_type": "stream",
     "text": [
      "{'A': 1, 'B': 2, 'C': 3, 'D': 5}\n"
     ]
    }
   ],
   "source": [
    "## Adding elements to the dictionary\n",
    "my_dict['D'] = 5\n",
    "print(my_dict)"
   ]
  },
  {
   "cell_type": "code",
   "execution_count": 20,
   "id": "00d97470-74f6-4ee6-9eb2-d75fcf8c92f6",
   "metadata": {},
   "outputs": [
    {
     "name": "stdout",
     "output_type": "stream",
     "text": [
      "{'A': 1, 'B': 2, 'C': 3, 'D': 4}\n"
     ]
    }
   ],
   "source": [
    "## Overwriting the value of a key (keys should be unique, no dublicates)\n",
    "my_dict['D'] = 4\n",
    "print(my_dict)"
   ]
  },
  {
   "cell_type": "code",
   "execution_count": 21,
   "id": "a30c23c2-96ce-4d92-93ee-e0a3efb096bc",
   "metadata": {},
   "outputs": [
    {
     "data": {
      "text/plain": [
       "23"
      ]
     },
     "execution_count": 21,
     "metadata": {},
     "output_type": "execute_result"
    }
   ],
   "source": [
    "## get the value of some key\n",
    "student[\"age\"]"
   ]
  },
  {
   "cell_type": "code",
   "execution_count": 22,
   "id": "b7188726-455b-4747-9b27-73f46846de86",
   "metadata": {},
   "outputs": [
    {
     "ename": "KeyError",
     "evalue": "'E'",
     "output_type": "error",
     "traceback": [
      "\u001b[0;31m---------------------------------------------------------------------------\u001b[0m",
      "\u001b[0;31mKeyError\u001b[0m                                  Traceback (most recent call last)",
      "\u001b[0;32m<ipython-input-22-e1d518f95d2a>\u001b[0m in \u001b[0;36m<module>\u001b[0;34m\u001b[0m\n\u001b[0;32m----> 1\u001b[0;31m \u001b[0mmy_dict\u001b[0m\u001b[0;34m[\u001b[0m\u001b[0;34m'E'\u001b[0m\u001b[0;34m]\u001b[0m\u001b[0;34m\u001b[0m\u001b[0;34m\u001b[0m\u001b[0m\n\u001b[0m",
      "\u001b[0;31mKeyError\u001b[0m: 'E'"
     ]
    }
   ],
   "source": [
    "my_dict['E']"
   ]
  },
  {
   "cell_type": "code",
   "execution_count": 25,
   "id": "0beef69f-85c3-4bc5-b2a1-305b17001cfb",
   "metadata": {},
   "outputs": [
    {
     "name": "stdout",
     "output_type": "stream",
     "text": [
      "None\n"
     ]
    }
   ],
   "source": [
    "var1 = my_dict.get('E')\n",
    "print(var1)"
   ]
  },
  {
   "cell_type": "code",
   "execution_count": 27,
   "id": "d76327ac-8f9b-4c06-b390-144556058280",
   "metadata": {},
   "outputs": [
    {
     "name": "stdout",
     "output_type": "stream",
     "text": [
      "not found!\n"
     ]
    }
   ],
   "source": [
    "var2 = my_dict.get('E', \"not found!\")\n",
    "print(var2)"
   ]
  },
  {
   "cell_type": "code",
   "execution_count": 28,
   "id": "3f36e033-1949-406b-a715-801f44e03071",
   "metadata": {},
   "outputs": [
    {
     "ename": "KeyError",
     "evalue": "0",
     "output_type": "error",
     "traceback": [
      "\u001b[0;31m---------------------------------------------------------------------------\u001b[0m",
      "\u001b[0;31mKeyError\u001b[0m                                  Traceback (most recent call last)",
      "\u001b[0;32m<ipython-input-28-fb253cc1de23>\u001b[0m in \u001b[0;36m<module>\u001b[0;34m\u001b[0m\n\u001b[1;32m      1\u001b[0m \u001b[0;31m## Dictionary are not ordered (not indexed)\u001b[0m\u001b[0;34m\u001b[0m\u001b[0;34m\u001b[0m\u001b[0;34m\u001b[0m\u001b[0m\n\u001b[0;32m----> 2\u001b[0;31m \u001b[0mmy_dict\u001b[0m\u001b[0;34m[\u001b[0m\u001b[0;36m0\u001b[0m\u001b[0;34m]\u001b[0m\u001b[0;34m\u001b[0m\u001b[0;34m\u001b[0m\u001b[0m\n\u001b[0m",
      "\u001b[0;31mKeyError\u001b[0m: 0"
     ]
    }
   ],
   "source": [
    "## Dictionary are not ordered (not indexed)\n",
    "my_dict[0]"
   ]
  },
  {
   "cell_type": "markdown",
   "id": "69e0a585-948c-44d1-9960-21b5b2cc0d9d",
   "metadata": {},
   "source": [
    "### Dictionary methods \n",
    "\n",
    "| method | description |\n",
    "| :----- | :---------- |\n",
    "| `.get(key, error_msg)` | get the value of a key without raising error if not found | \n",
    "| `.pop(key)` | returns the value the key and removes the whole item (key and value) from the dictionary | \n",
    "| `.popitem()` | removes a random item from the dictionary and returns them |\n",
    "| `.clear()` | removes all items inside the dictionary |\n",
    "| `.items()` | returns a new object of key-value pairs (commonly used in loops) | \n",
    "| `.keys()` | returns a new object of the dictionary keys (used in loops) |\n",
    "| `.values()` | returns a new object of the dictionary values (used in loops) |"
   ]
  },
  {
   "cell_type": "markdown",
   "id": "05d10f30-b001-422a-87cf-bc38f024fe1b",
   "metadata": {},
   "source": [
    "### Loops with dictionaries\n",
    "We commonly iterate over dictionaries using the `dict.items()` method. "
   ]
  },
  {
   "cell_type": "code",
   "execution_count": 29,
   "id": "1aaa5758-4dff-4749-a331-30c1e01ee756",
   "metadata": {},
   "outputs": [],
   "source": [
    "gencode = {\n",
    "    'ATA':'I', 'ATC':'I', 'ATT':'I', 'ATG':'M',\n",
    "    'ACA':'T', 'ACC':'T', 'ACG':'T', 'ACT':'T',\n",
    "    'AAC':'N', 'AAT':'N', 'AAA':'K', 'AAG':'K',\n",
    "    'AGC':'S', 'AGT':'S', 'AGA':'R', 'AGG':'R',\n",
    "    'CTA':'L', 'CTC':'L', 'CTG':'L', 'CTT':'L',\n",
    "    'CCA':'P', 'CCC':'P', 'CCG':'P', 'CCT':'P',\n",
    "    'CAC':'H', 'CAT':'H', 'CAA':'Q', 'CAG':'Q',\n",
    "    'CGA':'R', 'CGC':'R', 'CGG':'R', 'CGT':'R',\n",
    "    'GTA':'V', 'GTC':'V', 'GTG':'V', 'GTT':'V',\n",
    "    'GCA':'A', 'GCC':'A', 'GCG':'A', 'GCT':'A',\n",
    "    'GAC':'D', 'GAT':'D', 'GAA':'E', 'GAG':'E',\n",
    "    'GGA':'G', 'GGC':'G', 'GGG':'G', 'GGT':'G',\n",
    "    'TCA':'S', 'TCC':'S', 'TCG':'S', 'TCT':'S',\n",
    "    'TTC':'F', 'TTT':'F', 'TTA':'L', 'TTG':'L',\n",
    "    'TAC':'Y', 'TAT':'Y', 'TAA':'_', 'TAG':'_',\n",
    "    'TGC':'C', 'TGT':'C', 'TGA':'_', 'TGG':'W'}"
   ]
  },
  {
   "cell_type": "code",
   "execution_count": 30,
   "id": "91aa050d-0f92-4588-ae8d-efc4f8e8fb87",
   "metadata": {},
   "outputs": [
    {
     "name": "stdout",
     "output_type": "stream",
     "text": [
      "{'ATA': 'I', 'ATC': 'I', 'ATT': 'I', 'ATG': 'M', 'ACA': 'T', 'ACC': 'T', 'ACG': 'T', 'ACT': 'T', 'AAC': 'N', 'AAT': 'N', 'AAA': 'K', 'AAG': 'K', 'AGC': 'S', 'AGT': 'S', 'AGA': 'R', 'AGG': 'R', 'CTA': 'L', 'CTC': 'L', 'CTG': 'L', 'CTT': 'L', 'CCA': 'P', 'CCC': 'P', 'CCG': 'P', 'CCT': 'P', 'CAC': 'H', 'CAT': 'H', 'CAA': 'Q', 'CAG': 'Q', 'CGA': 'R', 'CGC': 'R', 'CGG': 'R', 'CGT': 'R', 'GTA': 'V', 'GTC': 'V', 'GTG': 'V', 'GTT': 'V', 'GCA': 'A', 'GCC': 'A', 'GCG': 'A', 'GCT': 'A', 'GAC': 'D', 'GAT': 'D', 'GAA': 'E', 'GAG': 'E', 'GGA': 'G', 'GGC': 'G', 'GGG': 'G', 'GGT': 'G', 'TCA': 'S', 'TCC': 'S', 'TCG': 'S', 'TCT': 'S', 'TTC': 'F', 'TTT': 'F', 'TTA': 'L', 'TTG': 'L', 'TAC': 'Y', 'TAT': 'Y', 'TAA': '_', 'TAG': '_', 'TGC': 'C', 'TGT': 'C', 'TGA': '_', 'TGG': 'W'}\n",
      "64\n"
     ]
    }
   ],
   "source": [
    "print(gencode)\n",
    "print(len(gencode))"
   ]
  },
  {
   "cell_type": "code",
   "execution_count": 31,
   "id": "8ac7080e-9caf-4123-86d2-ec8d3369d4e7",
   "metadata": {},
   "outputs": [
    {
     "name": "stdout",
     "output_type": "stream",
     "text": [
      "('ATA', 'I')\n",
      "ATA\n",
      "I\n"
     ]
    }
   ],
   "source": [
    "for i in gencode.items():\n",
    "    print(i)\n",
    "    print(i[0])\n",
    "    print(i[1])\n",
    "    break;"
   ]
  },
  {
   "cell_type": "code",
   "execution_count": 32,
   "id": "0100d239-9fe8-4e8a-beda-e995beb0b362",
   "metadata": {},
   "outputs": [
    {
     "name": "stdout",
     "output_type": "stream",
     "text": [
      "ATA\n",
      "I\n"
     ]
    }
   ],
   "source": [
    "for key,val in gencode.items():\n",
    "    print(key)\n",
    "    print(val)\n",
    "    break"
   ]
  },
  {
   "cell_type": "code",
   "execution_count": 36,
   "id": "463318c2-e35c-4751-a13e-7ee6f03281ca",
   "metadata": {},
   "outputs": [
    {
     "name": "stdout",
     "output_type": "stream",
     "text": [
      "ATA\n",
      "I\n"
     ]
    }
   ],
   "source": [
    "for i in gencode:\n",
    "    print(i)\n",
    "    print(gencode[i])\n",
    "    break"
   ]
  },
  {
   "cell_type": "code",
   "execution_count": 37,
   "id": "cda3bc9b-49af-4f4c-b914-921996050490",
   "metadata": {},
   "outputs": [
    {
     "name": "stdout",
     "output_type": "stream",
     "text": [
      "ATA\n",
      "I\n"
     ]
    }
   ],
   "source": [
    "for i in gencode.keys():\n",
    "    print(i)\n",
    "    print(gencode[i])\n",
    "    break"
   ]
  },
  {
   "cell_type": "code",
   "execution_count": 40,
   "id": "869bd28e-6915-4969-ac1c-a529f5c6ff1e",
   "metadata": {},
   "outputs": [
    {
     "name": "stdout",
     "output_type": "stream",
     "text": [
      "I\n"
     ]
    }
   ],
   "source": [
    "for i in gencode.values():\n",
    "    print(i)\n",
    "    break\n",
    "    ## how to get the keys of these vlaues?"
   ]
  },
  {
   "cell_type": "markdown",
   "id": "ce98a4dd-b900-4690-949f-c8c596ee8f42",
   "metadata": {},
   "source": [
    "### Dictionary Comprehension\n",
    "Dictionary comprehension method, similar to the list compreension method, can be used to collect the output of a loop in a dictionary output format. Compare the following two examples."
   ]
  },
  {
   "cell_type": "code",
   "execution_count": 41,
   "id": "e6668140-e2de-4911-8b3a-54b204d00fdd",
   "metadata": {},
   "outputs": [
    {
     "name": "stdout",
     "output_type": "stream",
     "text": [
      "{0: 0, 1: 1, 2: 4, 3: 9, 4: 16, 5: 25}\n"
     ]
    }
   ],
   "source": [
    "## Extended loop format\n",
    "squares_1 = {}\n",
    "for x in range(6):\n",
    "    squares_1[x] = x*x\n",
    "print(squares_1)"
   ]
  },
  {
   "cell_type": "code",
   "execution_count": 42,
   "id": "0aecaadf-10e3-4b38-9fd1-da9e263f7938",
   "metadata": {},
   "outputs": [
    {
     "name": "stdout",
     "output_type": "stream",
     "text": [
      "{0: 0, 1: 1, 2: 4, 3: 9, 4: 16, 5: 25}\n"
     ]
    }
   ],
   "source": [
    "# Dictionary Comprehension\n",
    "squares_2 = {x: x*x for x in range(6)}\n",
    "print(squares_2)"
   ]
  },
  {
   "cell_type": "code",
   "execution_count": 44,
   "id": "86a5fb9a-57fe-4181-a601-925e8d040ecc",
   "metadata": {},
   "outputs": [
    {
     "name": "stdout",
     "output_type": "stream",
     "text": [
      "012345\n"
     ]
    }
   ],
   "source": [
    "seq = \"\"\n",
    "for i in range(6):\n",
    "    seq = seq + str(i)\n",
    "print(seq)"
   ]
  },
  {
   "cell_type": "code",
   "execution_count": 46,
   "id": "ca2c8622-0c80-4eea-bace-719641317b78",
   "metadata": {},
   "outputs": [
    {
     "name": "stdout",
     "output_type": "stream",
     "text": [
      "{'E': 2, 'R': 2, 'A': 2, 'T': 1, 'H': 1, 'M': 2, 'V': 3, 'C': 2, 'L': 2, 'Y': 2, 'G': 2, 'N': 4, 'S': 4, 'I': 1}\n"
     ]
    }
   ],
   "source": [
    "uniq_prot = {}\n",
    "for x in set(prot):\n",
    "    uniq_prot[x] = prot.count(x)\n",
    "print(uniq_prot)"
   ]
  },
  {
   "cell_type": "code",
   "execution_count": 47,
   "id": "5a196820-dadc-4801-b67e-dd16707e8bbc",
   "metadata": {},
   "outputs": [
    {
     "name": "stdout",
     "output_type": "stream",
     "text": [
      "{'E': 2, 'R': 2, 'A': 2, 'T': 1, 'H': 1, 'M': 2, 'V': 3, 'C': 2, 'L': 2, 'Y': 2, 'G': 2, 'N': 4, 'S': 4, 'I': 1}\n"
     ]
    }
   ],
   "source": [
    "print({x: prot.count(x) for x in set(prot)})"
   ]
  },
  {
   "cell_type": "markdown",
   "id": "a4a7f89b-4a00-4110-a6f6-2139ba90544b",
   "metadata": {},
   "source": [
    "### Example of Solving a problem (Assignment Question) with comments\n",
    "When you have a simple problem or task to solve, you need to think (in human words) how can you solve this problem/task. Then, write down this methodolgy in English word in detailed steps. These should be the comments in your code. After that, add empty lines between the comments and start to convet every English task to Python code (uncommented). This should be the submitted file. \n",
    "\n",
    "Here are a few tips:\n",
    "* Comments should ne written before writing the code not after writing the code (unless for clarrification or self-reminding of unfinished steps). \n",
    "* Comments should be on separate line from the code for better readability (the line before the code)\n",
    "* Simple expressions like varibale assignemnt need not to be commented. \n",
    "* Comments should have a meaning.\n",
    "* `#x is a dummy variable` is an exmaple of bad comment.\n",
    "\n",
    "Examine the following example from assignment 1:\n",
    "\n",
    "**Part 1:**\n",
    "Assume you have the following DNA sequence ACAGTCGACTAGCTTGCACGTAC, calculate the\n",
    "CG content percentage in this sequence. Let your program output this percentage on the screen.\n",
    "\n",
    "**Part 2:**\n",
    "Convert the DNA sequence above to an RNA sequence, assuming perfect transcription process without\n",
    "any loss in the DNA sequence bases. Simply, replace any “T” nucleotide with a “U” nucleotide. Let\n",
    "your program output this RNA sequence on the screen.\n",
    "\n",
    "**Part 3:**\n",
    "Calculate the possible number of amino acids resulting from translating the output of Part 2 above,\n",
    "assuming perfect translation process and assuming no introns in the sequence. Note: you should report\n",
    "the number of amino acids, not the names of the amino acids. Also report the number of bases that do\n",
    "not make a whole amino acid, if there is any. Report these numbers to the screen."
   ]
  },
  {
   "cell_type": "code",
   "execution_count": 8,
   "id": "60ff4a6e-728b-491f-b8db-e18dd7e69fd8",
   "metadata": {},
   "outputs": [
    {
     "name": "stdout",
     "output_type": "stream",
     "text": [
      "GC percentage of the sequence = 52.174 %\n"
     ]
    }
   ],
   "source": [
    "## Part 1\n",
    "## Define the DNA sequence\n",
    "DNA = \"ACAGTCGACTAGCTTGCACGTAC\"\n",
    "\n",
    "## Count G and C\n",
    "GC = DNA.count(\"C\") + DNA.count(\"G\")\n",
    "\n",
    "## Calculate the length of sequence\n",
    "length = len(DNA)\n",
    "\n",
    "## Calculate the percentage\n",
    "GC_percent = GC/length*100\n",
    "# GC_percent = \"{:.2f}\".format(GC_percent)\n",
    "GC_percent = round(GC_percent, 3)\n",
    "\n",
    "## Print the results to the console\n",
    "print(\"GC percentage of the sequence =\", GC_percent, \"%\")"
   ]
  },
  {
   "cell_type": "code",
   "execution_count": 3,
   "id": "9faf2b10-34d2-4c7d-9d37-663f295e5969",
   "metadata": {},
   "outputs": [
    {
     "name": "stdout",
     "output_type": "stream",
     "text": [
      "ACAGUCGACUAGCUUGCACGUAC\n"
     ]
    }
   ],
   "source": [
    "## Part 2\n",
    "## Convert DNA to RNA by replacing T with U\n",
    "RNA = DNA.replace(\"T\", \"U\")\n",
    "\n",
    "## print the output to the console\n",
    "print(RNA)"
   ]
  },
  {
   "cell_type": "code",
   "execution_count": 4,
   "id": "5e9615f0-5b3f-411d-bacf-4040d81c33ce",
   "metadata": {},
   "outputs": [],
   "source": [
    "## Part 3 \n",
    "## Getting the length of the sequnce\n",
    "RNA_len = len(RNA)\n",
    "\n",
    "## Divide the length by 3 to get the number of codons/AA (integer division, no fraction needed)\n",
    "AA_count = int(RNA_len/3)\n",
    "AA_count_2 = RNA_len//3\n",
    "\n",
    "## geting the number of extra bases by modulus (the fraction ignored in the previous step)\n",
    "extra_bases_count = RNA_len % 3"
   ]
  },
  {
   "cell_type": "markdown",
   "id": "137ede5a-9f62-4e41-a94d-770c15fb418d",
   "metadata": {},
   "source": [
    "### Functions in Python\n",
    "A function is considered just a grouping methodology for a block of code and giving a name for it to allow easier multiple uages. Think of it as a black box that is used to do some sepcific task. It could have an input and an output; however, both are optional. It's written in the following format \n",
    "```python\n",
    "def function_name(arg1, arg2):\n",
    "    code block\n",
    "    return output_var\n",
    "```\n",
    "Note that variables created inside the function cannot be used outside the function. "
   ]
  },
  {
   "cell_type": "code",
   "execution_count": 9,
   "id": "d67b47b1-9ed1-4b0e-b47c-246bdefa2aaf",
   "metadata": {},
   "outputs": [],
   "source": [
    "def get_GC(DNA):\n",
    "    ## Count G and C\n",
    "    GC = DNA.count(\"C\") + DNA.count(\"G\")\n",
    "\n",
    "    ## Calculate the length of sequence\n",
    "    length = len(DNA)\n",
    "\n",
    "    ## Calculate the percentage\n",
    "    GC_percent = GC/length*100\n",
    "    # GC_percent = \"{:.2f}\".format(GC_percent)\n",
    "    GC_percent = round(GC_percent, 3)\n",
    "    \n",
    "    ## return outpu\n",
    "    return GC_percent"
   ]
  },
  {
   "cell_type": "code",
   "execution_count": 10,
   "id": "c6af43d2-078d-4c22-9bc8-145ccd79ceac",
   "metadata": {},
   "outputs": [
    {
     "data": {
      "text/plain": [
       "52.174"
      ]
     },
     "execution_count": 10,
     "metadata": {},
     "output_type": "execute_result"
    }
   ],
   "source": [
    "get_GC(\"ACAGTCGACTAGCTTGCACGTAC\")"
   ]
  },
  {
   "cell_type": "code",
   "execution_count": 11,
   "id": "681dfb8f-f7b6-4b9f-ba48-b90697d57da3",
   "metadata": {},
   "outputs": [
    {
     "data": {
      "text/plain": [
       "48.148"
      ]
     },
     "execution_count": 11,
     "metadata": {},
     "output_type": "execute_result"
    }
   ],
   "source": [
    "get_GC(\"ACAGTCGACTACCCTTTATGCACGTAC\")"
   ]
  },
  {
   "cell_type": "markdown",
   "id": "e4f2bffb-e3c2-4c9d-af26-51c1c8a705fc",
   "metadata": {},
   "source": [
    "### Creating modules in Python\n",
    "You can write your own functions in Python, collect them all in one python script and using them all the time with `import` statement. Don't write `.py` at the end of the file in the import statement. \n",
    "For instance, save the python script as `my_functions.py`. When you need to use one of the functions you creatd, you use the following code:\n",
    "```python\n",
    "import my_functions\n",
    "GC = my_functions.get_GC(\"ATTCGAGACGT\")\n",
    "print(GC)\n",
    "```\n",
    "Make sure that the `my_functions.py` is at the same directory your script is in, or include the full path to the file in the import statement."
   ]
  },
  {
   "cell_type": "code",
   "execution_count": null,
   "id": "406d0b7e-d0a1-406b-89e3-27d7f41385bf",
   "metadata": {},
   "outputs": [],
   "source": []
  },
  {
   "cell_type": "markdown",
   "id": "143efa17-6800-4732-8305-a683bed16037",
   "metadata": {},
   "source": [
    "### Handeling files in Python\n",
    "To read content from a file we have 3 important objects: \n",
    "1. The file `path/name` on the computer --> saved as an `str` variable\n",
    "2. The file object itself --> returned from the `open()` funtion.\n",
    "3. The content of the file --> multiple file_object methods are used to read the file content and return them in an `str` of a `list` of strings.\n",
    "\n",
    "```python\n",
    "file_name = \"./seq.fasta\"\n",
    "file_object = open(file_name)\n",
    "file_content = file_object.read()\n",
    "```\n",
    "\n",
    "Don't forget to close the file at the end of the script.\n",
    "```python\n",
    "file_object.close()\n",
    "```\n",
    "\n",
    "There're 3 modes that a file can be opened with (specified in the `open()` function after the file name):\n",
    "1. `r` for read mode.\n",
    "2. `w` for write mode.\n",
    "3. `a` for appending mode.\n",
    "To create a file that doesn't exist to write in, you simple add a plus sign `+` like `w+` or `a+` for writing and appending modes, respectively. \n",
    "\n",
    "Once the file is open in read mode, there are 3 main methods that can be used to read the file content:\n",
    "1. `.read()` reads the whole file at once and returns a string of the whole file content.\n",
    "2. `.readline()` reads one line from the file and returns it as a string. Using it sucessively prints successive lines (not the sae line)\n",
    "3. `readlines()` return a list of strings, each string represents a line in the file.\n",
    "Note that the file should be read once and cannot be read multiple times. If you reached the end of file and tried to use the `.readline()` method, an EOL error will be raised (EOL = end of line).\n",
    "\n",
    "To loop over the content of file (line-by-line), this can be done in multiple ways:\n",
    "```python\n",
    "file = open(\"/file_name\")\n",
    "\n",
    "## method #1\n",
    "file_content = file.readlines()\n",
    "for line in file_content:\n",
    "    print(line)\n",
    "\n",
    "\n",
    "## method #2\n",
    "for line in file:\n",
    "    print(line)\n",
    "    \n",
    "    \n",
    "file.close()\n",
    "```\n",
    "\n",
    "**Task**: Parse a FASTA file and the save the output in a dictionart format.\n",
    "\n",
    "Download this file: \n",
    "https://www.yeastgenome.org/run_seqtools?format=fasta&type=genomic&genes=YNL088W&strains=S288C"
   ]
  },
  {
   "cell_type": "code",
   "execution_count": 20,
   "id": "b7ff746c-1735-4cbc-9c29-e168b9a2f93c",
   "metadata": {},
   "outputs": [
    {
     "name": "stdout",
     "output_type": "stream",
     "text": [
      ">YNL088W_S288C TOP2 SGD:S000005032 ORF Topoisomerase II\n",
      "ATGTCAACTGAACCGGTAAGCGCCTCTGATAAATATCAGAAAATTTCTCAACTGGAACAT\n",
      "ATCTTAAAAAGACCAGACACTTATATCGGTTCTGTTGAAACTCAAGAGCAGCTGCAATGG\n",
      "ATATACGATGAAGAGACCGATTGCATGATTGAAAAAAATGTCACAATTGTACCAGGGTTG\n",
      "TTCAAAATCTTTGATGAAATCTTAGTCAATGCGGCAGATAATAAAGTTCGTGATCCATCG\n",
      "ATGAAACGAATCGATGTAAACATACATGCTGAGGAACATACTATAGAAGTGAAAAATGAT\n",
      "GGAAAAGGTATTCCCATAGAGATTCATAACAAGGAGAATATTTATATTCCTGAAATGATA\n",
      "TTTGGTCATTTGTTGACATCATCCAATTATGATGATGATGAGAAGAAAGTCACTGGTGGT\n",
      "AGAAACGGTTATGGTGCTAAGCTTTGTAATATATTTTCCACTGAATTCATATTAGAAACT\n",
      "GCAGATCTAAATGTTGGCCAGAAATATGTTCAAAAATGGGAAAATAACATGAGCATTTGC\n",
      "CACCCCCCAAAAATAACATCTTACAAGAAGGGTCCATCATATACAAAGGTGACATTTAAG\n",
      "CCGGATTTAACCAGATTCGGAATGAAAGAGCTAGATAATGATATCTTAGGAGTGATGCGA\n",
      "AGAAGAGTTTATGATATCAATGGTTCTGTTCGTGACATTAATGTCTATCTGAATGGCAAG\n",
      "TCCTTAAAGATAAGAAATTTCAAAAATTATGTTGAACTCTACTTGAAATCACTCGAAAAA\n",
      "AAAAGACAACTAGATAACGGTGAGGACGGTGCCGCTAAGTCTGATATCCCGACTATTCTT\n",
      "TATGAGAGAATAAACAACAGATGGGAAGTTGCTTTTGCGGTTTCTGATATCTCTTTTCAA\n",
      "CAAATTTCTTTTGTGAATTCCATTGCAACTACCATGGGTGGTACCCATGTCAATTACATA\n",
      "ACAGACCAAATTGTAAAAAAAATTTCAGAAATTTTGAAGAAAAAGAAGAAAAAAAGTGTG\n",
      "AAGTCTTTTCAGATTAAAAATAATATGTTCATTTTCATTAATTGTTTGATTGAGAATCCT\n",
      "GCATTTACCTCACAAACAAAAGAGCAACTGACAACAAGAGTCAAAGATTTTGGGTCCCGT\n",
      "TGTGAGATTCCTCTTGAATATATTAATAAGATTATGAAAACTGATTTGGCTACAAGAATG\n",
      "TTTGAAATTGCCGACGCAAATGAAGAAAATGCGCTAAAGAAGTCTGATGGTACAAGGAAA\n",
      "AGCAGAATTACTAATTACCCTAAACTGGAAGATGCCAACAAAGCCGGTACAAAAGAAGGC\n",
      "TATAAATGTACTTTAGTTCTGACAGAAGGGGATTCCGCCTTGTCATTAGCTGTTGCAGGT\n",
      "TTAGCTGTTGTTGGTAGAGATTATTATGGTTGTTATCCACTTCGTGGTAAAATGCTGAAT\n",
      "GTTAGAGAAGCTAGTGCTGATCAGATACTAAAAAACGCGGAAATTCAAGCCATTAAAAAA\n",
      "ATTATGGGGTTACAACATCGCAAGAAATATGAAGATACAAAATCTTTAAGATATGGGCAT\n",
      "CTTATGATCATGACCGATCAAGATCATGATGGTTCGCATATTAAAGGTTTAATTATAAAC\n",
      "TTTTTAGAAAGCTCATTTCCTGGTCTTTTGGATATCCAAGGTTTCTTACTTGAATTCATA\n",
      "ACTCCGATCATCAAAGTTTCCATCACTAAACCAACAAAAAACACTATTGCATTCTACAAT\n",
      "ATGCCGGACTATGAAAAATGGAGAGAGGAAGAATCGCACAAATTTACTTGGAAGCAGAAG\n",
      "TATTATAAAGGATTAGGGACTTCTCTAGCACAAGAAGTCCGAGAATATTTTTCGAACTTG\n",
      "GACAGACATTTGAAAATATTCCATTCTTTGCAGGGTAATGATAAAGATTACATTGATTTA\n",
      "GCTTTCTCCAAGAAAAAGGCAGATGACCGTAAAGAATGGCTGAGACAATACGAACCTGGT\n",
      "ACTGTTTTAGACCCTACTTTAAAAGAGATTCCAATTAGCGACTTCATTAATAAGGAATTA\n",
      "ATCCTTTTTTCTTTGGCCGATAATATACGGTCGATTCCCAATGTTTTAGATGGATTTAAA\n",
      "CCTGGCCAAAGAAAAGTTCTTTATGGTTGTTTCAAAAAAAATTTAAAGTCGGAACTGAAA\n",
      "GTAGCTCAACTTGCACCATACGTGAGCGAATGTACGGCATATCACCATGGTGAGCAGTCA\n",
      "TTGGCACAAACTATTATTGGGCTAGCCCAAAACTTTGTTGGGTCCAACAATATTTACTTG\n",
      "CTATTACCTAACGGTGCTTTCGGTACAAGAGCCACTGGTGGTAAAGATGCAGCGGCAGCG\n",
      "AGATATATCTACACAGAATTGAACAAATTAACTCGTAAGATATTTCACCCTGCTGATGAT\n",
      "CCATTATACAAATATATACAAGAAGATGAGAAAACAGTGGAGCCAGAGTGGTATTTACCA\n",
      "ATTCTTCCTATGATTCTTGTTAACGGTGCTGAGGGTATTGGCACTGGCTGGAGTACTTAC\n",
      "ATTCCTCCATTCAACCCATTGGAAATTATAAAGAATATAAGACATTTAATGAACGACGAG\n",
      "GAGCTTGAGCAAATGCATCCGTGGTTTAGGGGATGGACCGGTACTATTGAAGAAATTGAG\n",
      "CCTCTGCGTTACAGAATGTACGGTAGGATTGAACAAATTGGAGATAACGTCTTAGAAATA\n",
      "ACTGAGTTGCCAGCCAGAACTTGGACATCGACTATAAAGGAGTACTTACTTTTAGGTTTA\n",
      "AGCGGTAACGATAAAATAAAACCCTGGATCAAAGATATGGAGGAGCAGCACGATGATAAC\n",
      "ATCAAATTCATAATCACGCTATCACCTGAGGAAATGGCTAAAACAAGGAAAATAGGTTTT\n",
      "TATGAAAGATTTAAACTAATTTCGCCTATAAGTTTGATGAATATGGTCGCATTTGATCCT\n",
      "CACGGGAAAATCAAGAAGTACAATTCCGTGAATGAAATATTAAGCGAATTTTACTACGTC\n",
      "AGACTAGAATACTATCAAAAAAGAAAAGACCATATGAGCGAAAGGTTACAGTGGGAGGTA\n",
      "GAGAAATACTCTTTCCAAGTAAAATTTATTAAAATGATTATTGAAAAGGAGTTAACAGTC\n",
      "ACCAATAAGCCTAGGAACGCTATTATCCAAGAACTTGAGAATTTAGGGTTCCCCAGATTT\n",
      "AATAAGGAAGGTAAACCATATTATGGAAGTCCTAACGATGAGATAGCTGAACAAATTAAC\n",
      "GACGTAAAAGGCGCAACTTCTGATGAAGAAGATGAAGAAAGTTCACACGAAGATACTGAA\n",
      "AATGTTATAAATGGTCCTGAAGAACTATATGGCACATATGAATATTTATTAGGAATGAGA\n",
      "ATATGGTCATTGACCAAGGAAAGATATCAAAAGCTGTTGAAACAAAAACAAGAAAAGGAG\n",
      "ACAGAGTTGGAAAACTTGTTAAAACTTTCCGCGAAAGATATATGGAACACTGACTTGAAG\n",
      "GCTTTTGAGGTGGGATATCAAGAATTTTTGCAACGAGATGCAGAAGCTCGCGGTGGTAAT\n",
      "GTTCCCAATAAAGGGAGCAAAACGAAAGGTAAAGGAAAAAGAAAGCTTGTTGACGACGAA\n",
      "GACTACGACCCATCAAAAAAAAACAAGAAAAGTACTGCTAGAAAGGGCAAAAAAATTAAG\n",
      "TTAGAGGATAAGAATTTTGAAAGGATTTTGTTAGAACAAAAACTAGTAACCAAAAGCAAG\n",
      "GCGCCTACAAAGATTAAAAAAGAGAAAACGCCTTCTGTTTCAGAAACAAAAACAGAAGAA\n",
      "GAAGAGAATGCTCCTTCTTCCACGAGTTCTTCTTCTATTTTCGACATAAAGAAAGAAGAT\n",
      "AAAGATGAGGGCGAACTGAGTAAGATTTCGAACAAGTTTAAAAAAATTAGCACGATTTTT\n",
      "GACAAAATGGGTTCTACTTCCGCTACATCGAAGGAAAATACACCAGAACAGGACGATGTA\n",
      "GCCACTAAAAAAAATCAAACAACCGCTAAAAAAACAGCTGTAAAACCTAAATTGGCCAAG\n",
      "AAGCCAGTCAGGAAACAACAAAAAGTTGTGGAACTATCTGGTGAAAGCGACCTAGAAATT\n",
      "TTAGATTCATACACTGATCGGGAAGATAGCAATAAAGATGAAGATGATGCTATACCACAA\n",
      "CGATCAAGGAGACAAAGATCGTCGAGAGCTGCGTCGGTTCCTAAGAAATCTTACGTTGAA\n",
      "ACTTTAGAATTATCTGACGACAGTTTCATCGAAGATGATGAAGAGGAAAACCAAGGATCA\n",
      "GATGTTTCGTTCAATGAAGAGGATTGA\n",
      "\n",
      "4415\n"
     ]
    }
   ],
   "source": [
    "file_path = \"./YNL088W_genomic_dna.fsa\"\n",
    "file = open(file_path)\n",
    "# print(file)\n",
    "cont = file.read()\n",
    "file.close()\n",
    "print(cont)\n",
    "print(len(cont))"
   ]
  },
  {
   "cell_type": "code",
   "execution_count": 23,
   "id": "5ef484c4-1254-4454-a031-9a548710b2ba",
   "metadata": {},
   "outputs": [
    {
     "name": "stdout",
     "output_type": "stream",
     "text": [
      "\n"
     ]
    },
    {
     "data": {
      "text/plain": [
       "''"
      ]
     },
     "execution_count": 23,
     "metadata": {},
     "output_type": "execute_result"
    }
   ],
   "source": [
    "file_path = \"./YNL088W_genomic_dna.fsa\"\n",
    "file = open(file_path)\n",
    "cont = file.read()\n",
    "cont_2 = file.read()\n",
    "file.close()\n",
    "cont_2"
   ]
  },
  {
   "cell_type": "code",
   "execution_count": 34,
   "id": "a71dba3f-9a79-4dcb-95f4-67962840ac43",
   "metadata": {},
   "outputs": [
    {
     "name": "stdout",
     "output_type": "stream",
     "text": [
      "'>YNL088W_S288C TOP2 SGD:S000005032 ORF Topoisomerase II\\n'\n",
      "'ATGTCAACTGAACCGGTAAGCGCCTCTGATAAATATCAGAAAATTTCTCAACTGGAACAT\\n'\n"
     ]
    }
   ],
   "source": [
    "file_path = \"./YNL088W_genomic_dna.fsa\"\n",
    "file = open(file_path)\n",
    "line_1 = file.readline()\n",
    "line_2 = file.readline()\n",
    "file.close()\n",
    "# print(line_1, line_2)\n",
    "print(repr(line_1), repr(line_2), sep=\"\\n\")"
   ]
  },
  {
   "cell_type": "code",
   "execution_count": 28,
   "id": "b469ee4d-df61-43f1-b26f-bc5f03769f68",
   "metadata": {},
   "outputs": [
    {
     "data": {
      "text/plain": [
       "['>YNL088W_S288C TOP2 SGD:S000005032 ORF Topoisomerase II\\n',\n",
       " 'ATGTCAACTGAACCGGTAAGCGCCTCTGATAAATATCAGAAAATTTCTCAACTGGAACAT\\n',\n",
       " 'ATCTTAAAAAGACCAGACACTTATATCGGTTCTGTTGAAACTCAAGAGCAGCTGCAATGG\\n',\n",
       " 'ATATACGATGAAGAGACCGATTGCATGATTGAAAAAAATGTCACAATTGTACCAGGGTTG\\n',\n",
       " 'TTCAAAATCTTTGATGAAATCTTAGTCAATGCGGCAGATAATAAAGTTCGTGATCCATCG\\n',\n",
       " 'ATGAAACGAATCGATGTAAACATACATGCTGAGGAACATACTATAGAAGTGAAAAATGAT\\n',\n",
       " 'GGAAAAGGTATTCCCATAGAGATTCATAACAAGGAGAATATTTATATTCCTGAAATGATA\\n',\n",
       " 'TTTGGTCATTTGTTGACATCATCCAATTATGATGATGATGAGAAGAAAGTCACTGGTGGT\\n',\n",
       " 'AGAAACGGTTATGGTGCTAAGCTTTGTAATATATTTTCCACTGAATTCATATTAGAAACT\\n',\n",
       " 'GCAGATCTAAATGTTGGCCAGAAATATGTTCAAAAATGGGAAAATAACATGAGCATTTGC\\n',\n",
       " 'CACCCCCCAAAAATAACATCTTACAAGAAGGGTCCATCATATACAAAGGTGACATTTAAG\\n',\n",
       " 'CCGGATTTAACCAGATTCGGAATGAAAGAGCTAGATAATGATATCTTAGGAGTGATGCGA\\n',\n",
       " 'AGAAGAGTTTATGATATCAATGGTTCTGTTCGTGACATTAATGTCTATCTGAATGGCAAG\\n',\n",
       " 'TCCTTAAAGATAAGAAATTTCAAAAATTATGTTGAACTCTACTTGAAATCACTCGAAAAA\\n',\n",
       " 'AAAAGACAACTAGATAACGGTGAGGACGGTGCCGCTAAGTCTGATATCCCGACTATTCTT\\n',\n",
       " 'TATGAGAGAATAAACAACAGATGGGAAGTTGCTTTTGCGGTTTCTGATATCTCTTTTCAA\\n',\n",
       " 'CAAATTTCTTTTGTGAATTCCATTGCAACTACCATGGGTGGTACCCATGTCAATTACATA\\n',\n",
       " 'ACAGACCAAATTGTAAAAAAAATTTCAGAAATTTTGAAGAAAAAGAAGAAAAAAAGTGTG\\n',\n",
       " 'AAGTCTTTTCAGATTAAAAATAATATGTTCATTTTCATTAATTGTTTGATTGAGAATCCT\\n',\n",
       " 'GCATTTACCTCACAAACAAAAGAGCAACTGACAACAAGAGTCAAAGATTTTGGGTCCCGT\\n',\n",
       " 'TGTGAGATTCCTCTTGAATATATTAATAAGATTATGAAAACTGATTTGGCTACAAGAATG\\n',\n",
       " 'TTTGAAATTGCCGACGCAAATGAAGAAAATGCGCTAAAGAAGTCTGATGGTACAAGGAAA\\n',\n",
       " 'AGCAGAATTACTAATTACCCTAAACTGGAAGATGCCAACAAAGCCGGTACAAAAGAAGGC\\n',\n",
       " 'TATAAATGTACTTTAGTTCTGACAGAAGGGGATTCCGCCTTGTCATTAGCTGTTGCAGGT\\n',\n",
       " 'TTAGCTGTTGTTGGTAGAGATTATTATGGTTGTTATCCACTTCGTGGTAAAATGCTGAAT\\n',\n",
       " 'GTTAGAGAAGCTAGTGCTGATCAGATACTAAAAAACGCGGAAATTCAAGCCATTAAAAAA\\n',\n",
       " 'ATTATGGGGTTACAACATCGCAAGAAATATGAAGATACAAAATCTTTAAGATATGGGCAT\\n',\n",
       " 'CTTATGATCATGACCGATCAAGATCATGATGGTTCGCATATTAAAGGTTTAATTATAAAC\\n',\n",
       " 'TTTTTAGAAAGCTCATTTCCTGGTCTTTTGGATATCCAAGGTTTCTTACTTGAATTCATA\\n',\n",
       " 'ACTCCGATCATCAAAGTTTCCATCACTAAACCAACAAAAAACACTATTGCATTCTACAAT\\n',\n",
       " 'ATGCCGGACTATGAAAAATGGAGAGAGGAAGAATCGCACAAATTTACTTGGAAGCAGAAG\\n',\n",
       " 'TATTATAAAGGATTAGGGACTTCTCTAGCACAAGAAGTCCGAGAATATTTTTCGAACTTG\\n',\n",
       " 'GACAGACATTTGAAAATATTCCATTCTTTGCAGGGTAATGATAAAGATTACATTGATTTA\\n',\n",
       " 'GCTTTCTCCAAGAAAAAGGCAGATGACCGTAAAGAATGGCTGAGACAATACGAACCTGGT\\n',\n",
       " 'ACTGTTTTAGACCCTACTTTAAAAGAGATTCCAATTAGCGACTTCATTAATAAGGAATTA\\n',\n",
       " 'ATCCTTTTTTCTTTGGCCGATAATATACGGTCGATTCCCAATGTTTTAGATGGATTTAAA\\n',\n",
       " 'CCTGGCCAAAGAAAAGTTCTTTATGGTTGTTTCAAAAAAAATTTAAAGTCGGAACTGAAA\\n',\n",
       " 'GTAGCTCAACTTGCACCATACGTGAGCGAATGTACGGCATATCACCATGGTGAGCAGTCA\\n',\n",
       " 'TTGGCACAAACTATTATTGGGCTAGCCCAAAACTTTGTTGGGTCCAACAATATTTACTTG\\n',\n",
       " 'CTATTACCTAACGGTGCTTTCGGTACAAGAGCCACTGGTGGTAAAGATGCAGCGGCAGCG\\n',\n",
       " 'AGATATATCTACACAGAATTGAACAAATTAACTCGTAAGATATTTCACCCTGCTGATGAT\\n',\n",
       " 'CCATTATACAAATATATACAAGAAGATGAGAAAACAGTGGAGCCAGAGTGGTATTTACCA\\n',\n",
       " 'ATTCTTCCTATGATTCTTGTTAACGGTGCTGAGGGTATTGGCACTGGCTGGAGTACTTAC\\n',\n",
       " 'ATTCCTCCATTCAACCCATTGGAAATTATAAAGAATATAAGACATTTAATGAACGACGAG\\n',\n",
       " 'GAGCTTGAGCAAATGCATCCGTGGTTTAGGGGATGGACCGGTACTATTGAAGAAATTGAG\\n',\n",
       " 'CCTCTGCGTTACAGAATGTACGGTAGGATTGAACAAATTGGAGATAACGTCTTAGAAATA\\n',\n",
       " 'ACTGAGTTGCCAGCCAGAACTTGGACATCGACTATAAAGGAGTACTTACTTTTAGGTTTA\\n',\n",
       " 'AGCGGTAACGATAAAATAAAACCCTGGATCAAAGATATGGAGGAGCAGCACGATGATAAC\\n',\n",
       " 'ATCAAATTCATAATCACGCTATCACCTGAGGAAATGGCTAAAACAAGGAAAATAGGTTTT\\n',\n",
       " 'TATGAAAGATTTAAACTAATTTCGCCTATAAGTTTGATGAATATGGTCGCATTTGATCCT\\n',\n",
       " 'CACGGGAAAATCAAGAAGTACAATTCCGTGAATGAAATATTAAGCGAATTTTACTACGTC\\n',\n",
       " 'AGACTAGAATACTATCAAAAAAGAAAAGACCATATGAGCGAAAGGTTACAGTGGGAGGTA\\n',\n",
       " 'GAGAAATACTCTTTCCAAGTAAAATTTATTAAAATGATTATTGAAAAGGAGTTAACAGTC\\n',\n",
       " 'ACCAATAAGCCTAGGAACGCTATTATCCAAGAACTTGAGAATTTAGGGTTCCCCAGATTT\\n',\n",
       " 'AATAAGGAAGGTAAACCATATTATGGAAGTCCTAACGATGAGATAGCTGAACAAATTAAC\\n',\n",
       " 'GACGTAAAAGGCGCAACTTCTGATGAAGAAGATGAAGAAAGTTCACACGAAGATACTGAA\\n',\n",
       " 'AATGTTATAAATGGTCCTGAAGAACTATATGGCACATATGAATATTTATTAGGAATGAGA\\n',\n",
       " 'ATATGGTCATTGACCAAGGAAAGATATCAAAAGCTGTTGAAACAAAAACAAGAAAAGGAG\\n',\n",
       " 'ACAGAGTTGGAAAACTTGTTAAAACTTTCCGCGAAAGATATATGGAACACTGACTTGAAG\\n',\n",
       " 'GCTTTTGAGGTGGGATATCAAGAATTTTTGCAACGAGATGCAGAAGCTCGCGGTGGTAAT\\n',\n",
       " 'GTTCCCAATAAAGGGAGCAAAACGAAAGGTAAAGGAAAAAGAAAGCTTGTTGACGACGAA\\n',\n",
       " 'GACTACGACCCATCAAAAAAAAACAAGAAAAGTACTGCTAGAAAGGGCAAAAAAATTAAG\\n',\n",
       " 'TTAGAGGATAAGAATTTTGAAAGGATTTTGTTAGAACAAAAACTAGTAACCAAAAGCAAG\\n',\n",
       " 'GCGCCTACAAAGATTAAAAAAGAGAAAACGCCTTCTGTTTCAGAAACAAAAACAGAAGAA\\n',\n",
       " 'GAAGAGAATGCTCCTTCTTCCACGAGTTCTTCTTCTATTTTCGACATAAAGAAAGAAGAT\\n',\n",
       " 'AAAGATGAGGGCGAACTGAGTAAGATTTCGAACAAGTTTAAAAAAATTAGCACGATTTTT\\n',\n",
       " 'GACAAAATGGGTTCTACTTCCGCTACATCGAAGGAAAATACACCAGAACAGGACGATGTA\\n',\n",
       " 'GCCACTAAAAAAAATCAAACAACCGCTAAAAAAACAGCTGTAAAACCTAAATTGGCCAAG\\n',\n",
       " 'AAGCCAGTCAGGAAACAACAAAAAGTTGTGGAACTATCTGGTGAAAGCGACCTAGAAATT\\n',\n",
       " 'TTAGATTCATACACTGATCGGGAAGATAGCAATAAAGATGAAGATGATGCTATACCACAA\\n',\n",
       " 'CGATCAAGGAGACAAAGATCGTCGAGAGCTGCGTCGGTTCCTAAGAAATCTTACGTTGAA\\n',\n",
       " 'ACTTTAGAATTATCTGACGACAGTTTCATCGAAGATGATGAAGAGGAAAACCAAGGATCA\\n',\n",
       " 'GATGTTTCGTTCAATGAAGAGGATTGA\\n']"
      ]
     },
     "execution_count": 28,
     "metadata": {},
     "output_type": "execute_result"
    }
   ],
   "source": [
    "file_path = \"./YNL088W_genomic_dna.fsa\"\n",
    "file = open(file_path)\n",
    "content = file.readlines()\n",
    "file.close()\n",
    "content"
   ]
  },
  {
   "cell_type": "code",
   "execution_count": 69,
   "id": "95887b28-7062-49c3-9361-7c3f2a84550e",
   "metadata": {},
   "outputs": [
    {
     "data": {
      "text/plain": [
       "{'seq_id': 'YNL088W_S288C',\n",
       " 'gene_symbol': 'TOP2',\n",
       " 'db_name': 'SGD',\n",
       " 'db_id': 'S000005032',\n",
       " 'type': 'ORF',\n",
       " 'gene_name': 'Topoisomerase II',\n",
       " 'seq': 'ATGTCAACTGAACCGGTAAGCGCCTCTGATAAATATCAGAAAATTTCTCAACTGGAACATATCTTAAAAAGACCAGACACTTATATCGGTTCTGTTGAAACTCAAGAGCAGCTGCAATGGATATACGATGAAGAGACCGATTGCATGATTGAAAAAAATGTCACAATTGTACCAGGGTTGTTCAAAATCTTTGATGAAATCTTAGTCAATGCGGCAGATAATAAAGTTCGTGATCCATCGATGAAACGAATCGATGTAAACATACATGCTGAGGAACATACTATAGAAGTGAAAAATGATGGAAAAGGTATTCCCATAGAGATTCATAACAAGGAGAATATTTATATTCCTGAAATGATATTTGGTCATTTGTTGACATCATCCAATTATGATGATGATGAGAAGAAAGTCACTGGTGGTAGAAACGGTTATGGTGCTAAGCTTTGTAATATATTTTCCACTGAATTCATATTAGAAACTGCAGATCTAAATGTTGGCCAGAAATATGTTCAAAAATGGGAAAATAACATGAGCATTTGCCACCCCCCAAAAATAACATCTTACAAGAAGGGTCCATCATATACAAAGGTGACATTTAAGCCGGATTTAACCAGATTCGGAATGAAAGAGCTAGATAATGATATCTTAGGAGTGATGCGAAGAAGAGTTTATGATATCAATGGTTCTGTTCGTGACATTAATGTCTATCTGAATGGCAAGTCCTTAAAGATAAGAAATTTCAAAAATTATGTTGAACTCTACTTGAAATCACTCGAAAAAAAAAGACAACTAGATAACGGTGAGGACGGTGCCGCTAAGTCTGATATCCCGACTATTCTTTATGAGAGAATAAACAACAGATGGGAAGTTGCTTTTGCGGTTTCTGATATCTCTTTTCAACAAATTTCTTTTGTGAATTCCATTGCAACTACCATGGGTGGTACCCATGTCAATTACATAACAGACCAAATTGTAAAAAAAATTTCAGAAATTTTGAAGAAAAAGAAGAAAAAAAGTGTGAAGTCTTTTCAGATTAAAAATAATATGTTCATTTTCATTAATTGTTTGATTGAGAATCCTGCATTTACCTCACAAACAAAAGAGCAACTGACAACAAGAGTCAAAGATTTTGGGTCCCGTTGTGAGATTCCTCTTGAATATATTAATAAGATTATGAAAACTGATTTGGCTACAAGAATGTTTGAAATTGCCGACGCAAATGAAGAAAATGCGCTAAAGAAGTCTGATGGTACAAGGAAAAGCAGAATTACTAATTACCCTAAACTGGAAGATGCCAACAAAGCCGGTACAAAAGAAGGCTATAAATGTACTTTAGTTCTGACAGAAGGGGATTCCGCCTTGTCATTAGCTGTTGCAGGTTTAGCTGTTGTTGGTAGAGATTATTATGGTTGTTATCCACTTCGTGGTAAAATGCTGAATGTTAGAGAAGCTAGTGCTGATCAGATACTAAAAAACGCGGAAATTCAAGCCATTAAAAAAATTATGGGGTTACAACATCGCAAGAAATATGAAGATACAAAATCTTTAAGATATGGGCATCTTATGATCATGACCGATCAAGATCATGATGGTTCGCATATTAAAGGTTTAATTATAAACTTTTTAGAAAGCTCATTTCCTGGTCTTTTGGATATCCAAGGTTTCTTACTTGAATTCATAACTCCGATCATCAAAGTTTCCATCACTAAACCAACAAAAAACACTATTGCATTCTACAATATGCCGGACTATGAAAAATGGAGAGAGGAAGAATCGCACAAATTTACTTGGAAGCAGAAGTATTATAAAGGATTAGGGACTTCTCTAGCACAAGAAGTCCGAGAATATTTTTCGAACTTGGACAGACATTTGAAAATATTCCATTCTTTGCAGGGTAATGATAAAGATTACATTGATTTAGCTTTCTCCAAGAAAAAGGCAGATGACCGTAAAGAATGGCTGAGACAATACGAACCTGGTACTGTTTTAGACCCTACTTTAAAAGAGATTCCAATTAGCGACTTCATTAATAAGGAATTAATCCTTTTTTCTTTGGCCGATAATATACGGTCGATTCCCAATGTTTTAGATGGATTTAAACCTGGCCAAAGAAAAGTTCTTTATGGTTGTTTCAAAAAAAATTTAAAGTCGGAACTGAAAGTAGCTCAACTTGCACCATACGTGAGCGAATGTACGGCATATCACCATGGTGAGCAGTCATTGGCACAAACTATTATTGGGCTAGCCCAAAACTTTGTTGGGTCCAACAATATTTACTTGCTATTACCTAACGGTGCTTTCGGTACAAGAGCCACTGGTGGTAAAGATGCAGCGGCAGCGAGATATATCTACACAGAATTGAACAAATTAACTCGTAAGATATTTCACCCTGCTGATGATCCATTATACAAATATATACAAGAAGATGAGAAAACAGTGGAGCCAGAGTGGTATTTACCAATTCTTCCTATGATTCTTGTTAACGGTGCTGAGGGTATTGGCACTGGCTGGAGTACTTACATTCCTCCATTCAACCCATTGGAAATTATAAAGAATATAAGACATTTAATGAACGACGAGGAGCTTGAGCAAATGCATCCGTGGTTTAGGGGATGGACCGGTACTATTGAAGAAATTGAGCCTCTGCGTTACAGAATGTACGGTAGGATTGAACAAATTGGAGATAACGTCTTAGAAATAACTGAGTTGCCAGCCAGAACTTGGACATCGACTATAAAGGAGTACTTACTTTTAGGTTTAAGCGGTAACGATAAAATAAAACCCTGGATCAAAGATATGGAGGAGCAGCACGATGATAACATCAAATTCATAATCACGCTATCACCTGAGGAAATGGCTAAAACAAGGAAAATAGGTTTTTATGAAAGATTTAAACTAATTTCGCCTATAAGTTTGATGAATATGGTCGCATTTGATCCTCACGGGAAAATCAAGAAGTACAATTCCGTGAATGAAATATTAAGCGAATTTTACTACGTCAGACTAGAATACTATCAAAAAAGAAAAGACCATATGAGCGAAAGGTTACAGTGGGAGGTAGAGAAATACTCTTTCCAAGTAAAATTTATTAAAATGATTATTGAAAAGGAGTTAACAGTCACCAATAAGCCTAGGAACGCTATTATCCAAGAACTTGAGAATTTAGGGTTCCCCAGATTTAATAAGGAAGGTAAACCATATTATGGAAGTCCTAACGATGAGATAGCTGAACAAATTAACGACGTAAAAGGCGCAACTTCTGATGAAGAAGATGAAGAAAGTTCACACGAAGATACTGAAAATGTTATAAATGGTCCTGAAGAACTATATGGCACATATGAATATTTATTAGGAATGAGAATATGGTCATTGACCAAGGAAAGATATCAAAAGCTGTTGAAACAAAAACAAGAAAAGGAGACAGAGTTGGAAAACTTGTTAAAACTTTCCGCGAAAGATATATGGAACACTGACTTGAAGGCTTTTGAGGTGGGATATCAAGAATTTTTGCAACGAGATGCAGAAGCTCGCGGTGGTAATGTTCCCAATAAAGGGAGCAAAACGAAAGGTAAAGGAAAAAGAAAGCTTGTTGACGACGAAGACTACGACCCATCAAAAAAAAACAAGAAAAGTACTGCTAGAAAGGGCAAAAAAATTAAGTTAGAGGATAAGAATTTTGAAAGGATTTTGTTAGAACAAAAACTAGTAACCAAAAGCAAGGCGCCTACAAAGATTAAAAAAGAGAAAACGCCTTCTGTTTCAGAAACAAAAACAGAAGAAGAAGAGAATGCTCCTTCTTCCACGAGTTCTTCTTCTATTTTCGACATAAAGAAAGAAGATAAAGATGAGGGCGAACTGAGTAAGATTTCGAACAAGTTTAAAAAAATTAGCACGATTTTTGACAAAATGGGTTCTACTTCCGCTACATCGAAGGAAAATACACCAGAACAGGACGATGTAGCCACTAAAAAAAATCAAACAACCGCTAAAAAAACAGCTGTAAAACCTAAATTGGCCAAGAAGCCAGTCAGGAAACAACAAAAAGTTGTGGAACTATCTGGTGAAAGCGACCTAGAAATTTTAGATTCATACACTGATCGGGAAGATAGCAATAAAGATGAAGATGATGCTATACCACAACGATCAAGGAGACAAAGATCGTCGAGAGCTGCGTCGGTTCCTAAGAAATCTTACGTTGAAACTTTAGAATTATCTGACGACAGTTTCATCGAAGATGATGAAGAGGAAAACCAAGGATCAGATGTTTCGTTCAATGAAGAGGATTGA',\n",
       " 'length': 4287,\n",
       " 'GC_content': 36.039}"
      ]
     },
     "execution_count": 69,
     "metadata": {},
     "output_type": "execute_result"
    }
   ],
   "source": [
    "## Parsing a FASTA File\n",
    "file_path = \"./YNL088W_genomic_dna.fsa\"\n",
    "file = open(file_path)\n",
    "gene = {}\n",
    "header = file.readline().strip()\n",
    "header_sp = header.split(\" \")\n",
    "gene[\"seq_id\"] = header_sp[0].strip(\">\")\n",
    "# gene[\"seq_id\"] = header_sp[0][1:]\n",
    "gene[\"gene_symbol\"] = header_sp[1]\n",
    "db_data = header_sp[2].split(\":\")\n",
    "gene[\"db_name\"] = db_data[0]\n",
    "gene[\"db_id\"] = db_data[1]\n",
    "gene[\"type\"] = header_sp[3]\n",
    "gene[\"gene_name\"] = \" \".join(header_sp[4:])\n",
    "gene[\"seq\"] = \"\"\n",
    "\n",
    "for line in file:\n",
    "    line = line.strip()\n",
    "    gene[\"seq\"] += line\n",
    "#     gene[\"seq\"] = gene[\"seq\"] + line\n",
    "\n",
    "gene[\"length\"] = len(gene[\"seq\"])\n",
    "gene[\"GC_content\"] = get_GC(gene[\"seq\"])\n",
    "\n",
    "file.close()\n",
    "gene"
   ]
  },
  {
   "cell_type": "code",
   "execution_count": 49,
   "id": "11f38195-33b1-482a-a016-549f26b37d78",
   "metadata": {},
   "outputs": [
    {
     "data": {
      "text/plain": [
       "{'seq_id': 'YNL088W_S288C',\n",
       " 'gene_symbol': 'TOP2',\n",
       " 'db_name': 'SGD',\n",
       " 'db_id': 'S000005032',\n",
       " 'type': 'ORF',\n",
       " 'gene_name': 'Topoisomerase II',\n",
       " 'seq': 'ATGTCAACTGAACCGGTAAGCGCCTCTGATAAATATCAGAAAATTTCTCAACTGGAACATATCTTAAAAAGACCAGACACTTATATCGGTTCTGTTGAAACTCAAGAGCAGCTGCAATGGATATACGATGAAGAGACCGATTGCATGATTGAAAAAAATGTCACAATTGTACCAGGGTTGTTCAAAATCTTTGATGAAATCTTAGTCAATGCGGCAGATAATAAAGTTCGTGATCCATCGATGAAACGAATCGATGTAAACATACATGCTGAGGAACATACTATAGAAGTGAAAAATGATGGAAAAGGTATTCCCATAGAGATTCATAACAAGGAGAATATTTATATTCCTGAAATGATATTTGGTCATTTGTTGACATCATCCAATTATGATGATGATGAGAAGAAAGTCACTGGTGGTAGAAACGGTTATGGTGCTAAGCTTTGTAATATATTTTCCACTGAATTCATATTAGAAACTGCAGATCTAAATGTTGGCCAGAAATATGTTCAAAAATGGGAAAATAACATGAGCATTTGCCACCCCCCAAAAATAACATCTTACAAGAAGGGTCCATCATATACAAAGGTGACATTTAAGCCGGATTTAACCAGATTCGGAATGAAAGAGCTAGATAATGATATCTTAGGAGTGATGCGAAGAAGAGTTTATGATATCAATGGTTCTGTTCGTGACATTAATGTCTATCTGAATGGCAAGTCCTTAAAGATAAGAAATTTCAAAAATTATGTTGAACTCTACTTGAAATCACTCGAAAAAAAAAGACAACTAGATAACGGTGAGGACGGTGCCGCTAAGTCTGATATCCCGACTATTCTTTATGAGAGAATAAACAACAGATGGGAAGTTGCTTTTGCGGTTTCTGATATCTCTTTTCAACAAATTTCTTTTGTGAATTCCATTGCAACTACCATGGGTGGTACCCATGTCAATTACATAACAGACCAAATTGTAAAAAAAATTTCAGAAATTTTGAAGAAAAAGAAGAAAAAAAGTGTGAAGTCTTTTCAGATTAAAAATAATATGTTCATTTTCATTAATTGTTTGATTGAGAATCCTGCATTTACCTCACAAACAAAAGAGCAACTGACAACAAGAGTCAAAGATTTTGGGTCCCGTTGTGAGATTCCTCTTGAATATATTAATAAGATTATGAAAACTGATTTGGCTACAAGAATGTTTGAAATTGCCGACGCAAATGAAGAAAATGCGCTAAAGAAGTCTGATGGTACAAGGAAAAGCAGAATTACTAATTACCCTAAACTGGAAGATGCCAACAAAGCCGGTACAAAAGAAGGCTATAAATGTACTTTAGTTCTGACAGAAGGGGATTCCGCCTTGTCATTAGCTGTTGCAGGTTTAGCTGTTGTTGGTAGAGATTATTATGGTTGTTATCCACTTCGTGGTAAAATGCTGAATGTTAGAGAAGCTAGTGCTGATCAGATACTAAAAAACGCGGAAATTCAAGCCATTAAAAAAATTATGGGGTTACAACATCGCAAGAAATATGAAGATACAAAATCTTTAAGATATGGGCATCTTATGATCATGACCGATCAAGATCATGATGGTTCGCATATTAAAGGTTTAATTATAAACTTTTTAGAAAGCTCATTTCCTGGTCTTTTGGATATCCAAGGTTTCTTACTTGAATTCATAACTCCGATCATCAAAGTTTCCATCACTAAACCAACAAAAAACACTATTGCATTCTACAATATGCCGGACTATGAAAAATGGAGAGAGGAAGAATCGCACAAATTTACTTGGAAGCAGAAGTATTATAAAGGATTAGGGACTTCTCTAGCACAAGAAGTCCGAGAATATTTTTCGAACTTGGACAGACATTTGAAAATATTCCATTCTTTGCAGGGTAATGATAAAGATTACATTGATTTAGCTTTCTCCAAGAAAAAGGCAGATGACCGTAAAGAATGGCTGAGACAATACGAACCTGGTACTGTTTTAGACCCTACTTTAAAAGAGATTCCAATTAGCGACTTCATTAATAAGGAATTAATCCTTTTTTCTTTGGCCGATAATATACGGTCGATTCCCAATGTTTTAGATGGATTTAAACCTGGCCAAAGAAAAGTTCTTTATGGTTGTTTCAAAAAAAATTTAAAGTCGGAACTGAAAGTAGCTCAACTTGCACCATACGTGAGCGAATGTACGGCATATCACCATGGTGAGCAGTCATTGGCACAAACTATTATTGGGCTAGCCCAAAACTTTGTTGGGTCCAACAATATTTACTTGCTATTACCTAACGGTGCTTTCGGTACAAGAGCCACTGGTGGTAAAGATGCAGCGGCAGCGAGATATATCTACACAGAATTGAACAAATTAACTCGTAAGATATTTCACCCTGCTGATGATCCATTATACAAATATATACAAGAAGATGAGAAAACAGTGGAGCCAGAGTGGTATTTACCAATTCTTCCTATGATTCTTGTTAACGGTGCTGAGGGTATTGGCACTGGCTGGAGTACTTACATTCCTCCATTCAACCCATTGGAAATTATAAAGAATATAAGACATTTAATGAACGACGAGGAGCTTGAGCAAATGCATCCGTGGTTTAGGGGATGGACCGGTACTATTGAAGAAATTGAGCCTCTGCGTTACAGAATGTACGGTAGGATTGAACAAATTGGAGATAACGTCTTAGAAATAACTGAGTTGCCAGCCAGAACTTGGACATCGACTATAAAGGAGTACTTACTTTTAGGTTTAAGCGGTAACGATAAAATAAAACCCTGGATCAAAGATATGGAGGAGCAGCACGATGATAACATCAAATTCATAATCACGCTATCACCTGAGGAAATGGCTAAAACAAGGAAAATAGGTTTTTATGAAAGATTTAAACTAATTTCGCCTATAAGTTTGATGAATATGGTCGCATTTGATCCTCACGGGAAAATCAAGAAGTACAATTCCGTGAATGAAATATTAAGCGAATTTTACTACGTCAGACTAGAATACTATCAAAAAAGAAAAGACCATATGAGCGAAAGGTTACAGTGGGAGGTAGAGAAATACTCTTTCCAAGTAAAATTTATTAAAATGATTATTGAAAAGGAGTTAACAGTCACCAATAAGCCTAGGAACGCTATTATCCAAGAACTTGAGAATTTAGGGTTCCCCAGATTTAATAAGGAAGGTAAACCATATTATGGAAGTCCTAACGATGAGATAGCTGAACAAATTAACGACGTAAAAGGCGCAACTTCTGATGAAGAAGATGAAGAAAGTTCACACGAAGATACTGAAAATGTTATAAATGGTCCTGAAGAACTATATGGCACATATGAATATTTATTAGGAATGAGAATATGGTCATTGACCAAGGAAAGATATCAAAAGCTGTTGAAACAAAAACAAGAAAAGGAGACAGAGTTGGAAAACTTGTTAAAACTTTCCGCGAAAGATATATGGAACACTGACTTGAAGGCTTTTGAGGTGGGATATCAAGAATTTTTGCAACGAGATGCAGAAGCTCGCGGTGGTAATGTTCCCAATAAAGGGAGCAAAACGAAAGGTAAAGGAAAAAGAAAGCTTGTTGACGACGAAGACTACGACCCATCAAAAAAAAACAAGAAAAGTACTGCTAGAAAGGGCAAAAAAATTAAGTTAGAGGATAAGAATTTTGAAAGGATTTTGTTAGAACAAAAACTAGTAACCAAAAGCAAGGCGCCTACAAAGATTAAAAAAGAGAAAACGCCTTCTGTTTCAGAAACAAAAACAGAAGAAGAAGAGAATGCTCCTTCTTCCACGAGTTCTTCTTCTATTTTCGACATAAAGAAAGAAGATAAAGATGAGGGCGAACTGAGTAAGATTTCGAACAAGTTTAAAAAAATTAGCACGATTTTTGACAAAATGGGTTCTACTTCCGCTACATCGAAGGAAAATACACCAGAACAGGACGATGTAGCCACTAAAAAAAATCAAACAACCGCTAAAAAAACAGCTGTAAAACCTAAATTGGCCAAGAAGCCAGTCAGGAAACAACAAAAAGTTGTGGAACTATCTGGTGAAAGCGACCTAGAAATTTTAGATTCATACACTGATCGGGAAGATAGCAATAAAGATGAAGATGATGCTATACCACAACGATCAAGGAGACAAAGATCGTCGAGAGCTGCGTCGGTTCCTAAGAAATCTTACGTTGAAACTTTAGAATTATCTGACGACAGTTTCATCGAAGATGATGAAGAGGAAAACCAAGGATCAGATGTTTCGTTCAATGAAGAGGATTGA'}"
      ]
     },
     "execution_count": 49,
     "metadata": {},
     "output_type": "execute_result"
    }
   ],
   "source": [
    "## Parsing a FASTA File\n",
    "file_path = \"./YNL088W_genomic_dna.fsa\"\n",
    "file = open(file_path)\n",
    "gene = {}\n",
    "header = file.readline().strip()\n",
    "header_sp = header.split(\" \")\n",
    "gene[\"seq_id\"] = header_sp[0].strip(\">\")\n",
    "# gene[\"seq_id\"] = header_sp[0][1:]\n",
    "gene[\"gene_symbol\"] = header_sp[1]\n",
    "db_data = header_sp[2].split(\":\")\n",
    "gene[\"db_name\"] = db_data[0]\n",
    "gene[\"db_id\"] = db_data[1]\n",
    "gene[\"type\"] = header_sp[3]\n",
    "gene[\"gene_name\"] = \" \".join(header_sp[4:])\n",
    "\n",
    "seqs = [l.strip() for l in file.readlines()]\n",
    "gene[\"seq\"] = \"\".join(seqs)\n",
    "file.close()\n",
    "gene"
   ]
  },
  {
   "cell_type": "code",
   "execution_count": 50,
   "id": "0e892cda-f318-4a59-960a-0ebdea5b89a0",
   "metadata": {},
   "outputs": [
    {
     "data": {
      "text/plain": [
       "{'seq_id': 'YNL088W_S288C',\n",
       " 'gene_symbol': 'TOP2',\n",
       " 'db_name': 'SGD',\n",
       " 'db_id': 'S000005032',\n",
       " 'type': 'ORF',\n",
       " 'gene_name': 'Topoisomerase II',\n",
       " 'seq': 'ATGTCAACTGAACCGGTAAGCGCCTCTGATAAATATCAGAAAATTTCTCAACTGGAACATATCTTAAAAAGACCAGACACTTATATCGGTTCTGTTGAAACTCAAGAGCAGCTGCAATGGATATACGATGAAGAGACCGATTGCATGATTGAAAAAAATGTCACAATTGTACCAGGGTTGTTCAAAATCTTTGATGAAATCTTAGTCAATGCGGCAGATAATAAAGTTCGTGATCCATCGATGAAACGAATCGATGTAAACATACATGCTGAGGAACATACTATAGAAGTGAAAAATGATGGAAAAGGTATTCCCATAGAGATTCATAACAAGGAGAATATTTATATTCCTGAAATGATATTTGGTCATTTGTTGACATCATCCAATTATGATGATGATGAGAAGAAAGTCACTGGTGGTAGAAACGGTTATGGTGCTAAGCTTTGTAATATATTTTCCACTGAATTCATATTAGAAACTGCAGATCTAAATGTTGGCCAGAAATATGTTCAAAAATGGGAAAATAACATGAGCATTTGCCACCCCCCAAAAATAACATCTTACAAGAAGGGTCCATCATATACAAAGGTGACATTTAAGCCGGATTTAACCAGATTCGGAATGAAAGAGCTAGATAATGATATCTTAGGAGTGATGCGAAGAAGAGTTTATGATATCAATGGTTCTGTTCGTGACATTAATGTCTATCTGAATGGCAAGTCCTTAAAGATAAGAAATTTCAAAAATTATGTTGAACTCTACTTGAAATCACTCGAAAAAAAAAGACAACTAGATAACGGTGAGGACGGTGCCGCTAAGTCTGATATCCCGACTATTCTTTATGAGAGAATAAACAACAGATGGGAAGTTGCTTTTGCGGTTTCTGATATCTCTTTTCAACAAATTTCTTTTGTGAATTCCATTGCAACTACCATGGGTGGTACCCATGTCAATTACATAACAGACCAAATTGTAAAAAAAATTTCAGAAATTTTGAAGAAAAAGAAGAAAAAAAGTGTGAAGTCTTTTCAGATTAAAAATAATATGTTCATTTTCATTAATTGTTTGATTGAGAATCCTGCATTTACCTCACAAACAAAAGAGCAACTGACAACAAGAGTCAAAGATTTTGGGTCCCGTTGTGAGATTCCTCTTGAATATATTAATAAGATTATGAAAACTGATTTGGCTACAAGAATGTTTGAAATTGCCGACGCAAATGAAGAAAATGCGCTAAAGAAGTCTGATGGTACAAGGAAAAGCAGAATTACTAATTACCCTAAACTGGAAGATGCCAACAAAGCCGGTACAAAAGAAGGCTATAAATGTACTTTAGTTCTGACAGAAGGGGATTCCGCCTTGTCATTAGCTGTTGCAGGTTTAGCTGTTGTTGGTAGAGATTATTATGGTTGTTATCCACTTCGTGGTAAAATGCTGAATGTTAGAGAAGCTAGTGCTGATCAGATACTAAAAAACGCGGAAATTCAAGCCATTAAAAAAATTATGGGGTTACAACATCGCAAGAAATATGAAGATACAAAATCTTTAAGATATGGGCATCTTATGATCATGACCGATCAAGATCATGATGGTTCGCATATTAAAGGTTTAATTATAAACTTTTTAGAAAGCTCATTTCCTGGTCTTTTGGATATCCAAGGTTTCTTACTTGAATTCATAACTCCGATCATCAAAGTTTCCATCACTAAACCAACAAAAAACACTATTGCATTCTACAATATGCCGGACTATGAAAAATGGAGAGAGGAAGAATCGCACAAATTTACTTGGAAGCAGAAGTATTATAAAGGATTAGGGACTTCTCTAGCACAAGAAGTCCGAGAATATTTTTCGAACTTGGACAGACATTTGAAAATATTCCATTCTTTGCAGGGTAATGATAAAGATTACATTGATTTAGCTTTCTCCAAGAAAAAGGCAGATGACCGTAAAGAATGGCTGAGACAATACGAACCTGGTACTGTTTTAGACCCTACTTTAAAAGAGATTCCAATTAGCGACTTCATTAATAAGGAATTAATCCTTTTTTCTTTGGCCGATAATATACGGTCGATTCCCAATGTTTTAGATGGATTTAAACCTGGCCAAAGAAAAGTTCTTTATGGTTGTTTCAAAAAAAATTTAAAGTCGGAACTGAAAGTAGCTCAACTTGCACCATACGTGAGCGAATGTACGGCATATCACCATGGTGAGCAGTCATTGGCACAAACTATTATTGGGCTAGCCCAAAACTTTGTTGGGTCCAACAATATTTACTTGCTATTACCTAACGGTGCTTTCGGTACAAGAGCCACTGGTGGTAAAGATGCAGCGGCAGCGAGATATATCTACACAGAATTGAACAAATTAACTCGTAAGATATTTCACCCTGCTGATGATCCATTATACAAATATATACAAGAAGATGAGAAAACAGTGGAGCCAGAGTGGTATTTACCAATTCTTCCTATGATTCTTGTTAACGGTGCTGAGGGTATTGGCACTGGCTGGAGTACTTACATTCCTCCATTCAACCCATTGGAAATTATAAAGAATATAAGACATTTAATGAACGACGAGGAGCTTGAGCAAATGCATCCGTGGTTTAGGGGATGGACCGGTACTATTGAAGAAATTGAGCCTCTGCGTTACAGAATGTACGGTAGGATTGAACAAATTGGAGATAACGTCTTAGAAATAACTGAGTTGCCAGCCAGAACTTGGACATCGACTATAAAGGAGTACTTACTTTTAGGTTTAAGCGGTAACGATAAAATAAAACCCTGGATCAAAGATATGGAGGAGCAGCACGATGATAACATCAAATTCATAATCACGCTATCACCTGAGGAAATGGCTAAAACAAGGAAAATAGGTTTTTATGAAAGATTTAAACTAATTTCGCCTATAAGTTTGATGAATATGGTCGCATTTGATCCTCACGGGAAAATCAAGAAGTACAATTCCGTGAATGAAATATTAAGCGAATTTTACTACGTCAGACTAGAATACTATCAAAAAAGAAAAGACCATATGAGCGAAAGGTTACAGTGGGAGGTAGAGAAATACTCTTTCCAAGTAAAATTTATTAAAATGATTATTGAAAAGGAGTTAACAGTCACCAATAAGCCTAGGAACGCTATTATCCAAGAACTTGAGAATTTAGGGTTCCCCAGATTTAATAAGGAAGGTAAACCATATTATGGAAGTCCTAACGATGAGATAGCTGAACAAATTAACGACGTAAAAGGCGCAACTTCTGATGAAGAAGATGAAGAAAGTTCACACGAAGATACTGAAAATGTTATAAATGGTCCTGAAGAACTATATGGCACATATGAATATTTATTAGGAATGAGAATATGGTCATTGACCAAGGAAAGATATCAAAAGCTGTTGAAACAAAAACAAGAAAAGGAGACAGAGTTGGAAAACTTGTTAAAACTTTCCGCGAAAGATATATGGAACACTGACTTGAAGGCTTTTGAGGTGGGATATCAAGAATTTTTGCAACGAGATGCAGAAGCTCGCGGTGGTAATGTTCCCAATAAAGGGAGCAAAACGAAAGGTAAAGGAAAAAGAAAGCTTGTTGACGACGAAGACTACGACCCATCAAAAAAAAACAAGAAAAGTACTGCTAGAAAGGGCAAAAAAATTAAGTTAGAGGATAAGAATTTTGAAAGGATTTTGTTAGAACAAAAACTAGTAACCAAAAGCAAGGCGCCTACAAAGATTAAAAAAGAGAAAACGCCTTCTGTTTCAGAAACAAAAACAGAAGAAGAAGAGAATGCTCCTTCTTCCACGAGTTCTTCTTCTATTTTCGACATAAAGAAAGAAGATAAAGATGAGGGCGAACTGAGTAAGATTTCGAACAAGTTTAAAAAAATTAGCACGATTTTTGACAAAATGGGTTCTACTTCCGCTACATCGAAGGAAAATACACCAGAACAGGACGATGTAGCCACTAAAAAAAATCAAACAACCGCTAAAAAAACAGCTGTAAAACCTAAATTGGCCAAGAAGCCAGTCAGGAAACAACAAAAAGTTGTGGAACTATCTGGTGAAAGCGACCTAGAAATTTTAGATTCATACACTGATCGGGAAGATAGCAATAAAGATGAAGATGATGCTATACCACAACGATCAAGGAGACAAAGATCGTCGAGAGCTGCGTCGGTTCCTAAGAAATCTTACGTTGAAACTTTAGAATTATCTGACGACAGTTTCATCGAAGATGATGAAGAGGAAAACCAAGGATCAGATGTTTCGTTCAATGAAGAGGATTGA'}"
      ]
     },
     "execution_count": 50,
     "metadata": {},
     "output_type": "execute_result"
    }
   ],
   "source": [
    "## Parsing a FASTA File\n",
    "file_path = \"./YNL088W_genomic_dna.fsa\"\n",
    "file = open(file_path)\n",
    "content = file.readlines()\n",
    "file.close()\n",
    "\n",
    "gene = {}\n",
    "header = content[0].strip()\n",
    "header_sp = header.split(\" \")\n",
    "gene[\"seq_id\"] = header_sp[0].strip(\">\")\n",
    "# gene[\"seq_id\"] = header_sp[0][1:]\n",
    "gene[\"gene_symbol\"] = header_sp[1]\n",
    "db_data = header_sp[2].split(\":\")\n",
    "gene[\"db_name\"] = db_data[0]\n",
    "gene[\"db_id\"] = db_data[1]\n",
    "gene[\"type\"] = header_sp[3]\n",
    "gene[\"gene_name\"] = \" \".join(header_sp[4:])\n",
    "\n",
    "seqs = [l.strip() for l in content[1:]]\n",
    "gene[\"seq\"] = \"\".join(seqs)\n",
    "\n",
    "gene"
   ]
  },
  {
   "cell_type": "code",
   "execution_count": 51,
   "id": "d812f476-8e03-4da9-ae18-6e31ccb649e4",
   "metadata": {},
   "outputs": [
    {
     "data": {
      "text/plain": [
       "{'seq_id': 'YNL088W_S288C',\n",
       " 'gene_symbol': 'TOP2',\n",
       " 'db_name': 'SGD',\n",
       " 'db_id': 'S000005032',\n",
       " 'type': 'ORF',\n",
       " 'gene_name': 'Topoisomerase II',\n",
       " 'seq': 'ATGTCAACTGAACCGGTAAGCGCCTCTGATAAATATCAGAAAATTTCTCAACTGGAACATATCTTAAAAAGACCAGACACTTATATCGGTTCTGTTGAAACTCAAGAGCAGCTGCAATGGATATACGATGAAGAGACCGATTGCATGATTGAAAAAAATGTCACAATTGTACCAGGGTTGTTCAAAATCTTTGATGAAATCTTAGTCAATGCGGCAGATAATAAAGTTCGTGATCCATCGATGAAACGAATCGATGTAAACATACATGCTGAGGAACATACTATAGAAGTGAAAAATGATGGAAAAGGTATTCCCATAGAGATTCATAACAAGGAGAATATTTATATTCCTGAAATGATATTTGGTCATTTGTTGACATCATCCAATTATGATGATGATGAGAAGAAAGTCACTGGTGGTAGAAACGGTTATGGTGCTAAGCTTTGTAATATATTTTCCACTGAATTCATATTAGAAACTGCAGATCTAAATGTTGGCCAGAAATATGTTCAAAAATGGGAAAATAACATGAGCATTTGCCACCCCCCAAAAATAACATCTTACAAGAAGGGTCCATCATATACAAAGGTGACATTTAAGCCGGATTTAACCAGATTCGGAATGAAAGAGCTAGATAATGATATCTTAGGAGTGATGCGAAGAAGAGTTTATGATATCAATGGTTCTGTTCGTGACATTAATGTCTATCTGAATGGCAAGTCCTTAAAGATAAGAAATTTCAAAAATTATGTTGAACTCTACTTGAAATCACTCGAAAAAAAAAGACAACTAGATAACGGTGAGGACGGTGCCGCTAAGTCTGATATCCCGACTATTCTTTATGAGAGAATAAACAACAGATGGGAAGTTGCTTTTGCGGTTTCTGATATCTCTTTTCAACAAATTTCTTTTGTGAATTCCATTGCAACTACCATGGGTGGTACCCATGTCAATTACATAACAGACCAAATTGTAAAAAAAATTTCAGAAATTTTGAAGAAAAAGAAGAAAAAAAGTGTGAAGTCTTTTCAGATTAAAAATAATATGTTCATTTTCATTAATTGTTTGATTGAGAATCCTGCATTTACCTCACAAACAAAAGAGCAACTGACAACAAGAGTCAAAGATTTTGGGTCCCGTTGTGAGATTCCTCTTGAATATATTAATAAGATTATGAAAACTGATTTGGCTACAAGAATGTTTGAAATTGCCGACGCAAATGAAGAAAATGCGCTAAAGAAGTCTGATGGTACAAGGAAAAGCAGAATTACTAATTACCCTAAACTGGAAGATGCCAACAAAGCCGGTACAAAAGAAGGCTATAAATGTACTTTAGTTCTGACAGAAGGGGATTCCGCCTTGTCATTAGCTGTTGCAGGTTTAGCTGTTGTTGGTAGAGATTATTATGGTTGTTATCCACTTCGTGGTAAAATGCTGAATGTTAGAGAAGCTAGTGCTGATCAGATACTAAAAAACGCGGAAATTCAAGCCATTAAAAAAATTATGGGGTTACAACATCGCAAGAAATATGAAGATACAAAATCTTTAAGATATGGGCATCTTATGATCATGACCGATCAAGATCATGATGGTTCGCATATTAAAGGTTTAATTATAAACTTTTTAGAAAGCTCATTTCCTGGTCTTTTGGATATCCAAGGTTTCTTACTTGAATTCATAACTCCGATCATCAAAGTTTCCATCACTAAACCAACAAAAAACACTATTGCATTCTACAATATGCCGGACTATGAAAAATGGAGAGAGGAAGAATCGCACAAATTTACTTGGAAGCAGAAGTATTATAAAGGATTAGGGACTTCTCTAGCACAAGAAGTCCGAGAATATTTTTCGAACTTGGACAGACATTTGAAAATATTCCATTCTTTGCAGGGTAATGATAAAGATTACATTGATTTAGCTTTCTCCAAGAAAAAGGCAGATGACCGTAAAGAATGGCTGAGACAATACGAACCTGGTACTGTTTTAGACCCTACTTTAAAAGAGATTCCAATTAGCGACTTCATTAATAAGGAATTAATCCTTTTTTCTTTGGCCGATAATATACGGTCGATTCCCAATGTTTTAGATGGATTTAAACCTGGCCAAAGAAAAGTTCTTTATGGTTGTTTCAAAAAAAATTTAAAGTCGGAACTGAAAGTAGCTCAACTTGCACCATACGTGAGCGAATGTACGGCATATCACCATGGTGAGCAGTCATTGGCACAAACTATTATTGGGCTAGCCCAAAACTTTGTTGGGTCCAACAATATTTACTTGCTATTACCTAACGGTGCTTTCGGTACAAGAGCCACTGGTGGTAAAGATGCAGCGGCAGCGAGATATATCTACACAGAATTGAACAAATTAACTCGTAAGATATTTCACCCTGCTGATGATCCATTATACAAATATATACAAGAAGATGAGAAAACAGTGGAGCCAGAGTGGTATTTACCAATTCTTCCTATGATTCTTGTTAACGGTGCTGAGGGTATTGGCACTGGCTGGAGTACTTACATTCCTCCATTCAACCCATTGGAAATTATAAAGAATATAAGACATTTAATGAACGACGAGGAGCTTGAGCAAATGCATCCGTGGTTTAGGGGATGGACCGGTACTATTGAAGAAATTGAGCCTCTGCGTTACAGAATGTACGGTAGGATTGAACAAATTGGAGATAACGTCTTAGAAATAACTGAGTTGCCAGCCAGAACTTGGACATCGACTATAAAGGAGTACTTACTTTTAGGTTTAAGCGGTAACGATAAAATAAAACCCTGGATCAAAGATATGGAGGAGCAGCACGATGATAACATCAAATTCATAATCACGCTATCACCTGAGGAAATGGCTAAAACAAGGAAAATAGGTTTTTATGAAAGATTTAAACTAATTTCGCCTATAAGTTTGATGAATATGGTCGCATTTGATCCTCACGGGAAAATCAAGAAGTACAATTCCGTGAATGAAATATTAAGCGAATTTTACTACGTCAGACTAGAATACTATCAAAAAAGAAAAGACCATATGAGCGAAAGGTTACAGTGGGAGGTAGAGAAATACTCTTTCCAAGTAAAATTTATTAAAATGATTATTGAAAAGGAGTTAACAGTCACCAATAAGCCTAGGAACGCTATTATCCAAGAACTTGAGAATTTAGGGTTCCCCAGATTTAATAAGGAAGGTAAACCATATTATGGAAGTCCTAACGATGAGATAGCTGAACAAATTAACGACGTAAAAGGCGCAACTTCTGATGAAGAAGATGAAGAAAGTTCACACGAAGATACTGAAAATGTTATAAATGGTCCTGAAGAACTATATGGCACATATGAATATTTATTAGGAATGAGAATATGGTCATTGACCAAGGAAAGATATCAAAAGCTGTTGAAACAAAAACAAGAAAAGGAGACAGAGTTGGAAAACTTGTTAAAACTTTCCGCGAAAGATATATGGAACACTGACTTGAAGGCTTTTGAGGTGGGATATCAAGAATTTTTGCAACGAGATGCAGAAGCTCGCGGTGGTAATGTTCCCAATAAAGGGAGCAAAACGAAAGGTAAAGGAAAAAGAAAGCTTGTTGACGACGAAGACTACGACCCATCAAAAAAAAACAAGAAAAGTACTGCTAGAAAGGGCAAAAAAATTAAGTTAGAGGATAAGAATTTTGAAAGGATTTTGTTAGAACAAAAACTAGTAACCAAAAGCAAGGCGCCTACAAAGATTAAAAAAGAGAAAACGCCTTCTGTTTCAGAAACAAAAACAGAAGAAGAAGAGAATGCTCCTTCTTCCACGAGTTCTTCTTCTATTTTCGACATAAAGAAAGAAGATAAAGATGAGGGCGAACTGAGTAAGATTTCGAACAAGTTTAAAAAAATTAGCACGATTTTTGACAAAATGGGTTCTACTTCCGCTACATCGAAGGAAAATACACCAGAACAGGACGATGTAGCCACTAAAAAAAATCAAACAACCGCTAAAAAAACAGCTGTAAAACCTAAATTGGCCAAGAAGCCAGTCAGGAAACAACAAAAAGTTGTGGAACTATCTGGTGAAAGCGACCTAGAAATTTTAGATTCATACACTGATCGGGAAGATAGCAATAAAGATGAAGATGATGCTATACCACAACGATCAAGGAGACAAAGATCGTCGAGAGCTGCGTCGGTTCCTAAGAAATCTTACGTTGAAACTTTAGAATTATCTGACGACAGTTTCATCGAAGATGATGAAGAGGAAAACCAAGGATCAGATGTTTCGTTCAATGAAGAGGATTGA'}"
      ]
     },
     "execution_count": 51,
     "metadata": {},
     "output_type": "execute_result"
    }
   ],
   "source": [
    "## Parsing a FASTA File\n",
    "file_path = \"./YNL088W_genomic_dna.fsa\"\n",
    "file = open(file_path)\n",
    "content = file.read()\n",
    "file.close()\n",
    "\n",
    "content = content.split(\"\\n\")\n",
    "gene = {}\n",
    "\n",
    "header = content[0]\n",
    "header_sp = header.split(\" \")\n",
    "gene[\"seq_id\"] = header_sp[0].strip(\">\")\n",
    "# gene[\"seq_id\"] = header_sp[0][1:]\n",
    "gene[\"gene_symbol\"] = header_sp[1]\n",
    "db_data = header_sp[2].split(\":\")\n",
    "gene[\"db_name\"] = db_data[0]\n",
    "gene[\"db_id\"] = db_data[1]\n",
    "gene[\"type\"] = header_sp[3]\n",
    "gene[\"gene_name\"] = \" \".join(header_sp[4:])\n",
    "\n",
    "gene[\"seq\"] = \"\".join(content[1:])\n",
    "\n",
    "gene"
   ]
  },
  {
   "cell_type": "code",
   "execution_count": 65,
   "id": "5ea5393e-a471-4c48-ab1a-fae9a6eb884e",
   "metadata": {},
   "outputs": [],
   "source": [
    "file_out = open(\"Gene_data.txt\", \"w+\")\n",
    "for key,val in gene.items():\n",
    "    line = key + \"\\t\" + val + \"\\n\"\n",
    "    file_out.write(line)\n",
    "file_out.close()"
   ]
  },
  {
   "cell_type": "code",
   "execution_count": 68,
   "id": "cecd7d5a-c8b2-4572-9740-0d53f487fe5a",
   "metadata": {},
   "outputs": [
    {
     "name": "stdout",
     "output_type": "stream",
     "text": [
      "seq_id\tYNL088W_S288C\n",
      "\n",
      "gene_symbol\tTOP2\n",
      "\n",
      "db_name\tSGD\n",
      "\n",
      "db_id\tS000005032\n",
      "\n",
      "type\tORF\n",
      "\n",
      "gene_name\tTopoisomerase II\n",
      "\n",
      "seq\tATGTCAACTGAACCGGTAAGCGCCTCTGATAAATATCAGAAAATTTCTCAACTGGAACATATCTTAAAAAGACCAGACACTTATATCGGTTCTGTTGAAACTCAAGAGCAGCTGCAATGGATATACGATGAAGAGACCGATTGCATGATTGAAAAAAATGTCACAATTGTACCAGGGTTGTTCAAAATCTTTGATGAAATCTTAGTCAATGCGGCAGATAATAAAGTTCGTGATCCATCGATGAAACGAATCGATGTAAACATACATGCTGAGGAACATACTATAGAAGTGAAAAATGATGGAAAAGGTATTCCCATAGAGATTCATAACAAGGAGAATATTTATATTCCTGAAATGATATTTGGTCATTTGTTGACATCATCCAATTATGATGATGATGAGAAGAAAGTCACTGGTGGTAGAAACGGTTATGGTGCTAAGCTTTGTAATATATTTTCCACTGAATTCATATTAGAAACTGCAGATCTAAATGTTGGCCAGAAATATGTTCAAAAATGGGAAAATAACATGAGCATTTGCCACCCCCCAAAAATAACATCTTACAAGAAGGGTCCATCATATACAAAGGTGACATTTAAGCCGGATTTAACCAGATTCGGAATGAAAGAGCTAGATAATGATATCTTAGGAGTGATGCGAAGAAGAGTTTATGATATCAATGGTTCTGTTCGTGACATTAATGTCTATCTGAATGGCAAGTCCTTAAAGATAAGAAATTTCAAAAATTATGTTGAACTCTACTTGAAATCACTCGAAAAAAAAAGACAACTAGATAACGGTGAGGACGGTGCCGCTAAGTCTGATATCCCGACTATTCTTTATGAGAGAATAAACAACAGATGGGAAGTTGCTTTTGCGGTTTCTGATATCTCTTTTCAACAAATTTCTTTTGTGAATTCCATTGCAACTACCATGGGTGGTACCCATGTCAATTACATAACAGACCAAATTGTAAAAAAAATTTCAGAAATTTTGAAGAAAAAGAAGAAAAAAAGTGTGAAGTCTTTTCAGATTAAAAATAATATGTTCATTTTCATTAATTGTTTGATTGAGAATCCTGCATTTACCTCACAAACAAAAGAGCAACTGACAACAAGAGTCAAAGATTTTGGGTCCCGTTGTGAGATTCCTCTTGAATATATTAATAAGATTATGAAAACTGATTTGGCTACAAGAATGTTTGAAATTGCCGACGCAAATGAAGAAAATGCGCTAAAGAAGTCTGATGGTACAAGGAAAAGCAGAATTACTAATTACCCTAAACTGGAAGATGCCAACAAAGCCGGTACAAAAGAAGGCTATAAATGTACTTTAGTTCTGACAGAAGGGGATTCCGCCTTGTCATTAGCTGTTGCAGGTTTAGCTGTTGTTGGTAGAGATTATTATGGTTGTTATCCACTTCGTGGTAAAATGCTGAATGTTAGAGAAGCTAGTGCTGATCAGATACTAAAAAACGCGGAAATTCAAGCCATTAAAAAAATTATGGGGTTACAACATCGCAAGAAATATGAAGATACAAAATCTTTAAGATATGGGCATCTTATGATCATGACCGATCAAGATCATGATGGTTCGCATATTAAAGGTTTAATTATAAACTTTTTAGAAAGCTCATTTCCTGGTCTTTTGGATATCCAAGGTTTCTTACTTGAATTCATAACTCCGATCATCAAAGTTTCCATCACTAAACCAACAAAAAACACTATTGCATTCTACAATATGCCGGACTATGAAAAATGGAGAGAGGAAGAATCGCACAAATTTACTTGGAAGCAGAAGTATTATAAAGGATTAGGGACTTCTCTAGCACAAGAAGTCCGAGAATATTTTTCGAACTTGGACAGACATTTGAAAATATTCCATTCTTTGCAGGGTAATGATAAAGATTACATTGATTTAGCTTTCTCCAAGAAAAAGGCAGATGACCGTAAAGAATGGCTGAGACAATACGAACCTGGTACTGTTTTAGACCCTACTTTAAAAGAGATTCCAATTAGCGACTTCATTAATAAGGAATTAATCCTTTTTTCTTTGGCCGATAATATACGGTCGATTCCCAATGTTTTAGATGGATTTAAACCTGGCCAAAGAAAAGTTCTTTATGGTTGTTTCAAAAAAAATTTAAAGTCGGAACTGAAAGTAGCTCAACTTGCACCATACGTGAGCGAATGTACGGCATATCACCATGGTGAGCAGTCATTGGCACAAACTATTATTGGGCTAGCCCAAAACTTTGTTGGGTCCAACAATATTTACTTGCTATTACCTAACGGTGCTTTCGGTACAAGAGCCACTGGTGGTAAAGATGCAGCGGCAGCGAGATATATCTACACAGAATTGAACAAATTAACTCGTAAGATATTTCACCCTGCTGATGATCCATTATACAAATATATACAAGAAGATGAGAAAACAGTGGAGCCAGAGTGGTATTTACCAATTCTTCCTATGATTCTTGTTAACGGTGCTGAGGGTATTGGCACTGGCTGGAGTACTTACATTCCTCCATTCAACCCATTGGAAATTATAAAGAATATAAGACATTTAATGAACGACGAGGAGCTTGAGCAAATGCATCCGTGGTTTAGGGGATGGACCGGTACTATTGAAGAAATTGAGCCTCTGCGTTACAGAATGTACGGTAGGATTGAACAAATTGGAGATAACGTCTTAGAAATAACTGAGTTGCCAGCCAGAACTTGGACATCGACTATAAAGGAGTACTTACTTTTAGGTTTAAGCGGTAACGATAAAATAAAACCCTGGATCAAAGATATGGAGGAGCAGCACGATGATAACATCAAATTCATAATCACGCTATCACCTGAGGAAATGGCTAAAACAAGGAAAATAGGTTTTTATGAAAGATTTAAACTAATTTCGCCTATAAGTTTGATGAATATGGTCGCATTTGATCCTCACGGGAAAATCAAGAAGTACAATTCCGTGAATGAAATATTAAGCGAATTTTACTACGTCAGACTAGAATACTATCAAAAAAGAAAAGACCATATGAGCGAAAGGTTACAGTGGGAGGTAGAGAAATACTCTTTCCAAGTAAAATTTATTAAAATGATTATTGAAAAGGAGTTAACAGTCACCAATAAGCCTAGGAACGCTATTATCCAAGAACTTGAGAATTTAGGGTTCCCCAGATTTAATAAGGAAGGTAAACCATATTATGGAAGTCCTAACGATGAGATAGCTGAACAAATTAACGACGTAAAAGGCGCAACTTCTGATGAAGAAGATGAAGAAAGTTCACACGAAGATACTGAAAATGTTATAAATGGTCCTGAAGAACTATATGGCACATATGAATATTTATTAGGAATGAGAATATGGTCATTGACCAAGGAAAGATATCAAAAGCTGTTGAAACAAAAACAAGAAAAGGAGACAGAGTTGGAAAACTTGTTAAAACTTTCCGCGAAAGATATATGGAACACTGACTTGAAGGCTTTTGAGGTGGGATATCAAGAATTTTTGCAACGAGATGCAGAAGCTCGCGGTGGTAATGTTCCCAATAAAGGGAGCAAAACGAAAGGTAAAGGAAAAAGAAAGCTTGTTGACGACGAAGACTACGACCCATCAAAAAAAAACAAGAAAAGTACTGCTAGAAAGGGCAAAAAAATTAAGTTAGAGGATAAGAATTTTGAAAGGATTTTGTTAGAACAAAAACTAGTAACCAAAAGCAAGGCGCCTACAAAGATTAAAAAAGAGAAAACGCCTTCTGTTTCAGAAACAAAAACAGAAGAAGAAGAGAATGCTCCTTCTTCCACGAGTTCTTCTTCTATTTTCGACATAAAGAAAGAAGATAAAGATGAGGGCGAACTGAGTAAGATTTCGAACAAGTTTAAAAAAATTAGCACGATTTTTGACAAAATGGGTTCTACTTCCGCTACATCGAAGGAAAATACACCAGAACAGGACGATGTAGCCACTAAAAAAAATCAAACAACCGCTAAAAAAACAGCTGTAAAACCTAAATTGGCCAAGAAGCCAGTCAGGAAACAACAAAAAGTTGTGGAACTATCTGGTGAAAGCGACCTAGAAATTTTAGATTCATACACTGATCGGGAAGATAGCAATAAAGATGAAGATGATGCTATACCACAACGATCAAGGAGACAAAGATCGTCGAGAGCTGCGTCGGTTCCTAAGAAATCTTACGTTGAAACTTTAGAATTATCTGACGACAGTTTCATCGAAGATGATGAAGAGGAAAACCAAGGATCAGATGTTTCGTTCAATGAAGAGGATTGA\n",
      "\n"
     ]
    }
   ],
   "source": [
    "file = open(\"Gene_data.txt\", \"r\")\n",
    "for line in file:\n",
    "    print(line)\n",
    "file_out.close()"
   ]
  }
 ],
 "metadata": {
  "kernelspec": {
   "display_name": "Python 3",
   "language": "python",
   "name": "python3"
  },
  "language_info": {
   "codemirror_mode": {
    "name": "ipython",
    "version": 3
   },
   "file_extension": ".py",
   "mimetype": "text/x-python",
   "name": "python",
   "nbconvert_exporter": "python",
   "pygments_lexer": "ipython3",
   "version": "3.9.4"
  }
 },
 "nbformat": 4,
 "nbformat_minor": 5
}
