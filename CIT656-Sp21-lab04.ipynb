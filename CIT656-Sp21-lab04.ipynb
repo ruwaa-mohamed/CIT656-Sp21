{
 "cells": [
  {
   "cell_type": "markdown",
   "id": "746f33a1",
   "metadata": {},
   "source": [
    "# CIT656 - Spring 2021\n",
    "## Lab 4 - May 02, 2021\n",
    "1. Lists and list operations.\n",
    "2. Comparison between strings and lists.\n",
    "3. Introduction to loops\n",
    "4. `for` loop in detail.\n",
    "5. `range()` function.\n",
    "6. `while` loop in detail.\n",
    "7. loop control statements (continue, break, and pass)\n",
    "8. tuples \n",
    "9. sets\n",
    "\n",
    "**Tasks**\n",
    "1. Introduce a point mutation in a DNA sequence string.\n",
    "2. write a Python script that takes a DNA sequence and print (iteratively) the codons in that sequence. How to handle the sequence if its length is not a multiple of 3?\n",
    "3. modify your code in part 1 to print, at the end, the extra bases that are not in codon if the length of the DNA sequence is not a multiple of 3.\n",
    "4. write a python script that takes a protein sequence and prints the unique amino acids in that sequence and percentage of each in the protein sequence.\n",
    "5. modify your code in part 3 to calculate the isoelectric point of that protein (search for the PI of each AA on Google)."
   ]
  },
  {
   "cell_type": "markdown",
   "id": "963494fc",
   "metadata": {},
   "source": [
    "#### Lists\n",
    "List in Python is a sequence data trype, meaning that it can have more than one value. They are defined with square brackets `[]` and the elements of the list are separated by commas `,`. The elements of the list can be of any data type; it could even be lists. It's not necessary that all elements are of the same data type. Examine the following examples:"
   ]
  },
  {
   "cell_type": "code",
   "execution_count": null,
   "id": "a882e32c",
   "metadata": {},
   "outputs": [],
   "source": [
    "L = [3, 4, 5]\n",
    "print(L)\n",
    "print(type(L))"
   ]
  },
  {
   "cell_type": "code",
   "execution_count": null,
   "id": "ec6b677e",
   "metadata": {},
   "outputs": [],
   "source": [
    "L = [1, 3.14, \"No\", True]\n",
    "print(L)\n",
    "print(type(L))"
   ]
  },
  {
   "cell_type": "markdown",
   "id": "3672e681",
   "metadata": {},
   "source": [
    "There are two ways to create empty list:\n",
    "1. by using empty square brackets\n",
    "```python\n",
    "L = []\n",
    "```\n",
    "2. by using the `list()` function.\n",
    "```python\n",
    "L = list()\n",
    "```"
   ]
  },
  {
   "cell_type": "markdown",
   "id": "85e827d6",
   "metadata": {},
   "source": [
    "Indexing and subscription of the elements of a list follows the same rules as strings in Python. Try the follwoing examples:"
   ]
  },
  {
   "cell_type": "code",
   "execution_count": null,
   "id": "268b22a4",
   "metadata": {},
   "outputs": [],
   "source": [
    "L[0]"
   ]
  },
  {
   "cell_type": "code",
   "execution_count": null,
   "id": "c7722581",
   "metadata": {},
   "outputs": [],
   "source": [
    "L[-2]"
   ]
  },
  {
   "cell_type": "code",
   "execution_count": null,
   "id": "619bd6d1",
   "metadata": {},
   "outputs": [],
   "source": [
    "L[::-1]"
   ]
  },
  {
   "cell_type": "code",
   "execution_count": null,
   "id": "ddcb41f0",
   "metadata": {},
   "outputs": [],
   "source": [
    "L[1:3]"
   ]
  },
  {
   "cell_type": "code",
   "execution_count": null,
   "id": "c46f25e8",
   "metadata": {},
   "outputs": [],
   "source": [
    "type(L[2])"
   ]
  },
  {
   "cell_type": "markdown",
   "id": "d2feef28",
   "metadata": {},
   "source": [
    "The `len()` function can be used to get the length of a list."
   ]
  },
  {
   "cell_type": "code",
   "execution_count": null,
   "id": "b20f3fbb",
   "metadata": {},
   "outputs": [],
   "source": [
    "len(L)"
   ]
  },
  {
   "cell_type": "markdown",
   "id": "f1c95060",
   "metadata": {},
   "source": [
    "To change any element in the list, a simple variable assignemt with index can be used as follows:"
   ]
  },
  {
   "cell_type": "code",
   "execution_count": null,
   "id": "7433523c",
   "metadata": {},
   "outputs": [],
   "source": [
    "L[0] = 15\n",
    "print(L)"
   ]
  },
  {
   "cell_type": "markdown",
   "id": "546b1feb",
   "metadata": {},
   "source": [
    "#### List Operations\n",
    "\n",
    "| method | function |\n",
    "| :---- | :------- |\n",
    "| `.clear()` | Removes all the elements in the list |\n",
    "| `.index(i)` | Returns the index of the first element with the specified value in the list | \n",
    "| `.count(v)` | Returns the number of elements with the specified value in the list |\n",
    "| `.insert(i,v)` | Adds an element at the specified position in the list |\n",
    "| `.pop(i)` | Removes the element at the specified position in the list |\n",
    "| `.remove(v)` | Removes the first item with the specified value in the list |\n",
    "| `.reverse()` | Reverses the order of the list |\n",
    "| `.sort()` | Sorts the list elements |\n",
    "| `.append(v)` | Adds an element at the end of the list |\n",
    "| `.extend(l)` | Add the elements of a list (or any iterable), to the end of the current list | \n",
    "\n",
    "Try the following examples."
   ]
  },
  {
   "cell_type": "markdown",
   "id": "4b7e889a",
   "metadata": {},
   "source": [
    "Note that **Lists are the only data type in Python that changes when used in any operation**. To better understamd this point, run the following commands and compare them to lists. Also, I highly recomment using [Python Tutor](http://pythontutor.com/visualize.html) for code visualization. Try creating a list and changing an element in that list and see how the computer do that without re-assigning to the same variable. Try also to do the same but with integers, floats, and strings. You can use the below code as a guide\n",
    "```python\n",
    "L = [1,2,3,4]\n",
    "print(L)\n",
    "L.append(5)\n",
    "print(L)\n",
    "# note that it's not L = L.append(5)\n",
    "\n",
    "L2 = L\n",
    "print(L)\n",
    "print(L2)\n",
    "L[0] = 10\n",
    "print(L)\n",
    "print(L2)\n",
    "# Notice how both changed\n",
    "\n",
    "a = 3\n",
    "print(a)\n",
    "b = a\n",
    "b = b + 3\n",
    "print(a)\n",
    "# Notics that only b changed but not a\n",
    "```"
   ]
  },
  {
   "cell_type": "code",
   "execution_count": null,
   "id": "2806bd92",
   "metadata": {},
   "outputs": [],
   "source": [
    "nums = [1, 2, 3, 4]\n",
    "print(nums)\n",
    "print(len(nums))"
   ]
  },
  {
   "cell_type": "code",
   "execution_count": null,
   "id": "3a357bf0",
   "metadata": {},
   "outputs": [],
   "source": [
    "nums.append(5)\n",
    "print(nums)\n",
    "print(len(nums))"
   ]
  },
  {
   "cell_type": "code",
   "execution_count": null,
   "id": "cefd3da0",
   "metadata": {},
   "outputs": [],
   "source": [
    "nums.append([6,7,8])\n",
    "print(nums)\n",
    "print(len(nums))"
   ]
  },
  {
   "cell_type": "code",
   "execution_count": null,
   "id": "73542190",
   "metadata": {},
   "outputs": [],
   "source": [
    "print(nums[5])\n",
    "print(type(nums[5]))"
   ]
  },
  {
   "cell_type": "code",
   "execution_count": null,
   "id": "570698fe",
   "metadata": {},
   "outputs": [],
   "source": [
    "print(nums[5][0])"
   ]
  },
  {
   "cell_type": "code",
   "execution_count": null,
   "id": "fdefcd6e",
   "metadata": {},
   "outputs": [],
   "source": [
    "nums.pop()"
   ]
  },
  {
   "cell_type": "code",
   "execution_count": null,
   "id": "7830b46a",
   "metadata": {},
   "outputs": [],
   "source": [
    "print(nums)"
   ]
  },
  {
   "cell_type": "code",
   "execution_count": null,
   "id": "9de31384",
   "metadata": {},
   "outputs": [],
   "source": [
    "nums.pop(1)"
   ]
  },
  {
   "cell_type": "code",
   "execution_count": null,
   "id": "f4ed0f92",
   "metadata": {},
   "outputs": [],
   "source": [
    "print(nums)"
   ]
  },
  {
   "cell_type": "code",
   "execution_count": null,
   "id": "31888f24",
   "metadata": {},
   "outputs": [],
   "source": [
    "nums.remove(1)"
   ]
  },
  {
   "cell_type": "code",
   "execution_count": null,
   "id": "09fedb68",
   "metadata": {},
   "outputs": [],
   "source": [
    "print(nums)"
   ]
  },
  {
   "cell_type": "markdown",
   "id": "3c6f0ea9",
   "metadata": {},
   "source": [
    "Note that no output was returned from the `remove()` method.\n",
    "(Always remeber, no output doesn't mean that there's an error, this method just doesn't return anything. Same as the `print()` function)"
   ]
  },
  {
   "cell_type": "code",
   "execution_count": null,
   "id": "1c5cb4c9",
   "metadata": {},
   "outputs": [],
   "source": [
    "a = print(\"Hi\")\n",
    "print(a)\n",
    "print(type(a))"
   ]
  },
  {
   "cell_type": "code",
   "execution_count": null,
   "id": "06550492",
   "metadata": {},
   "outputs": [],
   "source": [
    "nums.extend([6,7,8])\n",
    "print(nums)\n",
    "print(len(nums))"
   ]
  },
  {
   "cell_type": "code",
   "execution_count": null,
   "id": "933ebcc8",
   "metadata": {},
   "outputs": [],
   "source": [
    "nums.index(5)"
   ]
  },
  {
   "cell_type": "code",
   "execution_count": null,
   "id": "1e2ed104",
   "metadata": {},
   "outputs": [],
   "source": [
    "nums.index([5])"
   ]
  },
  {
   "cell_type": "code",
   "execution_count": null,
   "id": "284c1cef",
   "metadata": {},
   "outputs": [],
   "source": [
    "nums.count(1)"
   ]
  },
  {
   "cell_type": "code",
   "execution_count": null,
   "id": "e301ec88",
   "metadata": {},
   "outputs": [],
   "source": [
    "nums.insert(1,2)"
   ]
  },
  {
   "cell_type": "code",
   "execution_count": null,
   "id": "d03c535a",
   "metadata": {},
   "outputs": [],
   "source": [
    "print(nums)"
   ]
  },
  {
   "cell_type": "code",
   "execution_count": null,
   "id": "649eff66",
   "metadata": {},
   "outputs": [],
   "source": [
    "nums.reverse()"
   ]
  },
  {
   "cell_type": "code",
   "execution_count": null,
   "id": "c01750b8",
   "metadata": {},
   "outputs": [],
   "source": [
    "print(nums)"
   ]
  },
  {
   "cell_type": "code",
   "execution_count": null,
   "id": "4c6f183f",
   "metadata": {},
   "outputs": [],
   "source": [
    "nums.sort()"
   ]
  },
  {
   "cell_type": "code",
   "execution_count": null,
   "id": "05e9a952",
   "metadata": {},
   "outputs": [],
   "source": [
    "print(nums)"
   ]
  },
  {
   "cell_type": "code",
   "execution_count": null,
   "id": "5727f34f",
   "metadata": {},
   "outputs": [],
   "source": [
    "nums.clear()"
   ]
  },
  {
   "cell_type": "code",
   "execution_count": null,
   "id": "582d1b0f",
   "metadata": {},
   "outputs": [],
   "source": [
    "print(nums)\n",
    "print(len(nums))"
   ]
  },
  {
   "cell_type": "markdown",
   "id": "c35ba195",
   "metadata": {},
   "source": [
    "**Task**\n",
    "\n",
    "Let's revist the strings again. Imagine we have the following DNA sequence `DNA = \"ATTCGACTCGTCGATTGCGAATAT\"` and we want to produce a point mutation at the characer at index 5 with `A` instead of `G` How can we do that in strings? "
   ]
  },
  {
   "cell_type": "code",
   "execution_count": null,
   "id": "ba99b19f",
   "metadata": {},
   "outputs": [],
   "source": []
  },
  {
   "cell_type": "markdown",
   "id": "d4404222",
   "metadata": {},
   "source": [
    "there are two string methods that can be used to concert from string to list and from list to string, namely:\n",
    "\n",
    "| method | function |\n",
    "| :----- | :------- |\n",
    "| `.split()` | to convert from `string` to `list` |\n",
    "| `.join()` | to convert from `list` to `string` |\n",
    "\n",
    "They are used as follows:\n",
    "\n",
    "```python\n",
    "L = s.split(c)   ## to split a string (s) on the character (c) and the output is a list (L)\n",
    "s = \"c\".join(L)  ## to join the elements of a list (L) with charcter (c) as separator and the output is a string (s)\n",
    "```"
   ]
  },
  {
   "cell_type": "code",
   "execution_count": null,
   "id": "1053738f",
   "metadata": {},
   "outputs": [],
   "source": [
    "seq = \"ATTCGACTCGTCGATTGCGAATAT\"\n",
    "seq_list = seq.split()\n",
    "print(seq_list)\n",
    "# when no argument is given, the spli is made on the white-space characters"
   ]
  },
  {
   "cell_type": "code",
   "execution_count": null,
   "id": "029fbf8f",
   "metadata": {},
   "outputs": [],
   "source": [
    "seq_list = seq.split(\"A\")\n",
    "print(seq_list)"
   ]
  },
  {
   "cell_type": "code",
   "execution_count": null,
   "id": "34337c0f",
   "metadata": {},
   "outputs": [],
   "source": [
    "seq_list = list(seq)\n",
    "print(seq_list)"
   ]
  },
  {
   "cell_type": "code",
   "execution_count": null,
   "id": "71a783e1",
   "metadata": {},
   "outputs": [],
   "source": [
    "seq_2 = \".\".join(seq_list)\n",
    "print(seq_2)"
   ]
  },
  {
   "cell_type": "code",
   "execution_count": null,
   "id": "7eea0c43",
   "metadata": {},
   "outputs": [],
   "source": [
    "seq_3 = str(seq_list)\n",
    "print(seq_3)\n",
    "print(type(seq_3))"
   ]
  },
  {
   "cell_type": "markdown",
   "id": "5a7ce35c",
   "metadata": {},
   "source": [
    "Given that, **strings are immutable** (you can't change the value of a chracter in a string by simple assignment expression) and **lists are mutable**, can you think now of a better way to do the point mutation task? \n",
    "(I highly encirage that you do a comparison between lists and strings)"
   ]
  },
  {
   "cell_type": "code",
   "execution_count": null,
   "id": "c0435aae",
   "metadata": {},
   "outputs": [],
   "source": []
  }
 ],
 "metadata": {
  "kernelspec": {
   "display_name": "Python 3",
   "language": "python",
   "name": "python3"
  },
  "language_info": {
   "codemirror_mode": {
    "name": "ipython",
    "version": 3
   },
   "file_extension": ".py",
   "mimetype": "text/x-python",
   "name": "python",
   "nbconvert_exporter": "python",
   "pygments_lexer": "ipython3",
   "version": "3.9.4"
  }
 },
 "nbformat": 4,
 "nbformat_minor": 5
}
