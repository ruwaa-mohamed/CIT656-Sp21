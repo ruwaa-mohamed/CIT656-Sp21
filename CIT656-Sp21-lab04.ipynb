{
 "cells": [
  {
   "cell_type": "markdown",
   "id": "746f33a1",
   "metadata": {},
   "source": [
    "# CIT656 - Spring 2021\n",
    "## Lab 4 - May 02, 2021\n",
    "1. Lists and list operations.\n",
    "2. Comparison between strings and lists.\n",
    "3. Introduction to loops\n",
    "4. `for` loop in detail.\n",
    "5. `range()` function.\n",
    "6. `while` loop in detail.\n",
    "7. loop control statements (continue, break, and pass)\n",
    "8. tuples \n",
    "9. sets\n",
    "\n",
    "**Tasks**\n",
    "1. write a Python script that takes a DNA sequence and print (iteratively) the codons in that sequence. How to handle the sequence if its length is not a multiple of 3?\n",
    "2. modify your code in part 1 to print, at the end, the extra bases that are not in codon if the length of the DNA sequence is not a multiple of 3.\n",
    "3. write a python script that takes a protein sequence and prints the unique amino acids in that sequence and percentage of each in the protein sequence.\n",
    "4. modify your code in part 3 to calculate the isoelectric point of that protein (search for the PI of each AA on Google).\n",
    "5. Introduce a point mutation in a DNA sequence string."
   ]
  },
  {
   "cell_type": "markdown",
   "id": "963494fc",
   "metadata": {},
   "source": [
    "#### Lists\n",
    "List in Python is a sequence data trype, meaning that it can have more than one value. They are defined with square brackets `[]` and the elements of the list are separated by commas `,`. The elements of the list can be of any data type; it could even be lists. It's not necessary that all elements are of the same data type. Examine the following examples:"
   ]
  },
  {
   "cell_type": "code",
   "execution_count": null,
   "id": "a882e32c",
   "metadata": {},
   "outputs": [],
   "source": [
    "L = [3, 4, 5]\n",
    "print(L)\n",
    "print(type(L))"
   ]
  },
  {
   "cell_type": "code",
   "execution_count": null,
   "id": "ec6b677e",
   "metadata": {},
   "outputs": [],
   "source": [
    "L = [1, 3.14, \"No\", True]\n",
    "print(L)\n",
    "print(type(L))"
   ]
  },
  {
   "cell_type": "markdown",
   "id": "a02447ba",
   "metadata": {},
   "source": [
    "There are two ways to create empty list:\n",
    "1. by using empty square brackets\n",
    "```python\n",
    "L = []\n",
    "```\n",
    "2. by using the `list()` function.\n",
    "```python\n",
    "L = list()\n",
    "```"
   ]
  },
  {
   "cell_type": "markdown",
   "id": "85e827d6",
   "metadata": {},
   "source": [
    "Indexing and subscription of the elements of a list follows the same rules as strings in Python. Try the follwoing examples:"
   ]
  },
  {
   "cell_type": "code",
   "execution_count": null,
   "id": "268b22a4",
   "metadata": {},
   "outputs": [],
   "source": [
    "L[0]"
   ]
  },
  {
   "cell_type": "code",
   "execution_count": null,
   "id": "c7722581",
   "metadata": {},
   "outputs": [],
   "source": [
    "L[-2]"
   ]
  },
  {
   "cell_type": "code",
   "execution_count": null,
   "id": "331bf6b1",
   "metadata": {},
   "outputs": [],
   "source": [
    "L[::-1]"
   ]
  },
  {
   "cell_type": "code",
   "execution_count": null,
   "id": "ddcb41f0",
   "metadata": {},
   "outputs": [],
   "source": [
    "L[1:3]"
   ]
  },
  {
   "cell_type": "code",
   "execution_count": null,
   "id": "c46f25e8",
   "metadata": {},
   "outputs": [],
   "source": [
    "type(L[2])"
   ]
  },
  {
   "cell_type": "markdown",
   "id": "d2feef28",
   "metadata": {},
   "source": [
    "The `len()` function can be used to get the length of a list."
   ]
  },
  {
   "cell_type": "code",
   "execution_count": null,
   "id": "b20f3fbb",
   "metadata": {},
   "outputs": [],
   "source": [
    "len(L)"
   ]
  },
  {
   "cell_type": "markdown",
   "id": "f9187943",
   "metadata": {},
   "source": [
    "To change any element in the list, a simple variable assignemt with index can be used as follows:"
   ]
  },
  {
   "cell_type": "code",
   "execution_count": null,
   "id": "1ccf417f",
   "metadata": {},
   "outputs": [],
   "source": [
    "L[0] = 15\n",
    "print(L)"
   ]
  },
  {
   "cell_type": "markdown",
   "id": "546b1feb",
   "metadata": {},
   "source": [
    "#### List Operations\n",
    "\n",
    "| method | function |\n",
    "| :---- | :------- |\n",
    "| `.clear()` | Removes all the elements in the list |\n",
    "| `.index(i)` | Returns the index of the first element with the specified value in the list | \n",
    "| `.count(v)` | Returns the number of elements with the specified value in the list |\n",
    "| `.insert(i,v)` | Adds an element at the specified position in the list |\n",
    "| `.pop(i)` | Removes the element at the specified position in the list |\n",
    "| `.remove(v)` | Removes the first item with the specified value in the list |\n",
    "| `.reverse()` | Reverses the order of the list |\n",
    "| `.sort()` | Sorts the list elements |\n",
    "| `.append(v)` | Adds an element at the end of the list |\n",
    "| `.extend(l)` | Add the elements of a list (or any iterable), to the end of the current list | \n",
    "\n",
    "Try the following examples."
   ]
  },
  {
   "cell_type": "markdown",
   "id": "0b8119ff",
   "metadata": {},
   "source": [
    "Note that **Lists are the only data type in Python that changes when used in any operation**. To better understamd this point, run the following commands and compare them to lists. Also, I highly recomment using [Python Tutor](http://pythontutor.com/visualize.html) for code visualization. Try creating a list and changing an element in that list and see how the computer do that without re-assigning to the same variable. Try also to do the same but with integers, floats, and strings. You can use the below code as a guide\n",
    "```python\n",
    "L = [1,2,3,4]\n",
    "print(L)\n",
    "L.append(5)\n",
    "print(L)\n",
    "# note that it's not L = L.append(5)\n",
    "\n",
    "L2 = L\n",
    "print(L)\n",
    "print(L2)\n",
    "L[0] = 10\n",
    "print(L)\n",
    "print(L2)\n",
    "# Notice how both changed\n",
    "\n",
    "a = 3\n",
    "print(a)\n",
    "b = a\n",
    "b = b + 3\n",
    "print(a)\n",
    "# Notics that only b changed but not a\n",
    "```"
   ]
  },
  {
   "cell_type": "code",
   "execution_count": null,
   "id": "2806bd92",
   "metadata": {},
   "outputs": [],
   "source": [
    "nums = [1, 2, 3, 4]\n",
    "print(nums)\n",
    "print(len(nums))"
   ]
  },
  {
   "cell_type": "code",
   "execution_count": null,
   "id": "3a357bf0",
   "metadata": {},
   "outputs": [],
   "source": [
    "nums.append(5)\n",
    "print(nums)\n",
    "print(len(nums))"
   ]
  },
  {
   "cell_type": "code",
   "execution_count": null,
   "id": "4568453d",
   "metadata": {},
   "outputs": [],
   "source": [
    "nums.append([6,7,8])\n",
    "print(nums)\n",
    "print(len(nums))"
   ]
  },
  {
   "cell_type": "code",
   "execution_count": null,
   "id": "a8c7cc6a",
   "metadata": {},
   "outputs": [],
   "source": [
    "print(nums[5])\n",
    "print(type(nums[5]))"
   ]
  },
  {
   "cell_type": "code",
   "execution_count": null,
   "id": "0e6f4e57",
   "metadata": {},
   "outputs": [],
   "source": [
    "print(nums[5][0])"
   ]
  },
  {
   "cell_type": "code",
   "execution_count": null,
   "id": "8ef1006f",
   "metadata": {},
   "outputs": [],
   "source": [
    "nums.pop()"
   ]
  },
  {
   "cell_type": "code",
   "execution_count": null,
   "id": "b1a4576a",
   "metadata": {},
   "outputs": [],
   "source": [
    "print(nums)"
   ]
  },
  {
   "cell_type": "code",
   "execution_count": null,
   "id": "a20813e5",
   "metadata": {},
   "outputs": [],
   "source": [
    "nums.pop(1)"
   ]
  },
  {
   "cell_type": "code",
   "execution_count": null,
   "id": "30c16a25",
   "metadata": {},
   "outputs": [],
   "source": [
    "print(nums)"
   ]
  },
  {
   "cell_type": "code",
   "execution_count": null,
   "id": "19bb7b30",
   "metadata": {},
   "outputs": [],
   "source": [
    "nums.remove(1)"
   ]
  },
  {
   "cell_type": "code",
   "execution_count": null,
   "id": "8dcf00cb",
   "metadata": {},
   "outputs": [],
   "source": [
    "print(nums)"
   ]
  },
  {
   "cell_type": "markdown",
   "id": "3c9e8eb5",
   "metadata": {},
   "source": [
    "Note that no output was returned from the `remove()` method.\n",
    "(Always remeber, no output doesn't mean that there's an error, this method just doesn't return anything. Same as the `print()` function)"
   ]
  },
  {
   "cell_type": "code",
   "execution_count": null,
   "id": "7bfb631f",
   "metadata": {},
   "outputs": [],
   "source": [
    "a = print(\"Hi\")\n",
    "print(a)\n",
    "print(type(a))"
   ]
  },
  {
   "cell_type": "code",
   "execution_count": null,
   "id": "8a01caed",
   "metadata": {},
   "outputs": [],
   "source": [
    "nums.extend([6,7,8])\n",
    "print(nums)\n",
    "print(len(nums))"
   ]
  },
  {
   "cell_type": "code",
   "execution_count": null,
   "id": "1149e544",
   "metadata": {},
   "outputs": [],
   "source": [
    "nums.index(5)"
   ]
  },
  {
   "cell_type": "code",
   "execution_count": null,
   "id": "4a64d0b7",
   "metadata": {},
   "outputs": [],
   "source": [
    "nums.index([5])"
   ]
  },
  {
   "cell_type": "code",
   "execution_count": null,
   "id": "bb7580ab",
   "metadata": {},
   "outputs": [],
   "source": [
    "nums.count(1)"
   ]
  },
  {
   "cell_type": "code",
   "execution_count": null,
   "id": "32c27872",
   "metadata": {},
   "outputs": [],
   "source": [
    "nums.insert(1,2)"
   ]
  },
  {
   "cell_type": "code",
   "execution_count": null,
   "id": "f2ed5774",
   "metadata": {},
   "outputs": [],
   "source": [
    "print(nums)"
   ]
  },
  {
   "cell_type": "code",
   "execution_count": null,
   "id": "d6c73284",
   "metadata": {},
   "outputs": [],
   "source": [
    "nums.reverse()"
   ]
  },
  {
   "cell_type": "code",
   "execution_count": null,
   "id": "55759488",
   "metadata": {},
   "outputs": [],
   "source": [
    "print(nums)"
   ]
  },
  {
   "cell_type": "code",
   "execution_count": null,
   "id": "9dcce89d",
   "metadata": {},
   "outputs": [],
   "source": [
    "nums.sort()"
   ]
  },
  {
   "cell_type": "code",
   "execution_count": null,
   "id": "85555f00",
   "metadata": {},
   "outputs": [],
   "source": [
    "print(nums)"
   ]
  },
  {
   "cell_type": "code",
   "execution_count": null,
   "id": "21a2d123",
   "metadata": {},
   "outputs": [],
   "source": [
    "nums.clear()"
   ]
  },
  {
   "cell_type": "code",
   "execution_count": null,
   "id": "bc05c538",
   "metadata": {},
   "outputs": [],
   "source": [
    "print(nums)\n",
    "print(len(nums))"
   ]
  },
  {
   "cell_type": "code",
   "execution_count": null,
   "id": "9658f88e",
   "metadata": {},
   "outputs": [],
   "source": []
  },
  {
   "cell_type": "code",
   "execution_count": null,
   "id": "4545b4ef",
   "metadata": {},
   "outputs": [],
   "source": []
  },
  {
   "cell_type": "code",
   "execution_count": null,
   "id": "12e8c04c",
   "metadata": {},
   "outputs": [],
   "source": []
  },
  {
   "cell_type": "code",
   "execution_count": null,
   "id": "e316ea5e",
   "metadata": {},
   "outputs": [],
   "source": []
  },
  {
   "cell_type": "code",
   "execution_count": null,
   "id": "200dfb25",
   "metadata": {},
   "outputs": [],
   "source": []
  }
 ],
 "metadata": {
  "kernelspec": {
   "display_name": "Python 3",
   "language": "python",
   "name": "python3"
  },
  "language_info": {
   "codemirror_mode": {
    "name": "ipython",
    "version": 3
   },
   "file_extension": ".py",
   "mimetype": "text/x-python",
   "name": "python",
   "nbconvert_exporter": "python",
   "pygments_lexer": "ipython3",
   "version": "3.9.4"
  }
 },
 "nbformat": 4,
 "nbformat_minor": 5
}
