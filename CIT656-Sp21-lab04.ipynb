{
 "cells": [
  {
   "cell_type": "markdown",
   "id": "746f33a1",
   "metadata": {},
   "source": [
    "# CIT656 - Spring 2021\n",
    "## Lab 4 - May 02, 2021\n",
    "1. Lists and list operations.\n",
    "2. Comparison between strings and lists.\n",
    "3. Introduction to loops\n",
    "4. `for` loop in detail.\n",
    "5. `range()` function.\n",
    "6. `while` loop in detail.\n",
    "7. loop control statements (continue, break, and pass)\n",
    "8. tuples \n",
    "9. sets\n",
    "\n",
    "**Tasks**\n",
    "1. write a Python script that takes a DNA sequence and print (iteratively) the codons in that sequence. How to handle the sequence if its length is not a multiple of 3?\n",
    "2. modify your code in part 1 to print, at the end, the extra bases that are not in codon if the length of the DNA sequence is not a multiple of 3.\n",
    "3. write a python script that takes a protein sequence and prints the unique amino acids in that sequence and percentage of each in the protein sequence.\n",
    "4. modify your code in part 3 to calculate the isoelectric point of that protein (search for the PI of each AA on Google)."
   ]
  },
  {
   "cell_type": "markdown",
   "id": "d786ae73",
   "metadata": {},
   "source": [
    "#### Lists\n",
    "List in Python is a sequence data trype, meaning that it can have more than one value. They are defined with square brackets `[]` and the elements of the list are separated by commas `,`. The elements of the list can be of any data type; it could even be lists. It's not necessary that all elements are of the same data type. Examine the following examples:"
   ]
  },
  {
   "cell_type": "code",
   "execution_count": 2,
   "id": "b773cd08",
   "metadata": {},
   "outputs": [
    {
     "name": "stdout",
     "output_type": "stream",
     "text": [
      "[3, 4, 5]\n",
      "<class 'list'>\n"
     ]
    }
   ],
   "source": [
    "L = [3, 4, 5]\n",
    "print(L)\n",
    "print(type(L))"
   ]
  },
  {
   "cell_type": "code",
   "execution_count": 3,
   "id": "42435b08",
   "metadata": {},
   "outputs": [
    {
     "name": "stdout",
     "output_type": "stream",
     "text": [
      "[1, 3.14, 'No', True]\n",
      "<class 'list'>\n"
     ]
    }
   ],
   "source": [
    "L = [1, 3.14, \"No\", True]\n",
    "print(L)\n",
    "print(type(L))"
   ]
  },
  {
   "cell_type": "markdown",
   "id": "f93cf7ac",
   "metadata": {},
   "source": [
    "Indexing and subscription of the elements of a list follows the same rules as strings in Python. Try the follwoing examples:"
   ]
  },
  {
   "cell_type": "code",
   "execution_count": 4,
   "id": "b2af027d",
   "metadata": {},
   "outputs": [
    {
     "data": {
      "text/plain": [
       "1"
      ]
     },
     "execution_count": 4,
     "metadata": {},
     "output_type": "execute_result"
    }
   ],
   "source": [
    "L[0]"
   ]
  },
  {
   "cell_type": "code",
   "execution_count": 5,
   "id": "75c26481",
   "metadata": {},
   "outputs": [
    {
     "data": {
      "text/plain": [
       "'No'"
      ]
     },
     "execution_count": 5,
     "metadata": {},
     "output_type": "execute_result"
    }
   ],
   "source": [
    "L[-2]"
   ]
  },
  {
   "cell_type": "code",
   "execution_count": 6,
   "id": "59b1dc90",
   "metadata": {},
   "outputs": [
    {
     "data": {
      "text/plain": [
       "[True, 'No', 3.14, 1]"
      ]
     },
     "execution_count": 6,
     "metadata": {},
     "output_type": "execute_result"
    }
   ],
   "source": [
    "L[::-1]"
   ]
  },
  {
   "cell_type": "code",
   "execution_count": 9,
   "id": "7b2d4226",
   "metadata": {},
   "outputs": [
    {
     "data": {
      "text/plain": [
       "[3.14, 'No']"
      ]
     },
     "execution_count": 9,
     "metadata": {},
     "output_type": "execute_result"
    }
   ],
   "source": [
    "L[1:3]"
   ]
  },
  {
   "cell_type": "code",
   "execution_count": 11,
   "id": "9f180140",
   "metadata": {},
   "outputs": [
    {
     "data": {
      "text/plain": [
       "str"
      ]
     },
     "execution_count": 11,
     "metadata": {},
     "output_type": "execute_result"
    }
   ],
   "source": [
    "type(L[2])"
   ]
  },
  {
   "cell_type": "markdown",
   "id": "4a5a3269",
   "metadata": {},
   "source": [
    "The `len()` function can be used to get the length of a list."
   ]
  },
  {
   "cell_type": "code",
   "execution_count": 13,
   "id": "14f0a688",
   "metadata": {},
   "outputs": [
    {
     "data": {
      "text/plain": [
       "4"
      ]
     },
     "execution_count": 13,
     "metadata": {},
     "output_type": "execute_result"
    }
   ],
   "source": [
    "len(L)"
   ]
  },
  {
   "cell_type": "markdown",
   "id": "d06c3ec6",
   "metadata": {},
   "source": [
    "#### List Operations\n",
    "\n",
    "| method | function |\n",
    "| :---- | :------- |\n",
    "| `.clear()` | Removes all the elements in the list |\n",
    "| `.index()` | Returns the index of the first element with the specified value in the list | \n",
    "| `.count()` | Returns the number of elements with the specified value in the list |\n",
    "| `.insert()` | Adds an element at the specified position in the list |\n",
    "| `.pop()` | Removes the element at the specified position in the list |\n",
    "| `.remove()` | Removes the first item with the specified value in the list |\n",
    "| `.reverse()` | Reverses the order of the list |\n",
    "| `.sort()` | Sorts the list elements |\n",
    "| `.append()` | Adds an element at the end of the list |\n",
    "| `extend()` | Add the elements of a list (or any iterable), to the end of the current list | \n",
    "\n",
    "Try the following examples. Note that **Lists are the only data type in Python that changes when used in any operation**"
   ]
  },
  {
   "cell_type": "code",
   "execution_count": null,
   "id": "e917fb8a",
   "metadata": {},
   "outputs": [],
   "source": []
  },
  {
   "cell_type": "code",
   "execution_count": null,
   "id": "e429d041",
   "metadata": {},
   "outputs": [],
   "source": []
  }
 ],
 "metadata": {
  "kernelspec": {
   "display_name": "Python 3",
   "language": "python",
   "name": "python3"
  },
  "language_info": {
   "codemirror_mode": {
    "name": "ipython",
    "version": 3
   },
   "file_extension": ".py",
   "mimetype": "text/x-python",
   "name": "python",
   "nbconvert_exporter": "python",
   "pygments_lexer": "ipython3",
   "version": "3.9.4"
  }
 },
 "nbformat": 4,
 "nbformat_minor": 5
}
