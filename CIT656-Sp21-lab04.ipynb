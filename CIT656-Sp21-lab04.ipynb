{
 "cells": [
  {
   "cell_type": "markdown",
   "id": "746f33a1",
   "metadata": {},
   "source": [
    "# CIT656 - Spring 2021\n",
    "## Lab 4 - May 02, 2021\n",
    "1. lists and list operations.\n",
    "2. comparison between strings and lists.\n",
    "3. Loops in detail.\n",
    "4. `range()` function.\n",
    "5. tuples \n",
    "6. sets\n",
    "\n",
    "**Tasks**\n",
    "1. write a Python script that takes a DNA sequence and print (iteratively) the codons in that sequence. How to handle the sequence if its length is not a multiple of 3?\n",
    "2. modify your code in part 1 to print, at the end, the extra bases that are not in codon if the length of the DNA sequence is not a multiple of 3.\n",
    "3. write a python script that takes a protein sequence and prints the unique amino acids in that sequence and percentage of each in the protein sequence.\n",
    "4. modify your code in part 3 to calculate the isoelectric point of that protein (searcg for the PI on Google).\n",
    "\n",
    "# CIT656 - Spring 2021\n",
    "## Lab 5 - May 09, 2021\n",
    "1. Dictionaries\n",
    "2. loops with dictionaries\n",
    "3. Functions in Python\n",
    "\n",
    "**Taks**\n",
    "1. Central Dogma part II: translation\n",
    "2. Finding ORFs in DNA sequence\n",
    "3. Primer design tool\n",
    "4. selection tool for restriction enzymes (that cuts at the ned of a gene but not inside the gene)"
   ]
  }
 ],
 "metadata": {
  "kernelspec": {
   "display_name": "Python 3",
   "language": "python",
   "name": "python3"
  },
  "language_info": {
   "codemirror_mode": {
    "name": "ipython",
    "version": 3
   },
   "file_extension": ".py",
   "mimetype": "text/x-python",
   "name": "python",
   "nbconvert_exporter": "python",
   "pygments_lexer": "ipython3",
   "version": "3.9.4"
  }
 },
 "nbformat": 4,
 "nbformat_minor": 5
}
