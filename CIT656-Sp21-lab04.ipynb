{
 "cells": [
  {
   "cell_type": "markdown",
   "id": "746f33a1",
   "metadata": {},
   "source": [
    "# CIT656 - Spring 2021\n",
    "## Lab 4 - May 02, 2021\n",
    "1. Lists and list operations.\n",
    "2. Comparison between strings and lists.\n",
    "3. Introduction to loops\n",
    "4. `for` loop in detail.\n",
    "5. `range()` function.\n",
    "6. `while` loop in detail.\n",
    "7. loop control statements (continue, break, and pass)\n",
    "8. tuples \n",
    "9. sets\n",
    "\n",
    "**Tasks**\n",
    "1. write a Python script that takes a DNA sequence and print (iteratively) the codons in that sequence. How to handle the sequence if its length is not a multiple of 3?\n",
    "2. modify your code in part 1 to print, at the end, the extra bases that are not in codon if the length of the DNA sequence is not a multiple of 3.\n",
    "3. write a python script that takes a protein sequence and prints the unique amino acids in that sequence and percentage of each in the protein sequence.\n",
    "4. modify your code in part 3 to calculate the isoelectric point of that protein (search for the PI of each AA on Google).\n",
    "5. Introduce a point mutation in a DNA sequence string."
   ]
  },
  {
   "cell_type": "markdown",
   "id": "963494fc",
   "metadata": {},
   "source": [
    "#### Lists\n",
    "List in Python is a sequence data trype, meaning that it can have more than one value. They are defined with square brackets `[]` and the elements of the list are separated by commas `,`. The elements of the list can be of any data type; it could even be lists. It's not necessary that all elements are of the same data type. Examine the following examples:"
   ]
  },
  {
   "cell_type": "code",
   "execution_count": 2,
   "id": "a882e32c",
   "metadata": {},
   "outputs": [
    {
     "name": "stdout",
     "output_type": "stream",
     "text": [
      "[3, 4, 5]\n",
      "<class 'list'>\n"
     ]
    }
   ],
   "source": [
    "L = [3, 4, 5]\n",
    "print(L)\n",
    "print(type(L))"
   ]
  },
  {
   "cell_type": "code",
   "execution_count": 3,
   "id": "ec6b677e",
   "metadata": {},
   "outputs": [
    {
     "name": "stdout",
     "output_type": "stream",
     "text": [
      "[1, 3.14, 'No', True]\n",
      "<class 'list'>\n"
     ]
    }
   ],
   "source": [
    "L = [1, 3.14, \"No\", True]\n",
    "print(L)\n",
    "print(type(L))"
   ]
  },
  {
   "cell_type": "markdown",
   "id": "0d22e92b",
   "metadata": {},
   "source": [
    "There are two ways to create empty list:\n",
    "1. by using empty square brackets\n",
    "```python\n",
    "L = []\n",
    "```\n",
    "2. by using the `list()` function.\n",
    "```python\n",
    "L = list()\n",
    "```"
   ]
  },
  {
   "cell_type": "markdown",
   "id": "85e827d6",
   "metadata": {},
   "source": [
    "Indexing and subscription of the elements of a list follows the same rules as strings in Python. Try the follwoing examples:"
   ]
  },
  {
   "cell_type": "code",
   "execution_count": 4,
   "id": "268b22a4",
   "metadata": {},
   "outputs": [
    {
     "data": {
      "text/plain": [
       "1"
      ]
     },
     "execution_count": 4,
     "metadata": {},
     "output_type": "execute_result"
    }
   ],
   "source": [
    "L[0]"
   ]
  },
  {
   "cell_type": "code",
   "execution_count": 5,
   "id": "c7722581",
   "metadata": {},
   "outputs": [
    {
     "data": {
      "text/plain": [
       "'No'"
      ]
     },
     "execution_count": 5,
     "metadata": {},
     "output_type": "execute_result"
    }
   ],
   "source": [
    "L[-2]"
   ]
  },
  {
   "cell_type": "markdown",
   "id": "4910b01d",
   "metadata": {},
   "source": [
    "L[::-1]"
   ]
  },
  {
   "cell_type": "code",
   "execution_count": 9,
   "id": "ddcb41f0",
   "metadata": {},
   "outputs": [
    {
     "data": {
      "text/plain": [
       "[3.14, 'No']"
      ]
     },
     "execution_count": 9,
     "metadata": {},
     "output_type": "execute_result"
    }
   ],
   "source": [
    "L[1:3]"
   ]
  },
  {
   "cell_type": "code",
   "execution_count": 11,
   "id": "c46f25e8",
   "metadata": {},
   "outputs": [
    {
     "data": {
      "text/plain": [
       "str"
      ]
     },
     "execution_count": 11,
     "metadata": {},
     "output_type": "execute_result"
    }
   ],
   "source": [
    "type(L[2])"
   ]
  },
  {
   "cell_type": "markdown",
   "id": "d2feef28",
   "metadata": {},
   "source": [
    "The `len()` function can be used to get the length of a list."
   ]
  },
  {
   "cell_type": "code",
   "execution_count": 13,
   "id": "b20f3fbb",
   "metadata": {},
   "outputs": [
    {
     "data": {
      "text/plain": [
       "4"
      ]
     },
     "execution_count": 13,
     "metadata": {},
     "output_type": "execute_result"
    }
   ],
   "source": [
    "len(L)"
   ]
  },
  {
   "cell_type": "markdown",
   "id": "c9b0c1ac",
   "metadata": {},
   "source": [
    "To change any element in the list, a simple variable assignemt with index can be used as follows:"
   ]
  },
  {
   "cell_type": "code",
   "execution_count": null,
   "id": "4c254f40",
   "metadata": {},
   "outputs": [],
   "source": [
    "L[0] = 15\n",
    "print(L)"
   ]
  },
  {
   "cell_type": "markdown",
   "id": "546b1feb",
   "metadata": {},
   "source": [
    "#### List Operations\n",
    "\n",
    "| method | function |\n",
    "| :---- | :------- |\n",
    "| `.clear()` | Removes all the elements in the list |\n",
    "| `.index(i)` | Returns the index of the first element with the specified value in the list | \n",
    "| `.count(v)` | Returns the number of elements with the specified value in the list |\n",
    "| `.insert(i,v)` | Adds an element at the specified position in the list |\n",
    "| `.pop(i)` | Removes the element at the specified position in the list |\n",
    "| `.remove(v)` | Removes the first item with the specified value in the list |\n",
    "| `.reverse()` | Reverses the order of the list |\n",
    "| `.sort()` | Sorts the list elements |\n",
    "| `.append(v)` | Adds an element at the end of the list |\n",
    "| `.extend(l)` | Add the elements of a list (or any iterable), to the end of the current list | \n",
    "\n",
    "Try the following examples."
   ]
  },
  {
   "cell_type": "markdown",
   "id": "aeb08037",
   "metadata": {},
   "source": [
    "Note that **Lists are the only data type in Python that changes when used in any operation**. To better understamd this point, run the following commands and compare them to lists. Also, I highly recomment using [Python Tutor](http://pythontutor.com/visualize.html) for code visualization. Try creating a list and changing an element in that list and see how the computer do that without re-assigning to the same variable. Try also to do the same but with integers, floats, and strings. You can use the below code as a guide\n",
    "```python\n",
    "L = [1,2,3,4]\n",
    "print(L)\n",
    "L.append(5)\n",
    "print(L)\n",
    "# note that it's not L = L.append(5)\n",
    "\n",
    "L2 = L\n",
    "print(L)\n",
    "print(L2)\n",
    "L[0] = 10\n",
    "print(L)\n",
    "print(L2)\n",
    "# Notice how both changed\n",
    "\n",
    "a = 3\n",
    "print(a)\n",
    "b = a\n",
    "b = b + 3\n",
    "print(a)\n",
    "# Notics that only b changed but not a\n",
    "```"
   ]
  },
  {
   "cell_type": "code",
   "execution_count": 2,
   "id": "2806bd92",
   "metadata": {},
   "outputs": [
    {
     "name": "stdout",
     "output_type": "stream",
     "text": [
      "[1, 2, 3, 4]\n",
      "4\n"
     ]
    }
   ],
   "source": [
    "nums = [1, 2, 3, 4]\n",
    "print(nums)\n",
    "print(len(nums))"
   ]
  },
  {
   "cell_type": "code",
   "execution_count": 3,
   "id": "3a357bf0",
   "metadata": {},
   "outputs": [
    {
     "name": "stdout",
     "output_type": "stream",
     "text": [
      "[1, 2, 3, 4, 5]\n",
      "5\n"
     ]
    }
   ],
   "source": [
    "nums.append(5)\n",
    "print(nums)\n",
    "print(len(nums))"
   ]
  },
  {
   "cell_type": "code",
   "execution_count": 4,
   "id": "2270815e",
   "metadata": {},
   "outputs": [
    {
     "name": "stdout",
     "output_type": "stream",
     "text": [
      "[1, 2, 3, 4, 5, [6, 7, 8]]\n",
      "6\n"
     ]
    }
   ],
   "source": [
    "nums.append([6,7,8])\n",
    "print(nums)\n",
    "print(len(nums))"
   ]
  },
  {
   "cell_type": "code",
   "execution_count": 5,
   "id": "d0670000",
   "metadata": {},
   "outputs": [
    {
     "name": "stdout",
     "output_type": "stream",
     "text": [
      "[6, 7, 8]\n",
      "<class 'list'>\n"
     ]
    }
   ],
   "source": [
    "print(nums[5])\n",
    "print(type(nums[5]))"
   ]
  },
  {
   "cell_type": "code",
   "execution_count": 6,
   "id": "685cf989",
   "metadata": {},
   "outputs": [
    {
     "name": "stdout",
     "output_type": "stream",
     "text": [
      "6\n"
     ]
    }
   ],
   "source": [
    "print(nums[5][0])"
   ]
  },
  {
   "cell_type": "code",
   "execution_count": 7,
   "id": "e823ddde",
   "metadata": {},
   "outputs": [
    {
     "data": {
      "text/plain": [
       "[6, 7, 8]"
      ]
     },
     "execution_count": 7,
     "metadata": {},
     "output_type": "execute_result"
    }
   ],
   "source": [
    "nums.pop()"
   ]
  },
  {
   "cell_type": "code",
   "execution_count": 8,
   "id": "bea91e7e",
   "metadata": {},
   "outputs": [
    {
     "name": "stdout",
     "output_type": "stream",
     "text": [
      "[1, 2, 3, 4, 5]\n"
     ]
    }
   ],
   "source": [
    "print(nums)"
   ]
  },
  {
   "cell_type": "code",
   "execution_count": 13,
   "id": "3a85a471",
   "metadata": {},
   "outputs": [
    {
     "data": {
      "text/plain": [
       "2"
      ]
     },
     "execution_count": 13,
     "metadata": {},
     "output_type": "execute_result"
    }
   ],
   "source": [
    "nums.pop(1)"
   ]
  },
  {
   "cell_type": "code",
   "execution_count": 14,
   "id": "7bcd7812",
   "metadata": {},
   "outputs": [
    {
     "name": "stdout",
     "output_type": "stream",
     "text": [
      "[1, 3, 4, 5, 6, 7, 8]\n"
     ]
    }
   ],
   "source": [
    "print(nums)"
   ]
  },
  {
   "cell_type": "code",
   "execution_count": 17,
   "id": "3fb4d849",
   "metadata": {},
   "outputs": [],
   "source": [
    "nums.remove(1)"
   ]
  },
  {
   "cell_type": "code",
   "execution_count": 18,
   "id": "ebd45435",
   "metadata": {},
   "outputs": [
    {
     "name": "stdout",
     "output_type": "stream",
     "text": [
      "[2, 3, 4, 5, 6, 7, 8]\n"
     ]
    }
   ],
   "source": [
    "print(nums)"
   ]
  },
  {
   "cell_type": "markdown",
   "id": "20321921",
   "metadata": {},
   "source": [
    "Note that no output was returned from the `remove()` method.\n",
    "(Always remeber, no output doesn't mean that there's an error, this method just doesn't return anything. Same as the `print()` function)"
   ]
  },
  {
   "cell_type": "code",
   "execution_count": 22,
   "id": "97c816e2",
   "metadata": {},
   "outputs": [
    {
     "name": "stdout",
     "output_type": "stream",
     "text": [
      "Hi\n",
      "None\n",
      "<class 'NoneType'>\n"
     ]
    }
   ],
   "source": [
    "a = print(\"Hi\")\n",
    "print(a)\n",
    "print(type(a))"
   ]
  },
  {
   "cell_type": "code",
   "execution_count": 9,
   "id": "6793b642",
   "metadata": {},
   "outputs": [
    {
     "name": "stdout",
     "output_type": "stream",
     "text": [
      "[1, 2, 3, 4, 5, 6, 7, 8]\n",
      "8\n"
     ]
    }
   ],
   "source": [
    "nums.extend([6,7,8])\n",
    "print(nums)\n",
    "print(len(nums))"
   ]
  },
  {
   "cell_type": "code",
   "execution_count": 10,
   "id": "0137df7e",
   "metadata": {},
   "outputs": [
    {
     "data": {
      "text/plain": [
       "4"
      ]
     },
     "execution_count": 10,
     "metadata": {},
     "output_type": "execute_result"
    }
   ],
   "source": [
    "nums.index(5)"
   ]
  },
  {
   "cell_type": "code",
   "execution_count": 11,
   "id": "647558df",
   "metadata": {},
   "outputs": [
    {
     "ename": "ValueError",
     "evalue": "[5] is not in list",
     "output_type": "error",
     "traceback": [
      "\u001b[0;31m---------------------------------------------------------------------------\u001b[0m",
      "\u001b[0;31mValueError\u001b[0m                                Traceback (most recent call last)",
      "\u001b[0;32m<ipython-input-11-243743acd739>\u001b[0m in \u001b[0;36m<module>\u001b[0;34m\u001b[0m\n\u001b[0;32m----> 1\u001b[0;31m \u001b[0mnums\u001b[0m\u001b[0;34m.\u001b[0m\u001b[0mindex\u001b[0m\u001b[0;34m(\u001b[0m\u001b[0;34m[\u001b[0m\u001b[0;36m5\u001b[0m\u001b[0;34m]\u001b[0m\u001b[0;34m)\u001b[0m\u001b[0;34m\u001b[0m\u001b[0;34m\u001b[0m\u001b[0m\n\u001b[0m",
      "\u001b[0;31mValueError\u001b[0m: [5] is not in list"
     ]
    }
   ],
   "source": [
    "nums.index([5])"
   ]
  },
  {
   "cell_type": "code",
   "execution_count": 12,
   "id": "619aa65e",
   "metadata": {},
   "outputs": [
    {
     "data": {
      "text/plain": [
       "1"
      ]
     },
     "execution_count": 12,
     "metadata": {},
     "output_type": "execute_result"
    }
   ],
   "source": [
    "nums.count(1)"
   ]
  },
  {
   "cell_type": "code",
   "execution_count": 15,
   "id": "0f772bae",
   "metadata": {},
   "outputs": [],
   "source": [
    "nums.insert(1,2)"
   ]
  },
  {
   "cell_type": "code",
   "execution_count": 16,
   "id": "38952982",
   "metadata": {},
   "outputs": [
    {
     "name": "stdout",
     "output_type": "stream",
     "text": [
      "[1, 2, 3, 4, 5, 6, 7, 8]\n"
     ]
    }
   ],
   "source": [
    "print(nums)"
   ]
  },
  {
   "cell_type": "code",
   "execution_count": 19,
   "id": "4f4b0e4c",
   "metadata": {},
   "outputs": [],
   "source": [
    "nums.reverse()"
   ]
  },
  {
   "cell_type": "code",
   "execution_count": 20,
   "id": "267300d5",
   "metadata": {},
   "outputs": [
    {
     "name": "stdout",
     "output_type": "stream",
     "text": [
      "[8, 7, 6, 5, 4, 3, 2]\n"
     ]
    }
   ],
   "source": [
    "print(nums)"
   ]
  },
  {
   "cell_type": "code",
   "execution_count": 21,
   "id": "d9410c50",
   "metadata": {},
   "outputs": [],
   "source": [
    "nums.sort()"
   ]
  },
  {
   "cell_type": "code",
   "execution_count": null,
   "id": "816b178a",
   "metadata": {},
   "outputs": [],
   "source": [
    "print(nums)"
   ]
  },
  {
   "cell_type": "code",
   "execution_count": 23,
   "id": "900054f4",
   "metadata": {},
   "outputs": [],
   "source": [
    "nums.clear()"
   ]
  },
  {
   "cell_type": "code",
   "execution_count": 25,
   "id": "981aba6a",
   "metadata": {},
   "outputs": [
    {
     "name": "stdout",
     "output_type": "stream",
     "text": [
      "[]\n",
      "0\n"
     ]
    }
   ],
   "source": [
    "print(nums)\n",
    "print(len(nums))"
   ]
  },
  {
   "cell_type": "code",
   "execution_count": null,
   "id": "3e126a19",
   "metadata": {},
   "outputs": [],
   "source": []
  },
  {
   "cell_type": "code",
   "execution_count": null,
   "id": "8fd91c35",
   "metadata": {},
   "outputs": [],
   "source": []
  },
  {
   "cell_type": "code",
   "execution_count": null,
   "id": "c4c977a3",
   "metadata": {},
   "outputs": [],
   "source": []
  },
  {
   "cell_type": "code",
   "execution_count": null,
   "id": "9c97873f",
   "metadata": {},
   "outputs": [],
   "source": []
  },
  {
   "cell_type": "code",
   "execution_count": null,
   "id": "9b9497f0",
   "metadata": {},
   "outputs": [],
   "source": []
  }
 ],
 "metadata": {
  "kernelspec": {
   "display_name": "Python 3",
   "language": "python",
   "name": "python3"
  },
  "language_info": {
   "codemirror_mode": {
    "name": "ipython",
    "version": 3
   },
   "file_extension": ".py",
   "mimetype": "text/x-python",
   "name": "python",
   "nbconvert_exporter": "python",
   "pygments_lexer": "ipython3",
   "version": "3.9.4"
  }
 },
 "nbformat": 4,
 "nbformat_minor": 5
}
