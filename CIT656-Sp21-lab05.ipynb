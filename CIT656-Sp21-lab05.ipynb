{
 "cells": [
  {
   "cell_type": "markdown",
   "id": "2571415d",
   "metadata": {},
   "source": [
    "# CIT656 - Spring 2021\n",
    "## Lab 5 - May 09, 2021\n",
    "\n",
    "**Content**\n",
    "\n",
    "1. Introduction to loops\n",
    "2. `for` loop in detail.\n",
    "3. `range()` function.\n",
    "4. `while` loop in detail.\n",
    "5. loop control statements (continue, break, else, and pass)\n",
    "6. tuples \n",
    "7. sets\n",
    "\n",
    "**Tasks**\n",
    "\n",
    "1. write a Python script that takes a DNA sequence and print (iteratively) the codons in that sequence. How to handle the sequence if its length is not a multiple of 3?\n",
    "2. modify your code in part 1 to print, at the end, the extra bases that are not in codon if the length of the DNA sequence is not a multiple of 3.\n",
    "3. write a python script that takes a protein sequence and prints the unique amino acids in that sequence and percentage of each in the protein sequence.\n",
    "4. modify your code in part 3 to calculate the isoelectric point of that protein (search for the PI of each AA on Google)."
   ]
  },
  {
   "cell_type": "markdown",
   "id": "6f19cbb0",
   "metadata": {},
   "source": [
    "#### Flow Control - part II (Loops)\n",
    "Another way to control the flow of code excustion is by using loops where a block of code is excuted multiple times. There two main types of loops in Python: \n",
    "1. `for` loop; where the block of code is excuted n times (a given number of iterations)\n",
    "2. `while` loop; where the block of code is excuted as long as some condition is true, when that condition evaluates to `False`, Python interpreter exits the loop.\n",
    "\n",
    "#### For loop\n",
    "They are usually used to iterate over sequence data types using a dummy variable. The general form is:\n",
    "```python\n",
    "for val in sequence:\n",
    "    code block\n",
    "```\n",
    "Let's use the code visualizer for better understanding. "
   ]
  },
  {
   "cell_type": "code",
   "execution_count": null,
   "id": "979fffcd",
   "metadata": {},
   "outputs": [],
   "source": [
    "fruits = [\"apple\", \"banana\", \"cherry\"]\n",
    "for fruit in fruits:\n",
    "    print(fruit)"
   ]
  },
  {
   "cell_type": "markdown",
   "id": "ce21a690",
   "metadata": {},
   "source": [
    "Here, `fruit` is a dummy variable. This means that it's a variable whose value changes every iteration. In the first iteration, the variable `fruit` is assigned the value of the first element of the list `fruits` (`fruit = apple`). Inside the loop, the the value of the variable `fruit` is prented. Because this is the end of the loop block, the iteration ends and the next iteration begins by reassigning the variable `fruit` to the second value inside the list. This happens untill all values in the list are used for iterations and there are no more items. the Python interpreter exits the loop at this point. Let's try other types of sequence data types."
   ]
  },
  {
   "cell_type": "code",
   "execution_count": null,
   "id": "eec5796b",
   "metadata": {},
   "outputs": [],
   "source": [
    "DNA = \"ACAGTCGACTAGCTTGCACGTAC\"\n",
    "for base in DNA:\n",
    "    print(base*2)"
   ]
  },
  {
   "cell_type": "code",
   "execution_count": null,
   "id": "8e1e089e",
   "metadata": {},
   "outputs": [],
   "source": [
    "for i in range(5):\n",
    "    print(i)"
   ]
  },
  {
   "cell_type": "markdown",
   "id": "0d367645",
   "metadata": {},
   "source": [
    "`range()` is a python function that returns an iteratable object that can used to iterate over with numbers. \n",
    "The range function can take 1, 2, or 3 arguments. `range(start, stop, step)`. They are similar to the subsription with strings and lists. Note that the separator is a comma `,` not a colon `:`.\n",
    "\n",
    "To visualize this in another way, run the follwoing example. "
   ]
  },
  {
   "cell_type": "code",
   "execution_count": null,
   "id": "dc9e49a7",
   "metadata": {},
   "outputs": [],
   "source": [
    "print(list(range(5)))"
   ]
  },
  {
   "cell_type": "markdown",
   "id": "8d0cfd45",
   "metadata": {},
   "source": [
    "#### While loop\n",
    "While loops repeats the block of code until the condition given doesn'e evaluate to `True` any more. In other words, the code block is excuted \"while `True`\"\n",
    "```python\n",
    "while condition:\n",
    "    code block\n",
    "```\n",
    "![](https://cdn.programiz.com/sites/tutorial2program/files/whileLoopFlowchart.jpg)"
   ]
  },
  {
   "cell_type": "code",
   "execution_count": null,
   "id": "06832b9a",
   "metadata": {},
   "outputs": [],
   "source": [
    " i = 0\n",
    "while i < 5:\n",
    "    print(i)\n",
    "    i += 1"
   ]
  },
  {
   "cell_type": "markdown",
   "id": "0448d9e0",
   "metadata": {},
   "source": [
    "**Task**: what is the sum of the numbers from 1 to 9?"
   ]
  },
  {
   "cell_type": "code",
   "execution_count": null,
   "id": "9302c17f",
   "metadata": {},
   "outputs": [],
   "source": []
  },
  {
   "cell_type": "markdown",
   "id": "3a28b7bb",
   "metadata": {},
   "source": [
    "#### Expressions with loops\n",
    "There are 4 expressions that are commonly used with loops to control their operation:\n",
    "1. `else` statement is used to do something when the loop is finished. \n",
    "2. `break` statement is used to break out of the loop when reached.\n",
    "3. `continue` statement is used to skip the rest of the current iteration and go directrly to the next iteration. \n",
    "4. `pass` statement. It has no function. The interpreter passes it. It's usually used by developers as a place older to prevent python from raising errors before writing any code. "
   ]
  },
  {
   "cell_type": "code",
   "execution_count": null,
   "id": "6c45f41c",
   "metadata": {},
   "outputs": [],
   "source": [
    "nums = [0, 1, 5]\n",
    "\n",
    "for i in nums:\n",
    "    print(i)\n",
    "else:\n",
    "    print(\"All list items are used.\\nWe're out othe loop now!\")"
   ]
  },
  {
   "cell_type": "code",
   "execution_count": null,
   "id": "95f649a4",
   "metadata": {},
   "outputs": [],
   "source": [
    "i = 1\n",
    "while i <= 5:\n",
    "    print(i)\n",
    "    if i == 3:\n",
    "        break;\n",
    "    i += 1"
   ]
  },
  {
   "cell_type": "code",
   "execution_count": null,
   "id": "e134f8fd",
   "metadata": {},
   "outputs": [],
   "source": [
    "i = 1\n",
    "while i <= 5:\n",
    "    print(i)\n",
    "    if i == 3:\n",
    "        continue;\n",
    "    i += 1"
   ]
  },
  {
   "cell_type": "code",
   "execution_count": null,
   "id": "1811e733",
   "metadata": {},
   "outputs": [],
   "source": [
    "for i in range(7):\n",
    "    pass"
   ]
  },
  {
   "cell_type": "markdown",
   "id": "f61bdf75",
   "metadata": {},
   "source": [
    "### Tuples\n",
    "Tuples in Python are immutable data type. It look like lists with items ordered and indixed but once created they can't be modified. Tuples can have mixed datatypes. An empty tuple can be created with `tuple()` function or using the empty parantheses `()`, or without using anything."
   ]
  },
  {
   "cell_type": "code",
   "execution_count": null,
   "id": "2c8d16e7",
   "metadata": {},
   "outputs": [],
   "source": [
    "empty_tuple = ()\n",
    "print(empty_tuple)\n",
    "\n",
    "empty_tuple_2 = tuple()\n",
    "print(empty_tuple_2)\n",
    "\n",
    "\n",
    "tuple_num = (1, 2, 3)\n",
    "print(tuple_num)\n",
    "\n",
    "tuple_mixed = (1, \"Hello\", 3.4)\n",
    "print(tuple_mixed)\n",
    "\n",
    "tuple_mixed_2 = (\"mouse\", [8, 4, 6], (1, 2, 3))\n",
    "print(tuple_mixed_2)\n",
    "\n",
    "another_tuple = 3.15, 5.6\n",
    "print(another_tuple)"
   ]
  },
  {
   "cell_type": "code",
   "execution_count": null,
   "id": "d69fbcf8",
   "metadata": {},
   "outputs": [],
   "source": [
    "print(len(empty_tuple))\n",
    "print(len(empty_tuple_2))\n",
    "print(len(tuple_num))\n",
    "print(len(tuple_mixed))\n",
    "print(len(tuple_mixed_2))\n",
    "print(len(another_tuple))"
   ]
  },
  {
   "cell_type": "markdown",
   "id": "680c4624",
   "metadata": {},
   "source": [
    "Indexing and slicing of tuples is similar to strings and lists (positive ane negative indixing)."
   ]
  },
  {
   "cell_type": "code",
   "execution_count": null,
   "id": "5557960e",
   "metadata": {},
   "outputs": [],
   "source": [
    "print(tuple_mixed[1])"
   ]
  },
  {
   "cell_type": "code",
   "execution_count": null,
   "id": "a78a805a",
   "metadata": {},
   "outputs": [],
   "source": [
    "tuple_mixed[2] = 5.16"
   ]
  },
  {
   "cell_type": "markdown",
   "id": "06823b75",
   "metadata": {},
   "source": [
    "Tuples are immutable. However, if there's a list inside the tuples, items inside the nested list can be modified."
   ]
  },
  {
   "cell_type": "code",
   "execution_count": null,
   "id": "7f8fba19",
   "metadata": {},
   "outputs": [],
   "source": [
    "tuple_list = (1, 2, 3, [6, 5])\n",
    "print(tuple_list)\n",
    "tuple_listp[3][0] = 4   ## notice the mixed indexing\n",
    "print(tuple_list)"
   ]
  },
  {
   "cell_type": "code",
   "execution_count": null,
   "id": "b97619eb",
   "metadata": {},
   "outputs": [],
   "source": [
    "## assigning the values of a tuple to variables \n",
    "a, b = another_tuple\n",
    "print(a)\n",
    "print(b)"
   ]
  },
  {
   "cell_type": "code",
   "execution_count": null,
   "id": "c6bd905f",
   "metadata": {},
   "outputs": [],
   "source": [
    "## create a tuple with 1 item\n",
    "print(type(another_tuple))\n",
    "new_tuple = (0)\n",
    "print(type(new_tuple))"
   ]
  },
  {
   "cell_type": "code",
   "execution_count": null,
   "id": "3344597c",
   "metadata": {},
   "outputs": [],
   "source": [
    "new_tuple = (0,)\n",
    "print(type(new_tuple))"
   ]
  },
  {
   "cell_type": "markdown",
   "id": "72ce8f0d",
   "metadata": {},
   "source": [
    "Tuples methods:\n",
    "\n",
    "| Method | Description |\n",
    "| :----- | :---------- |\n",
    "| `.count()` | count the number of occurences of a value inside the tuple. |\n",
    "| `.index()` | Returns the index of the first occurence of a given value in the tuple.|"
   ]
  },
  {
   "cell_type": "markdown",
   "id": "1499677c",
   "metadata": {},
   "source": [
    "#### Sets\n",
    "Sets are unordered (no-indexing) datatype that doesn't allow repetition of elemets (cannot have two elements of the same value). Sets are mutable (can be modified after creation).\n",
    "\n",
    "Sets can be defined either by curely brackets `{}` or by the `set()` function. Note that curely brackets cannot be used to create empty set."
   ]
  },
  {
   "cell_type": "code",
   "execution_count": null,
   "id": "16f13529",
   "metadata": {},
   "outputs": [],
   "source": [
    "# set of integers\n",
    "my_set = {1, 2, 3}\n",
    "print(my_set)\n",
    "print(type(my_set))\n",
    "\n",
    "# no repetition \n",
    "my_set = {1, 2, 3, 4, 3, 2}\n",
    "print(my_set)"
   ]
  },
  {
   "cell_type": "code",
   "execution_count": null,
   "id": "7a856a45",
   "metadata": {},
   "outputs": [],
   "source": [
    "# set of mixed datatypes\n",
    "my_set = {1.0, \"Hello\", (1, 2, 3)}\n",
    "print(my_set)"
   ]
  },
  {
   "cell_type": "code",
   "execution_count": null,
   "id": "5c401dbc",
   "metadata": {},
   "outputs": [],
   "source": [
    "# set cannot have mutable items (no lists inside a set)\n",
    "my_set = {1, 2, [3, 4]}"
   ]
  },
  {
   "cell_type": "code",
   "execution_count": null,
   "id": "6831a416",
   "metadata": {},
   "outputs": [],
   "source": [
    "my_set = {}\n",
    "type(my_set)"
   ]
  },
  {
   "cell_type": "code",
   "execution_count": null,
   "id": "0a6f8d56",
   "metadata": {},
   "outputs": [],
   "source": [
    "my_set = set()\n",
    "type(my_set)"
   ]
  },
  {
   "cell_type": "markdown",
   "id": "c171330a",
   "metadata": {},
   "source": [
    "Set metods: \n",
    "\n",
    "| Method | Description |\n",
    "| :----- | :---------- |\n",
    "| `.add()` | to add an elemet to the set |\n",
    "| `.update()` | to add multiple elements to the set at once |\n",
    "| `.remove()` |  to remove an element from the set |\n",
    "| `.discard()` | to remove an element from the set without raising an error if the element was not found. |\n",
    "| `.pop()` | returns and removes a random element from the set |\n",
    "| `.clear()` | remove all elements from the set | \n",
    "\n",
    "More about sets can be found here >> https://www.programiz.com/python-programming/set"
   ]
  },
  {
   "cell_type": "markdown",
   "id": "97575c15",
   "metadata": {},
   "source": [
    "### Task Time!\n",
    "1. write a Python script that takes a DNA sequence and print (iteratively) the codons in that sequence. How to handle the sequence if its length is not a multiple of 3?\n",
    "2. modify your code in part 1 to print, at the end, the extra bases that are not in codon if the length of the DNA sequence is not a multiple of 3.\n",
    "3. write a python script that takes a protein sequence and prints the unique amino acids in that sequence and percentage of each in the protein sequence.\n",
    "4. modify your code in part 3 to calculate the isoelectric point of that protein (search for the PI of each AA on Google)."
   ]
  },
  {
   "cell_type": "code",
   "execution_count": null,
   "id": "e0f35d11",
   "metadata": {},
   "outputs": [],
   "source": []
  },
  {
   "cell_type": "code",
   "execution_count": null,
   "id": "27c225ed",
   "metadata": {},
   "outputs": [],
   "source": []
  }
 ],
 "metadata": {
  "kernelspec": {
   "display_name": "Python 3",
   "language": "python",
   "name": "python3"
  },
  "language_info": {
   "codemirror_mode": {
    "name": "ipython",
    "version": 3
   },
   "file_extension": ".py",
   "mimetype": "text/x-python",
   "name": "python",
   "nbconvert_exporter": "python",
   "pygments_lexer": "ipython3",
   "version": "3.9.4"
  }
 },
 "nbformat": 4,
 "nbformat_minor": 5
}
