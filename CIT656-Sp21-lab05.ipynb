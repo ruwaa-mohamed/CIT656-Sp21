{
 "cells": [
  {
   "cell_type": "markdown",
   "id": "2571415d",
   "metadata": {},
   "source": [
    "# CIT656 - Spring 2021\n",
    "## Lab 5 - May 09, 2021\n",
    "\n",
    "**Content**\n",
    "\n",
    "1. Introduction to loops\n",
    "2. `for` loop in detail.\n",
    "3. `range()` function.\n",
    "4. `while` loop in detail.\n",
    "5. loop control statements (continue, break, else, and pass)\n",
    "6. tuples \n",
    "7. sets\n",
    "\n",
    "**Tasks**\n",
    "\n",
    "1. write a Python script that takes a DNA sequence and print (iteratively) the codons in that sequence. How to handle the sequence if its length is not a multiple of 3?\n",
    "2. modify your code in part 1 to print, at the end, the extra bases that are not in codon if the length of the DNA sequence is not a multiple of 3.\n",
    "3. write a python script that takes a protein sequence and prints the unique amino acids in that sequence and percentage of each in the protein sequence.\n",
    "4. modify your code in part 3 to calculate the isoelectric point of that protein (search for the PI of each AA on Google)."
   ]
  },
  {
   "cell_type": "markdown",
   "id": "6f19cbb0",
   "metadata": {},
   "source": [
    "#### Flow Control - part II (Loops)\n",
    "Another way to control the flow of code excustion is by using loops where a block of code is excuted multiple times. There two main types of loops in Python: \n",
    "1. `for` loop; where the block of code is excuted n times (a given number of iterations)\n",
    "2. `while` loop; where the block of code is excuted as long as some condition is true, when that condition evaluates to `False`, Python interpreter exits the loop.\n",
    "\n",
    "#### For loop\n",
    "They are usually used to iterate over sequence data types using a dummy variable. The general form is:\n",
    "```python\n",
    "for val in sequence:\n",
    "    code block\n",
    "```\n",
    "Let's use the code visualizer for better understanding. "
   ]
  },
  {
   "cell_type": "code",
   "execution_count": 1,
   "id": "979fffcd",
   "metadata": {},
   "outputs": [
    {
     "name": "stdout",
     "output_type": "stream",
     "text": [
      "apple\n",
      "banana\n",
      "cherry\n"
     ]
    }
   ],
   "source": [
    "fruits = [\"apple\", \"banana\", \"cherry\"]\n",
    "for hamada in fruits:\n",
    "    print(hamada)"
   ]
  },
  {
   "cell_type": "markdown",
   "id": "ce21a690",
   "metadata": {},
   "source": [
    "Here, `fruit` is a dummy variable. This means that it's a variable whose value changes every iteration. In the first iteration, the variable `fruit` is assigned the value of the first element of the list `fruits` (`fruit = apple`). Inside the loop, the the value of the variable `fruit` is prented. Because this is the end of the loop block, the iteration ends and the next iteration begins by reassigning the variable `fruit` to the second value inside the list. This happens untill all values in the list are used for iterations and there are no more items. the Python interpreter exits the loop at this point. Let's try other types of sequence data types."
   ]
  },
  {
   "cell_type": "code",
   "execution_count": 2,
   "id": "eec5796b",
   "metadata": {},
   "outputs": [
    {
     "name": "stdout",
     "output_type": "stream",
     "text": [
      "AA\n",
      "CC\n",
      "AA\n",
      "GG\n",
      "TT\n",
      "CC\n",
      "GG\n",
      "AA\n",
      "CC\n",
      "TT\n",
      "AA\n",
      "GG\n",
      "CC\n",
      "TT\n",
      "TT\n",
      "GG\n",
      "CC\n",
      "AA\n",
      "CC\n",
      "GG\n",
      "TT\n",
      "AA\n",
      "CC\n"
     ]
    }
   ],
   "source": [
    "DNA = \"ACAGTCGACTAGCTTGCACGTAC\"\n",
    "for base in DNA:\n",
    "    print(base*2)"
   ]
  },
  {
   "cell_type": "code",
   "execution_count": 3,
   "id": "8e1e089e",
   "metadata": {},
   "outputs": [
    {
     "name": "stdout",
     "output_type": "stream",
     "text": [
      "0\n",
      "1\n",
      "2\n",
      "3\n",
      "4\n"
     ]
    }
   ],
   "source": [
    "for i in range(5):\n",
    "    print(i)"
   ]
  },
  {
   "cell_type": "code",
   "execution_count": 6,
   "id": "e74867bf",
   "metadata": {},
   "outputs": [
    {
     "name": "stdout",
     "output_type": "stream",
     "text": [
      "range(0, 5)\n",
      "<class 'range'>\n"
     ]
    }
   ],
   "source": [
    "print(range(5))\n",
    "print(type(range(5)))"
   ]
  },
  {
   "cell_type": "markdown",
   "id": "0d367645",
   "metadata": {},
   "source": [
    "`range()` is a python function that returns an iteratable object that can used to iterate over with numbers. \n",
    "The range function can take 1, 2, or 3 arguments. `range(start, stop, step)`. They are similar to the subsription with strings and lists. Note that the separator is a comma `,` not a colon `:`.\n",
    "\n",
    "To visualize this in another way, run the follwoing example. "
   ]
  },
  {
   "cell_type": "code",
   "execution_count": 7,
   "id": "dc9e49a7",
   "metadata": {},
   "outputs": [
    {
     "name": "stdout",
     "output_type": "stream",
     "text": [
      "[0, 1, 2, 3, 4]\n"
     ]
    }
   ],
   "source": [
    "print(list(range(5)))"
   ]
  },
  {
   "cell_type": "code",
   "execution_count": 8,
   "id": "d9a4a6b8",
   "metadata": {},
   "outputs": [
    {
     "data": {
      "text/plain": [
       "[2, 3, 4, 5, 6, 7]"
      ]
     },
     "execution_count": 8,
     "metadata": {},
     "output_type": "execute_result"
    }
   ],
   "source": [
    "list(range(2,8))"
   ]
  },
  {
   "cell_type": "code",
   "execution_count": 9,
   "id": "f8b4bf8e",
   "metadata": {},
   "outputs": [
    {
     "data": {
      "text/plain": [
       "[1, 4, 7]"
      ]
     },
     "execution_count": 9,
     "metadata": {},
     "output_type": "execute_result"
    }
   ],
   "source": [
    "list(range(1,9,3))"
   ]
  },
  {
   "cell_type": "code",
   "execution_count": 10,
   "id": "f64ac6b3",
   "metadata": {},
   "outputs": [
    {
     "data": {
      "text/plain": [
       "'CGCA'"
      ]
     },
     "execution_count": 10,
     "metadata": {},
     "output_type": "execute_result"
    }
   ],
   "source": [
    "DNA[1:9:2]"
   ]
  },
  {
   "cell_type": "markdown",
   "id": "8d0cfd45",
   "metadata": {},
   "source": [
    "#### While loop\n",
    "While loops repeats the block of code until the condition given doesn't evaluate to `True` any more. In other words, the code block is excuted \"while `True`\"\n",
    "```python\n",
    "while condition:\n",
    "    code block\n",
    "```\n",
    "![](https://cdn.programiz.com/sites/tutorial2program/files/whileLoopFlowchart.jpg)"
   ]
  },
  {
   "cell_type": "code",
   "execution_count": 11,
   "id": "06832b9a",
   "metadata": {},
   "outputs": [
    {
     "name": "stdout",
     "output_type": "stream",
     "text": [
      "0\n",
      "1\n",
      "2\n",
      "3\n",
      "4\n"
     ]
    }
   ],
   "source": [
    "i = 0\n",
    "while i < 5:\n",
    "    print(i)\n",
    "    i += 1"
   ]
  },
  {
   "cell_type": "markdown",
   "id": "0448d9e0",
   "metadata": {},
   "source": [
    "**Task**: what is the sum of the numbers from 1 to 9?"
   ]
  },
  {
   "cell_type": "code",
   "execution_count": 15,
   "id": "9302c17f",
   "metadata": {},
   "outputs": [
    {
     "name": "stdout",
     "output_type": "stream",
     "text": [
      "10\n",
      "45\n"
     ]
    }
   ],
   "source": [
    "x = 1 \n",
    "y = 0\n",
    "while x <= 9:\n",
    "    y = y + x\n",
    "    x = x + 1\n",
    "print(x)\n",
    "print(y)"
   ]
  },
  {
   "cell_type": "code",
   "execution_count": 17,
   "id": "7955b9cf",
   "metadata": {},
   "outputs": [
    {
     "name": "stdout",
     "output_type": "stream",
     "text": [
      "45\n"
     ]
    }
   ],
   "source": [
    "y = 0\n",
    "for x in range(1,10):\n",
    "    y += x\n",
    "print(y) "
   ]
  },
  {
   "cell_type": "markdown",
   "id": "3a28b7bb",
   "metadata": {},
   "source": [
    "#### Expressions with loops\n",
    "There are 4 expressions that are commonly used with loops to control their operation:\n",
    "1. `else` statement is used to do something when the loop is finished. \n",
    "2. `break` statement is used to break out of the loop when reached.\n",
    "3. `continue` statement is used to skip the rest of the current iteration and go directrly to the next iteration. \n",
    "4. `pass` statement. It has no function. The interpreter passes it. It's usually used by developers as a place older to prevent python from raising errors before writing any code. "
   ]
  },
  {
   "cell_type": "code",
   "execution_count": 18,
   "id": "6c45f41c",
   "metadata": {},
   "outputs": [
    {
     "name": "stdout",
     "output_type": "stream",
     "text": [
      "0\n",
      "1\n",
      "5\n",
      "All list items are used.\n",
      "We're out othe loop now!\n"
     ]
    }
   ],
   "source": [
    "nums = [0, 1, 5]\n",
    "\n",
    "for i in nums:\n",
    "    print(i)\n",
    "else:\n",
    "    print(\"All list items are used.\\nWe're out othe loop now!\")"
   ]
  },
  {
   "cell_type": "code",
   "execution_count": 19,
   "id": "1d0c14dc",
   "metadata": {},
   "outputs": [
    {
     "name": "stdout",
     "output_type": "stream",
     "text": [
      "0\n",
      "1\n",
      "5\n",
      "All list items are used.\n",
      "We're out othe loop now!\n"
     ]
    }
   ],
   "source": [
    "nums = [0, 1, 5]\n",
    "\n",
    "for i in nums:\n",
    "    print(i)\n",
    "\n",
    "print(\"All list items are used.\\nWe're out othe loop now!\")"
   ]
  },
  {
   "cell_type": "code",
   "execution_count": 20,
   "id": "95f649a4",
   "metadata": {},
   "outputs": [
    {
     "name": "stdout",
     "output_type": "stream",
     "text": [
      "1\n",
      "2\n",
      "3\n"
     ]
    }
   ],
   "source": [
    "i = 1\n",
    "while i <= 5:\n",
    "    print(i)\n",
    "    if i == 3:\n",
    "        break;\n",
    "    i += 1"
   ]
  },
  {
   "cell_type": "code",
   "execution_count": null,
   "id": "7e74a3a5",
   "metadata": {},
   "outputs": [],
   "source": [
    "i = 1\n",
    "while i <= 5:\n",
    "    print(i)\n",
    "    if i == 3:\n",
    "        continue;\n",
    "    i += 1"
   ]
  },
  {
   "cell_type": "code",
   "execution_count": 22,
   "id": "1811e733",
   "metadata": {},
   "outputs": [],
   "source": [
    "for i in range(7):\n",
    "    pass"
   ]
  },
  {
   "cell_type": "markdown",
   "id": "f61bdf75",
   "metadata": {},
   "source": [
    "### Tuples\n",
    "Tuples in Python are immutable data type. It look like lists with items ordered and indixed but once created they can't be modified. Tuples can have mixed datatypes. An empty tuple can be created with `tuple()` function or using the empty parantheses `()`, or without using anything."
   ]
  },
  {
   "cell_type": "code",
   "execution_count": 23,
   "id": "2c8d16e7",
   "metadata": {},
   "outputs": [
    {
     "name": "stdout",
     "output_type": "stream",
     "text": [
      "()\n",
      "()\n",
      "(1, 2, 3)\n",
      "(1, 'Hello', 3.4)\n",
      "('mouse', [8, 4, 6], (1, 2, 3))\n",
      "(3.15, 5.6)\n"
     ]
    }
   ],
   "source": [
    "empty_tuple = ()\n",
    "print(empty_tuple)\n",
    "\n",
    "empty_tuple_2 = tuple()\n",
    "print(empty_tuple_2)\n",
    "\n",
    "\n",
    "tuple_num = (1, 2, 3)\n",
    "print(tuple_num)\n",
    "\n",
    "tuple_mixed = (1, \"Hello\", 3.4)\n",
    "print(tuple_mixed)\n",
    "\n",
    "tuple_mixed_2 = (\"mouse\", [8, 4, 6], (1, 2, 3))\n",
    "print(tuple_mixed_2)\n",
    "\n",
    "another_tuple = 3.15, 5.6\n",
    "print(another_tuple)"
   ]
  },
  {
   "cell_type": "code",
   "execution_count": 24,
   "id": "d69fbcf8",
   "metadata": {},
   "outputs": [
    {
     "name": "stdout",
     "output_type": "stream",
     "text": [
      "0\n",
      "0\n",
      "3\n",
      "3\n",
      "3\n",
      "2\n"
     ]
    }
   ],
   "source": [
    "print(len(empty_tuple))\n",
    "print(len(empty_tuple_2))\n",
    "print(len(tuple_num))\n",
    "print(len(tuple_mixed))\n",
    "print(len(tuple_mixed_2))\n",
    "print(len(another_tuple))"
   ]
  },
  {
   "cell_type": "markdown",
   "id": "680c4624",
   "metadata": {},
   "source": [
    "Indexing and slicing of tuples is similar to strings and lists (positive ane negative indixing)."
   ]
  },
  {
   "cell_type": "code",
   "execution_count": 25,
   "id": "5557960e",
   "metadata": {},
   "outputs": [
    {
     "name": "stdout",
     "output_type": "stream",
     "text": [
      "Hello\n"
     ]
    }
   ],
   "source": [
    "print(tuple_mixed[1])"
   ]
  },
  {
   "cell_type": "code",
   "execution_count": 26,
   "id": "a78a805a",
   "metadata": {},
   "outputs": [
    {
     "ename": "TypeError",
     "evalue": "'tuple' object does not support item assignment",
     "output_type": "error",
     "traceback": [
      "\u001b[0;31m---------------------------------------------------------------------------\u001b[0m",
      "\u001b[0;31mTypeError\u001b[0m                                 Traceback (most recent call last)",
      "\u001b[0;32m<ipython-input-26-0ec84766bba1>\u001b[0m in \u001b[0;36m<module>\u001b[0;34m\u001b[0m\n\u001b[0;32m----> 1\u001b[0;31m \u001b[0mtuple_mixed\u001b[0m\u001b[0;34m[\u001b[0m\u001b[0;36m2\u001b[0m\u001b[0;34m]\u001b[0m \u001b[0;34m=\u001b[0m \u001b[0;36m5.16\u001b[0m\u001b[0;34m\u001b[0m\u001b[0;34m\u001b[0m\u001b[0m\n\u001b[0m",
      "\u001b[0;31mTypeError\u001b[0m: 'tuple' object does not support item assignment"
     ]
    }
   ],
   "source": [
    "tuple_mixed[2] = 5.16"
   ]
  },
  {
   "cell_type": "markdown",
   "id": "06823b75",
   "metadata": {},
   "source": [
    "Tuples are immutable. However, if there's a list inside the tuples, items inside the nested list can be modified."
   ]
  },
  {
   "cell_type": "code",
   "execution_count": 28,
   "id": "7f8fba19",
   "metadata": {},
   "outputs": [
    {
     "name": "stdout",
     "output_type": "stream",
     "text": [
      "(1, 2, 3, [6, 5])\n",
      "(1, 2, 3, [4, 5])\n"
     ]
    }
   ],
   "source": [
    "tuple_list = (1, 2, 3, [6, 5])\n",
    "print(tuple_list)\n",
    "tuple_list[3][0] = 4   ## notice the mixed indexing\n",
    "print(tuple_list)"
   ]
  },
  {
   "cell_type": "code",
   "execution_count": 34,
   "id": "b97619eb",
   "metadata": {},
   "outputs": [
    {
     "name": "stdout",
     "output_type": "stream",
     "text": [
      "3.15\n",
      "5.6\n",
      "<class 'float'>\n"
     ]
    }
   ],
   "source": [
    "## assigning the values of a tuple to variables \n",
    "a, b = another_tuple\n",
    "print(a)\n",
    "print(b)\n",
    "print(type(a))"
   ]
  },
  {
   "cell_type": "code",
   "execution_count": 33,
   "id": "d22c1104",
   "metadata": {},
   "outputs": [
    {
     "name": "stdout",
     "output_type": "stream",
     "text": [
      "(3.15, 5.6)\n",
      "3.15\n",
      "5.6\n",
      "<class 'float'>\n"
     ]
    }
   ],
   "source": [
    "print(another_tuple)\n",
    "a = another_tuple[0]\n",
    "b = another_tuple[1]\n",
    "print(a)\n",
    "print(b)\n",
    "\n",
    "print(type(a))"
   ]
  },
  {
   "cell_type": "code",
   "execution_count": 30,
   "id": "c6bd905f",
   "metadata": {},
   "outputs": [
    {
     "name": "stdout",
     "output_type": "stream",
     "text": [
      "<class 'tuple'>\n",
      "<class 'int'>\n"
     ]
    }
   ],
   "source": [
    "## create a tuple with 1 item\n",
    "print(type(another_tuple))\n",
    "new_tuple = (0)\n",
    "print(type(new_tuple))"
   ]
  },
  {
   "cell_type": "code",
   "execution_count": 35,
   "id": "3344597c",
   "metadata": {},
   "outputs": [
    {
     "name": "stdout",
     "output_type": "stream",
     "text": [
      "<class 'tuple'>\n"
     ]
    }
   ],
   "source": [
    "new_tuple = (0,)\n",
    "print(type(new_tuple))"
   ]
  },
  {
   "cell_type": "markdown",
   "id": "72ce8f0d",
   "metadata": {},
   "source": [
    "Tuples methods:\n",
    "\n",
    "| Method | Description |\n",
    "| :----- | :---------- |\n",
    "| `.count()` | count the number of occurences of a value inside the tuple. |\n",
    "| `.index()` | Returns the index of the first occurence of a given value in the tuple.|"
   ]
  },
  {
   "cell_type": "markdown",
   "id": "de484eb8",
   "metadata": {},
   "source": [
    "**other operators with tuples**\n",
    "\n",
    "| operator | description |\n",
    "| :------- | :---------- |\n",
    "| tup1 `+` tup2 | concatenate two tuples|\n",
    "| tup `*` num | repeate tuple items a number of times |\n",
    "\n",
    "Try the following example."
   ]
  },
  {
   "cell_type": "code",
   "execution_count": 37,
   "id": "b0ed815d",
   "metadata": {},
   "outputs": [
    {
     "name": "stdout",
     "output_type": "stream",
     "text": [
      "(1, 2, 3, 0)\n"
     ]
    }
   ],
   "source": [
    "tup2 = tuple_num + new_tuple\n",
    "print(tup2)"
   ]
  },
  {
   "cell_type": "code",
   "execution_count": 38,
   "id": "5f9b5222",
   "metadata": {},
   "outputs": [
    {
     "name": "stdout",
     "output_type": "stream",
     "text": [
      "(1, 2, 3, 0, 1, 2, 3, 0, 1, 2, 3, 0, 1, 2, 3, 0, 1, 2, 3, 0)\n"
     ]
    }
   ],
   "source": [
    "tup3 = tup2 * 5 \n",
    "print(tup3)"
   ]
  },
  {
   "cell_type": "code",
   "execution_count": 39,
   "id": "e7e44868",
   "metadata": {},
   "outputs": [
    {
     "data": {
      "text/plain": [
       "[1, 2, 3, 1, 2, 3, 1, 2, 3, 1, 2, 3, 1, 2, 3]"
      ]
     },
     "execution_count": 39,
     "metadata": {},
     "output_type": "execute_result"
    }
   ],
   "source": [
    "[1,2,3]*5"
   ]
  },
  {
   "cell_type": "markdown",
   "id": "1499677c",
   "metadata": {},
   "source": [
    "#### Sets\n",
    "Sets are unordered (no-indexing) datatype that doesn't allow repetition of elemets (cannot have two elements of the same value). Sets are mutable (can be modified after creation).\n",
    "\n",
    "Sets can be defined either by curely brackets `{}` or by the `set()` function. Note that curely brackets cannot be used to create empty set."
   ]
  },
  {
   "cell_type": "code",
   "execution_count": 40,
   "id": "16f13529",
   "metadata": {},
   "outputs": [
    {
     "name": "stdout",
     "output_type": "stream",
     "text": [
      "{1, 2, 3}\n",
      "<class 'set'>\n",
      "{1, 2, 3, 4}\n"
     ]
    }
   ],
   "source": [
    "# set of integers\n",
    "my_set = {1, 2, 3}\n",
    "print(my_set)\n",
    "print(type(my_set))\n",
    "\n",
    "# no repetition \n",
    "my_set = {1, 2, 3, 4, 3, 2}\n",
    "print(my_set)"
   ]
  },
  {
   "cell_type": "code",
   "execution_count": 41,
   "id": "7a856a45",
   "metadata": {},
   "outputs": [
    {
     "name": "stdout",
     "output_type": "stream",
     "text": [
      "{1.0, 'Hello', (1, 2, 3)}\n"
     ]
    }
   ],
   "source": [
    "# set of mixed datatypes\n",
    "my_set = {1.0, \"Hello\", (1, 2, 3)}\n",
    "print(my_set)"
   ]
  },
  {
   "cell_type": "code",
   "execution_count": 42,
   "id": "5c401dbc",
   "metadata": {},
   "outputs": [
    {
     "ename": "TypeError",
     "evalue": "unhashable type: 'list'",
     "output_type": "error",
     "traceback": [
      "\u001b[0;31m---------------------------------------------------------------------------\u001b[0m",
      "\u001b[0;31mTypeError\u001b[0m                                 Traceback (most recent call last)",
      "\u001b[0;32m<ipython-input-42-1bd126c4e7db>\u001b[0m in \u001b[0;36m<module>\u001b[0;34m\u001b[0m\n\u001b[1;32m      1\u001b[0m \u001b[0;31m# set cannot have mutable items (no lists inside a set)\u001b[0m\u001b[0;34m\u001b[0m\u001b[0;34m\u001b[0m\u001b[0;34m\u001b[0m\u001b[0m\n\u001b[0;32m----> 2\u001b[0;31m \u001b[0mmy_set\u001b[0m \u001b[0;34m=\u001b[0m \u001b[0;34m{\u001b[0m\u001b[0;36m1\u001b[0m\u001b[0;34m,\u001b[0m \u001b[0;36m2\u001b[0m\u001b[0;34m,\u001b[0m \u001b[0;34m[\u001b[0m\u001b[0;36m3\u001b[0m\u001b[0;34m,\u001b[0m \u001b[0;36m4\u001b[0m\u001b[0;34m]\u001b[0m\u001b[0;34m}\u001b[0m\u001b[0;34m\u001b[0m\u001b[0;34m\u001b[0m\u001b[0m\n\u001b[0m",
      "\u001b[0;31mTypeError\u001b[0m: unhashable type: 'list'"
     ]
    }
   ],
   "source": [
    "# set cannot have mutable items (no lists inside a set)\n",
    "my_set = {1, 2, [3, 4]}"
   ]
  },
  {
   "cell_type": "code",
   "execution_count": 44,
   "id": "6831a416",
   "metadata": {},
   "outputs": [
    {
     "data": {
      "text/plain": [
       "dict"
      ]
     },
     "execution_count": 44,
     "metadata": {},
     "output_type": "execute_result"
    }
   ],
   "source": [
    "my_set = {}\n",
    "type(my_set)"
   ]
  },
  {
   "cell_type": "code",
   "execution_count": 43,
   "id": "0a6f8d56",
   "metadata": {},
   "outputs": [
    {
     "data": {
      "text/plain": [
       "set"
      ]
     },
     "execution_count": 43,
     "metadata": {},
     "output_type": "execute_result"
    }
   ],
   "source": [
    "my_set = set()\n",
    "type(my_set)"
   ]
  },
  {
   "cell_type": "markdown",
   "id": "c171330a",
   "metadata": {},
   "source": [
    "**Set metods:**\n",
    "\n",
    "| Method | Description |\n",
    "| :----- | :---------- |\n",
    "| `.add()` | to add an elemet to the set |\n",
    "| `.update()` | to add multiple elements to the set at once |\n",
    "| `.remove()` |  to remove an element from the set |\n",
    "| `.discard()` | to remove an element from the set without raising an error if the element was not found. |\n",
    "| `.pop()` | returns and removes a random element from the set |\n",
    "| `.clear()` | remove all elements from the set | \n",
    "\n",
    "**Other sets operations**\n",
    "\n",
    "| Operation | operator |\n",
    "| :----- | :---------- |\n",
    "| union | `A \\| B` or `A.union(B)` or `B.union(A)`|\n",
    "| intersection | `A & B` or `A.intersection(B)` or `B.intersection(A)` |\n",
    "| difference | `A - B` or `B - A` or `A.difference(B)` or `B.difference(A)`|\n",
    "| symmetric difference | `A ^ B` or `A.symmetric_difference(B)` or `B.symmetric_difference(A)`|\n",
    "\n",
    "symmetric difference (exclusive; unoin - intersection; difference between union and intersection)\n",
    "\n",
    "More about sets can be found here >> https://www.programiz.com/python-programming/set"
   ]
  },
  {
   "cell_type": "markdown",
   "id": "97575c15",
   "metadata": {},
   "source": [
    "### Task Time!\n",
    "1. write a Python script that takes a DNA sequence and print (iteratively) the codons in that sequence. How to handle the sequence if its length is not a multiple of 3?\n",
    "2. modify your code in part 1 to print, at the end, the extra bases that are not in codon if the length of the DNA sequence is not a multiple of 3.\n",
    "3. write a python script that takes a protein sequence and prints the unique amino acids in that sequence and percentage of each in the protein sequence.\n",
    "4. modify your code in part 3 to calculate the isoelectric point of that protein (search for the PI of each AA on Google)."
   ]
  },
  {
   "cell_type": "code",
   "execution_count": null,
   "id": "e0f35d11",
   "metadata": {},
   "outputs": [],
   "source": [
    "DNA = \"ACAGTCGACTAGCTTGCACGTAC\"\n",
    "DNA[0:3]\n",
    "DNA[3:6]\n",
    "DNA[6:9]"
   ]
  },
  {
   "cell_type": "code",
   "execution_count": 55,
   "id": "27c225ed",
   "metadata": {},
   "outputs": [
    {
     "name": "stdout",
     "output_type": "stream",
     "text": [
      "ACA\n",
      "GTC\n",
      "GAC\n",
      "TAG\n",
      "CTT\n",
      "GCA\n",
      "CGT\n",
      "not codon: AC\n"
     ]
    }
   ],
   "source": [
    "for i in range(0,len(DNA),3):\n",
    "    codon = DNA[i:i+3]\n",
    "    if len(codon) % 3 == 0:\n",
    "        print(codon)\n",
    "    else:\n",
    "        print(\"not codon:\", codon)"
   ]
  },
  {
   "cell_type": "code",
   "execution_count": 49,
   "id": "99b76e2c",
   "metadata": {},
   "outputs": [
    {
     "name": "stdout",
     "output_type": "stream",
     "text": [
      "ACA\n",
      "GTC\n",
      "GAC\n",
      "TAG\n",
      "CTT\n",
      "GCA\n",
      "CGT\n"
     ]
    }
   ],
   "source": [
    "for i in range(0,len(DNA)//3,1):\n",
    "    codon = DNA[i*3:i*3+3]\n",
    "    print(codon)"
   ]
  },
  {
   "cell_type": "code",
   "execution_count": 50,
   "id": "7b6a2996",
   "metadata": {},
   "outputs": [
    {
     "name": "stdout",
     "output_type": "stream",
     "text": [
      "ACA\n",
      "GTC\n",
      "GAC\n",
      "TAG\n",
      "CTT\n",
      "GCA\n",
      "CGT\n"
     ]
    }
   ],
   "source": [
    "for i in range(0,len(DNA)//3*3,3):\n",
    "    codon = DNA[i:i+3]\n",
    "    print(codon)"
   ]
  },
  {
   "cell_type": "code",
   "execution_count": 52,
   "id": "9759d1f3",
   "metadata": {},
   "outputs": [
    {
     "name": "stdout",
     "output_type": "stream",
     "text": [
      "['ACA', 'GTC', 'GAC', 'TAG', 'CTT', 'GCA', 'CGT']\n"
     ]
    }
   ],
   "source": [
    "codons = []\n",
    "for i in range(0,len(DNA)//3*3,3):\n",
    "    codon = DNA[i:i+3]\n",
    "    codons.append(codon)\n",
    "    \n",
    "print(codons)"
   ]
  },
  {
   "cell_type": "code",
   "execution_count": 56,
   "id": "2bdd9685",
   "metadata": {},
   "outputs": [
    {
     "name": "stdout",
     "output_type": "stream",
     "text": [
      "['ACA', 'GTC', 'GAC', 'TAG', 'CTT', 'GCA', 'CGT']\n"
     ]
    }
   ],
   "source": [
    "codons = []\n",
    "for i in range(0,len(DNA)//3*3,3):\n",
    "    codons.append(DNA[i:i+3])\n",
    "print(codons)"
   ]
  },
  {
   "cell_type": "code",
   "execution_count": 57,
   "id": "2982c0f8",
   "metadata": {},
   "outputs": [
    {
     "name": "stdout",
     "output_type": "stream",
     "text": [
      "['ACA', 'GTC', 'GAC', 'TAG', 'CTT', 'GCA', 'CGT']\n"
     ]
    }
   ],
   "source": [
    "codons = [DNA[i:i+3] for i in range(0,len(DNA)//3*3,3)]\n",
    "print(codons)"
   ]
  },
  {
   "cell_type": "markdown",
   "id": "43876f1e",
   "metadata": {},
   "source": [
    "```python\n",
    "[expression for item in sequence]\n",
    "```"
   ]
  }
 ],
 "metadata": {
  "kernelspec": {
   "display_name": "Python 3",
   "language": "python",
   "name": "python3"
  },
  "language_info": {
   "codemirror_mode": {
    "name": "ipython",
    "version": 3
   },
   "file_extension": ".py",
   "mimetype": "text/x-python",
   "name": "python",
   "nbconvert_exporter": "python",
   "pygments_lexer": "ipython3",
   "version": "3.9.4"
  }
 },
 "nbformat": 4,
 "nbformat_minor": 5
}
