{
 "cells": [
  {
   "cell_type": "markdown",
   "id": "f3d6ef7f",
   "metadata": {},
   "source": [
    "# CIT656 - Spring 2021\n",
    "## Lab 5 - May 09, 2021\n",
    "1. Dictionaries\n",
    "2. loops with dictionaries\n",
    "3. Functions in Python\n",
    "\n",
    "**Taks**\n",
    "1. Central Dogma part II: translation\n",
    "2. Finding ORFs in DNA sequence\n",
    "3. Primer design tool\n",
    "4. selection tool for restriction enzymes (that cuts at the ned of a gene but not inside the gene)"
   ]
  }
 ],
 "metadata": {
  "kernelspec": {
   "display_name": "Python 3",
   "language": "python",
   "name": "python3"
  },
  "language_info": {
   "codemirror_mode": {
    "name": "ipython",
    "version": 3
   },
   "file_extension": ".py",
   "mimetype": "text/x-python",
   "name": "python",
   "nbconvert_exporter": "python",
   "pygments_lexer": "ipython3",
   "version": "3.9.4"
  }
 },
 "nbformat": 4,
 "nbformat_minor": 5
}
